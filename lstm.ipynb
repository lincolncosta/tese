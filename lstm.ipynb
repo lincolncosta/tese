{
 "cells": [
  {
   "cell_type": "code",
   "execution_count": 1,
   "metadata": {},
   "outputs": [],
   "source": [
    "import pandas as pd\n",
    "import numpy as np\n",
    "import matplotlib.pyplot as plt\n",
    "\n",
    "import keras\n",
    "\n",
    "from keras.layers import LSTM, Dropout, Dense\n",
    "from keras.utils import to_categorical\n",
    "\n",
    "from sklearn.preprocessing import OneHotEncoder\n",
    "from sklearn.model_selection import train_test_split"
   ]
  },
  {
   "cell_type": "code",
   "execution_count": 2,
   "metadata": {},
   "outputs": [],
   "source": [
    "events_dict = {\n",
    "    'BLUE: first_blood': 0,\n",
    "    'BLUE: dragon': 1,\n",
    "    'BLUE: herald': 2,\n",
    "    'BLUE: first_tower_top': 3,\n",
    "    'BLUE: first_tower_mid': 4,\n",
    "    'BLUE: first_tower_bot': 5,\n",
    "    'BLUE: second_tower_top': 6,\n",
    "    'BLUE: second_tower_mid': 7,\n",
    "    'BLUE: second_tower_bot': 8,\n",
    "    'BLUE: third_tower_top': 9,\n",
    "    'BLUE: third_tower_mid': 10,\n",
    "    'BLUE: third_tower_bot': 11,\n",
    "    'BLUE: inhibitor_top': 12,\n",
    "    'BLUE: inhibitor_mid': 13,\n",
    "    'BLUE: inhibitor_bot': 14,\n",
    "    'BLUE: baron': 15,\n",
    "    'BLUE: elder_dragon': 16,\n",
    "    'BLUE: nexus_tower': 17,\n",
    "    'BLUE: nexus': 18,\n",
    "    'RED: first_blood': 19,\n",
    "    'RED: dragon': 20,\n",
    "    'RED: herald': 21,\n",
    "    'RED: first_tower_top': 22,\n",
    "    'RED: first_tower_mid': 23,\n",
    "    'RED: first_tower_bot': 24,\n",
    "    'RED: second_tower_top': 25,\n",
    "    'RED: second_tower_mid': 26,\n",
    "    'RED: second_tower_bot': 27,\n",
    "    'RED: third_tower_top': 28,\n",
    "    'RED: third_tower_mid': 29,\n",
    "    'RED: third_tower_bot': 30,\n",
    "    'RED: inhibitor_top': 31,\n",
    "    'RED: inhibitor_mid': 32,\n",
    "    'RED: inhibitor_bot': 33,\n",
    "    'RED: baron': 34,\n",
    "    'RED: elder_dragon': 35,\n",
    "    'RED: nexus_tower': 36,\n",
    "    'RED: nexus': 37\n",
    "}\n",
    "\n",
    "n_in = 6\n",
    "df = pd.read_csv('data/clean-one-line.csv')\n",
    "df = df.drop('golId', axis=1)\n",
    "data = df.values.tolist()\n",
    "\n",
    "for game in data:\n",
    "    for i, s in enumerate(game):\n",
    "        if s in events_dict:\n",
    "            game[i] = events_dict.get(s)\n",
    "\n",
    "sequence = [b for b in data if not(isinstance(b, float))]\n",
    "sequence = [[x for x in y if not np.isnan(x)] for y in sequence]"
   ]
  },
  {
   "cell_type": "code",
   "execution_count": 3,
   "metadata": {},
   "outputs": [],
   "source": [
    "def splitSequence(games, n_steps_in, n_steps_out=1):\n",
    "    X, Y = [], []\n",
    "    \n",
    "    for sequence in games:\n",
    "        for i in range(len(sequence)):\n",
    "            # find the end of this pattern\n",
    "            end_ix = i + n_steps_in\n",
    "            out_end_ix = end_ix + n_steps_out\n",
    "            # check if we are beyond the sequence\n",
    "            if out_end_ix > len(sequence):\n",
    "                break\n",
    "            # gather input and output parts of the pattern\n",
    "            seq_x, seq_y = sequence[i:end_ix], sequence[end_ix:out_end_ix]\n",
    "            X.append(seq_x)\n",
    "            Y.append(seq_y)\n",
    "\t\n",
    "    return X, Y\n",
    "\n",
    "def prepare_inputs(X_train, X_test):\n",
    "\tohe = OneHotEncoder()\n",
    "\tohe.fit(X_train)\n",
    "\tX_train_enc = ohe.transform(X_train)\n",
    "\tX_test_enc = ohe.transform(X_test)\n",
    "\treturn X_train_enc, X_test_enc"
   ]
  },
  {
   "cell_type": "code",
   "execution_count": 4,
   "metadata": {},
   "outputs": [
    {
     "data": {
      "text/plain": [
       "59218"
      ]
     },
     "execution_count": 4,
     "metadata": {},
     "output_type": "execute_result"
    }
   ],
   "source": [
    "train, y_train = splitSequence(sequence, n_in)\n",
    "len(train)"
   ]
  },
  {
   "cell_type": "code",
   "execution_count": 5,
   "metadata": {},
   "outputs": [
    {
     "data": {
      "text/plain": [
       "[19, 1, 2, 1, 3, 24]"
      ]
     },
     "execution_count": 5,
     "metadata": {},
     "output_type": "execute_result"
    }
   ],
   "source": [
    "train[0]"
   ]
  },
  {
   "cell_type": "code",
   "execution_count": 6,
   "metadata": {},
   "outputs": [],
   "source": [
    "df_train = pd.DataFrame({'event_1': [],\n",
    "                   'event_2': [],\n",
    "                   'event_3': [],\n",
    "                   'event_4': [],\n",
    "                   'event_5': [],\n",
    "                   'event_6': [],\n",
    "                   'target': []})"
   ]
  },
  {
   "cell_type": "code",
   "execution_count": 7,
   "metadata": {},
   "outputs": [],
   "source": [
    "for index, train_row in enumerate(train):\n",
    "    event_1 = train_row[0]\n",
    "    event_2 = train_row[1]\n",
    "    event_3 = train_row[2]\n",
    "    event_4 = train_row[3]\n",
    "    event_5 = train_row[4]\n",
    "    event_6 = train_row[5]\n",
    "    df_train.loc[len(df_train.index)] = [event_1, event_2, event_3, event_4, event_5, event_6, y_train[index][0]]"
   ]
  },
  {
   "cell_type": "code",
   "execution_count": 8,
   "metadata": {},
   "outputs": [
    {
     "data": {
      "text/html": [
       "<div>\n",
       "<style scoped>\n",
       "    .dataframe tbody tr th:only-of-type {\n",
       "        vertical-align: middle;\n",
       "    }\n",
       "\n",
       "    .dataframe tbody tr th {\n",
       "        vertical-align: top;\n",
       "    }\n",
       "\n",
       "    .dataframe thead th {\n",
       "        text-align: right;\n",
       "    }\n",
       "</style>\n",
       "<table border=\"1\" class=\"dataframe\">\n",
       "  <thead>\n",
       "    <tr style=\"text-align: right;\">\n",
       "      <th></th>\n",
       "      <th>event_1</th>\n",
       "      <th>event_2</th>\n",
       "      <th>event_3</th>\n",
       "      <th>event_4</th>\n",
       "      <th>event_5</th>\n",
       "      <th>event_6</th>\n",
       "      <th>target</th>\n",
       "    </tr>\n",
       "  </thead>\n",
       "  <tbody>\n",
       "    <tr>\n",
       "      <th>0</th>\n",
       "      <td>19.0</td>\n",
       "      <td>1.0</td>\n",
       "      <td>2.0</td>\n",
       "      <td>1.0</td>\n",
       "      <td>3.0</td>\n",
       "      <td>24.0</td>\n",
       "      <td>2.0</td>\n",
       "    </tr>\n",
       "    <tr>\n",
       "      <th>1</th>\n",
       "      <td>1.0</td>\n",
       "      <td>2.0</td>\n",
       "      <td>1.0</td>\n",
       "      <td>3.0</td>\n",
       "      <td>24.0</td>\n",
       "      <td>2.0</td>\n",
       "      <td>23.0</td>\n",
       "    </tr>\n",
       "    <tr>\n",
       "      <th>2</th>\n",
       "      <td>2.0</td>\n",
       "      <td>1.0</td>\n",
       "      <td>3.0</td>\n",
       "      <td>24.0</td>\n",
       "      <td>2.0</td>\n",
       "      <td>23.0</td>\n",
       "      <td>6.0</td>\n",
       "    </tr>\n",
       "    <tr>\n",
       "      <th>3</th>\n",
       "      <td>1.0</td>\n",
       "      <td>3.0</td>\n",
       "      <td>24.0</td>\n",
       "      <td>2.0</td>\n",
       "      <td>23.0</td>\n",
       "      <td>6.0</td>\n",
       "      <td>1.0</td>\n",
       "    </tr>\n",
       "    <tr>\n",
       "      <th>4</th>\n",
       "      <td>3.0</td>\n",
       "      <td>24.0</td>\n",
       "      <td>2.0</td>\n",
       "      <td>23.0</td>\n",
       "      <td>6.0</td>\n",
       "      <td>1.0</td>\n",
       "      <td>5.0</td>\n",
       "    </tr>\n",
       "  </tbody>\n",
       "</table>\n",
       "</div>"
      ],
      "text/plain": [
       "   event_1  event_2  event_3  event_4  event_5  event_6  target\n",
       "0     19.0      1.0      2.0      1.0      3.0     24.0     2.0\n",
       "1      1.0      2.0      1.0      3.0     24.0      2.0    23.0\n",
       "2      2.0      1.0      3.0     24.0      2.0     23.0     6.0\n",
       "3      1.0      3.0     24.0      2.0     23.0      6.0     1.0\n",
       "4      3.0     24.0      2.0     23.0      6.0      1.0     5.0"
      ]
     },
     "execution_count": 8,
     "metadata": {},
     "output_type": "execute_result"
    }
   ],
   "source": [
    "df_train.head()"
   ]
  },
  {
   "cell_type": "code",
   "execution_count": 9,
   "metadata": {},
   "outputs": [],
   "source": [
    "y_train = df_train['target'].copy()\n",
    "X_train = df_train.drop(['target'], axis=1)"
   ]
  },
  {
   "cell_type": "code",
   "execution_count": 10,
   "metadata": {},
   "outputs": [
    {
     "name": "stdout",
     "output_type": "stream",
     "text": [
      "Epoch 1/35\n",
      "1573/1573 [==============================] - 18s 9ms/step - loss: 88.2224 - accuracy: 0.0732 - val_loss: 74.7807 - val_accuracy: 0.0778\n",
      "Epoch 2/35\n",
      "1573/1573 [==============================] - 14s 9ms/step - loss: 76.5345 - accuracy: 0.0733 - val_loss: 73.7172 - val_accuracy: 0.0778\n",
      "Epoch 3/35\n",
      "1573/1573 [==============================] - 14s 9ms/step - loss: 75.7809 - accuracy: 0.0733 - val_loss: 74.4810 - val_accuracy: 0.0778\n",
      "Epoch 4/35\n",
      "1573/1573 [==============================] - 17s 11ms/step - loss: 75.3285 - accuracy: 0.0733 - val_loss: 72.6326 - val_accuracy: 0.0778\n",
      "Epoch 5/35\n",
      "1573/1573 [==============================] - 16s 10ms/step - loss: 75.1639 - accuracy: 0.0733 - val_loss: 71.9895 - val_accuracy: 0.0778\n",
      "Epoch 6/35\n",
      "1573/1573 [==============================] - 15s 10ms/step - loss: 74.6700 - accuracy: 0.0733 - val_loss: 71.9861 - val_accuracy: 0.0778\n",
      "Epoch 7/35\n",
      "1573/1573 [==============================] - 15s 9ms/step - loss: 74.3485 - accuracy: 0.0733 - val_loss: 71.2159 - val_accuracy: 0.0778\n",
      "Epoch 8/35\n",
      "1573/1573 [==============================] - 16s 10ms/step - loss: 74.1314 - accuracy: 0.0733 - val_loss: 74.1423 - val_accuracy: 0.0778\n",
      "Epoch 9/35\n",
      "1573/1573 [==============================] - 16s 10ms/step - loss: 74.0510 - accuracy: 0.0733 - val_loss: 71.2489 - val_accuracy: 0.0778\n",
      "Epoch 10/35\n",
      "1573/1573 [==============================] - 16s 10ms/step - loss: 73.9496 - accuracy: 0.0733 - val_loss: 71.0302 - val_accuracy: 0.0778\n",
      "Epoch 11/35\n",
      "1573/1573 [==============================] - 22s 14ms/step - loss: 73.3410 - accuracy: 0.0733 - val_loss: 70.8844 - val_accuracy: 0.0778\n",
      "Epoch 12/35\n",
      "1573/1573 [==============================] - 15s 10ms/step - loss: 73.1397 - accuracy: 0.0733 - val_loss: 71.8194 - val_accuracy: 0.0778\n",
      "Epoch 13/35\n",
      "1573/1573 [==============================] - 16s 10ms/step - loss: 73.1184 - accuracy: 0.0733 - val_loss: 70.6530 - val_accuracy: 0.0778\n",
      "Epoch 14/35\n",
      "1573/1573 [==============================] - 17s 11ms/step - loss: 72.9706 - accuracy: 0.0733 - val_loss: 72.4156 - val_accuracy: 0.0778\n",
      "Epoch 15/35\n",
      "1573/1573 [==============================] - 17s 11ms/step - loss: 72.5400 - accuracy: 0.0733 - val_loss: 70.4538 - val_accuracy: 0.0778\n",
      "Epoch 16/35\n",
      "1573/1573 [==============================] - 16s 10ms/step - loss: 72.4565 - accuracy: 0.0733 - val_loss: 70.7230 - val_accuracy: 0.0778\n",
      "Epoch 17/35\n",
      "1573/1573 [==============================] - 18s 11ms/step - loss: 72.0765 - accuracy: 0.0733 - val_loss: 70.6518 - val_accuracy: 0.0778\n",
      "Epoch 18/35\n",
      "1573/1573 [==============================] - 16s 10ms/step - loss: 71.9877 - accuracy: 0.0733 - val_loss: 70.1425 - val_accuracy: 0.0778\n",
      "Epoch 19/35\n",
      "1573/1573 [==============================] - 16s 10ms/step - loss: 71.8983 - accuracy: 0.0733 - val_loss: 70.1325 - val_accuracy: 0.0778\n",
      "Epoch 20/35\n",
      "1573/1573 [==============================] - 17s 11ms/step - loss: 71.6094 - accuracy: 0.0733 - val_loss: 70.4058 - val_accuracy: 0.0778\n",
      "Epoch 21/35\n",
      "1573/1573 [==============================] - 16s 10ms/step - loss: 71.4102 - accuracy: 0.0733 - val_loss: 70.3899 - val_accuracy: 0.0778\n",
      "Epoch 22/35\n",
      "1573/1573 [==============================] - 17s 11ms/step - loss: 71.2982 - accuracy: 0.0733 - val_loss: 70.7862 - val_accuracy: 0.0778\n",
      "Epoch 23/35\n",
      "1573/1573 [==============================] - 16s 10ms/step - loss: 71.1186 - accuracy: 0.0733 - val_loss: 70.2003 - val_accuracy: 0.0778\n",
      "Epoch 24/35\n",
      "1573/1573 [==============================] - 15s 10ms/step - loss: 70.9111 - accuracy: 0.0733 - val_loss: 70.5061 - val_accuracy: 0.0778\n",
      "Epoch 25/35\n",
      "1573/1573 [==============================] - 15s 10ms/step - loss: 70.8980 - accuracy: 0.0733 - val_loss: 70.2524 - val_accuracy: 0.0778\n",
      "Epoch 26/35\n",
      "1573/1573 [==============================] - 16s 10ms/step - loss: 70.8289 - accuracy: 0.0733 - val_loss: 70.4631 - val_accuracy: 0.0778\n",
      "Epoch 27/35\n",
      "1573/1573 [==============================] - 15s 10ms/step - loss: 70.4839 - accuracy: 0.0733 - val_loss: 71.4373 - val_accuracy: 0.0778\n",
      "Epoch 28/35\n",
      "1573/1573 [==============================] - 16s 10ms/step - loss: 70.2736 - accuracy: 0.0733 - val_loss: 70.7161 - val_accuracy: 0.0778\n",
      "Epoch 29/35\n",
      "1573/1573 [==============================] - 16s 10ms/step - loss: 70.1553 - accuracy: 0.0733 - val_loss: 70.2303 - val_accuracy: 0.0778\n",
      "Epoch 30/35\n",
      "1573/1573 [==============================] - 16s 10ms/step - loss: 70.2106 - accuracy: 0.0733 - val_loss: 70.8465 - val_accuracy: 0.0778\n",
      "Epoch 31/35\n",
      "1573/1573 [==============================] - 17s 11ms/step - loss: 70.0197 - accuracy: 0.0733 - val_loss: 70.3829 - val_accuracy: 0.0778\n",
      "Epoch 32/35\n",
      "1573/1573 [==============================] - 16s 10ms/step - loss: 69.5196 - accuracy: 0.0733 - val_loss: 70.5692 - val_accuracy: 0.0778\n",
      "Epoch 33/35\n",
      "1573/1573 [==============================] - 17s 11ms/step - loss: 69.4754 - accuracy: 0.0733 - val_loss: 70.7701 - val_accuracy: 0.0778\n",
      "Epoch 34/35\n",
      "1573/1573 [==============================] - 16s 10ms/step - loss: 69.3840 - accuracy: 0.0733 - val_loss: 70.9996 - val_accuracy: 0.0778\n",
      "Epoch 35/35\n",
      "1573/1573 [==============================] - 17s 11ms/step - loss: 69.1787 - accuracy: 0.0733 - val_loss: 70.8902 - val_accuracy: 0.0778\n"
     ]
    }
   ],
   "source": [
    "model = keras.Sequential()\n",
    "\n",
    "model.add(LSTM(units = 100, return_sequences = True, input_shape = (6, 1)))\n",
    "model.add(Dropout(0.2))\n",
    "\n",
    "model.add(LSTM(units = 100))\n",
    "model.add(Dropout(0.2))\n",
    "\n",
    "# Output layer\n",
    "model.add(Dense(units = 1))\n",
    "\n",
    "# Compiling the model\n",
    "model.compile(optimizer = 'adam', loss = 'mean_squared_error', metrics=['accuracy'])\n",
    "\n",
    "# Fitting the model to the Training set\n",
    "history = model.fit(X_train, y_train, epochs = 35, batch_size = 32, validation_split=.15)"
   ]
  },
  {
   "cell_type": "code",
   "execution_count": 11,
   "metadata": {},
   "outputs": [
    {
     "data": {
      "image/png": "[encoded data removed]",
      "text/plain": [
       "<Figure size 432x288 with 1 Axes>"
      ]
     },
     "metadata": {
      "needs_background": "light"
     },
     "output_type": "display_data"
    }
   ],
   "source": [
    "# Plot training & validation loss values\n",
    "plt.plot(history.history['loss'])\n",
    "plt.plot(history.history['val_loss'])\n",
    "plt.title('Model loss')\n",
    "plt.ylabel('Loss')\n",
    "plt.xlabel('Epoch')\n",
    "plt.legend(['Train', 'Test'], loc='upper left')\n",
    "plt.show()"
   ]
  }
 ],
 "metadata": {
  "kernelspec": {
   "display_name": "Python 3.7.7 64-bit",
   "language": "python",
   "name": "python3"
  },
  "language_info": {
   "codemirror_mode": {
    "name": "ipython",
    "version": 3
   },
   "file_extension": ".py",
   "mimetype": "text/x-python",
   "name": "python",
   "nbconvert_exporter": "python",
   "pygments_lexer": "ipython3",
   "version": "3.7.7"
  },
  "orig_nbformat": 4,
  "vscode": {
   "interpreter": {
    "hash": "11bbcf57d79407485a8d65c6cc737ca9d49c6f1d1b34c1ae2a5e6f49b42ea89b"
   }
  }
 },
 "nbformat": 4,
 "nbformat_minor": 2
}

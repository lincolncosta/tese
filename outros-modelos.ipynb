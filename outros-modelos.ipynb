{
 "cells": [
  {
   "cell_type": "code",
   "execution_count": 47,
   "metadata": {},
   "outputs": [],
   "source": [
    "# importando as bibliotecas necessárias para rodar o script\n",
    "\n",
    "# manipulação de números de ponto flutuante\n",
    "import numpy as np\n",
    "\n",
    "# plotagem de gráficos\n",
    "import matplotlib.pyplot as plt\n",
    "\n",
    "# criação manipulação de data frames\n",
    "import pandas as pd\n",
    "\n",
    "# funções matemáticas\n",
    "import math\n",
    "\n",
    "# criação dos modelos de DL\n",
    "from keras.models import Sequential\n",
    "from keras.layers import Dense\n",
    "from keras.layers import LSTM\n",
    "\n",
    "# preprocessador - escalar os dados\n",
    "from sklearn.preprocessing import MinMaxScaler\n",
    "\n",
    "# metrica de desempenho (MSE)\n",
    "from sklearn.metrics import mean_squared_error"
   ]
  },
  {
   "cell_type": "code",
   "execution_count": 48,
   "metadata": {},
   "outputs": [],
   "source": [
    "events_dict = {\n",
    "    'BLUE: first_blood': 0,\n",
    "    'BLUE: dragon': 1,\n",
    "    'BLUE: herald': 2,\n",
    "    'BLUE: first_tower_top': 3,\n",
    "    'BLUE: first_tower_mid': 4,\n",
    "    'BLUE: first_tower_bot': 5,\n",
    "    'BLUE: second_tower_top': 6,\n",
    "    'BLUE: second_tower_mid': 7,\n",
    "    'BLUE: second_tower_bot': 8,\n",
    "    'BLUE: third_tower_top': 9,\n",
    "    'BLUE: third_tower_mid': 10,\n",
    "    'BLUE: third_tower_bot': 11,\n",
    "    'BLUE: inhibitor_top': 12,\n",
    "    'BLUE: inhibitor_mid': 13,\n",
    "    'BLUE: inhibitor_bot': 14,\n",
    "    'BLUE: baron': 15,\n",
    "    'BLUE: elder_dragon': 16,\n",
    "    'BLUE: nexus_tower': 17,\n",
    "    'BLUE: nexus': 18,\n",
    "    'RED: first_blood': 19,\n",
    "    'RED: dragon': 20,\n",
    "    'RED: herald': 21,\n",
    "    'RED: first_tower_top': 22,\n",
    "    'RED: first_tower_mid': 23,\n",
    "    'RED: first_tower_bot': 24,\n",
    "    'RED: second_tower_top': 25,\n",
    "    'RED: second_tower_mid': 26,\n",
    "    'RED: second_tower_bot': 27,\n",
    "    'RED: third_tower_top': 28,\n",
    "    'RED: third_tower_mid': 29,\n",
    "    'RED: third_tower_bot': 30,\n",
    "    'RED: inhibitor_top': 31,\n",
    "    'RED: inhibitor_mid': 32,\n",
    "    'RED: inhibitor_bot': 33,\n",
    "    'RED: baron': 34,\n",
    "    'RED: elder_dragon': 35,\n",
    "    'RED: nexus_tower': 36,\n",
    "    'RED: nexus': 37\n",
    "}\n",
    "\n",
    "df = pd.read_csv('data/clean-one-line.csv')\n",
    "df = df.drop('game', axis=1)\n",
    "data = df.values.tolist()\n",
    "\n",
    "for game in data:\n",
    "    for i, s in enumerate(game):\n",
    "        if s in events_dict:\n",
    "            game[i] = events_dict.get(s)\n",
    "        else:\n",
    "            del game[i]\n",
    "\n",
    "for game in data:\n",
    "    game = [item for item in game if not(math.isnan(item)) == True]\n",
    "\n",
    "data = [[x for x in y if not np.isnan(x)] for y in data]\n",
    "\n",
    "dataArray = []\n",
    "\n",
    "for game in data:\n",
    "    dataArray += game"
   ]
  },
  {
   "cell_type": "code",
   "execution_count": 49,
   "metadata": {},
   "outputs": [
    {
     "name": "stdout",
     "output_type": "stream",
     "text": [
      "\n",
      "* Dimensão dos dados: (4674, 1)\n",
      "* Dados originais:\n",
      "[[19.]\n",
      " [ 2.]\n",
      " [ 3.]\n",
      " [20.]\n",
      " [21.]\n",
      " [ 4.]\n",
      " [ 5.]\n",
      " [20.]\n",
      " [23.]\n",
      " [34.]]\n"
     ]
    }
   ],
   "source": [
    "df = pd.read_csv('data/clean-one-line.csv')\n",
    "df = df.drop('game', axis=1)\n",
    "data = df.values.tolist()\n",
    "\n",
    "for game in data:\n",
    "    for i, s in enumerate(game):\n",
    "        if s in events_dict:\n",
    "            game[i] = events_dict.get(s)\n",
    "        else:\n",
    "            del game[i]\n",
    "\n",
    "for game in data:\n",
    "    game = [item for item in game if not(math.isnan(item)) == True]\n",
    "\n",
    "data = [[x for x in y if not np.isnan(x)] for y in data]\n",
    "dataArray = []\n",
    "\n",
    "for game in data:\n",
    "    dataArray += game\n",
    "\n",
    "dataframe = pd.DataFrame(dataArray)\n",
    "dataset = dataframe.values\n",
    "dataset = dataset.astype('float32')\n",
    "\n",
    "# vislumbrar um pedaço dos dados e formato lido\n",
    "print(\"\\n* Dimensão dos dados:\", dataset.shape) \n",
    "# 36 amostras/instâncias, univariadas (um único valor real)\n",
    "print(\"* Dados originais:\")\n",
    "print(dataset[:10])"
   ]
  },
  {
   "cell_type": "code",
   "execution_count": 50,
   "metadata": {},
   "outputs": [],
   "source": [
    "# funcao auxiliar para criar os itervalos de previsao\n",
    "# é a mesma que usamos no exemplo anterior\n",
    "def create_dataset(dataset, janela_previsao=1):\n",
    "    dataX, dataY = [], []\n",
    "    for i in range(len(dataset)-janela_previsao-1):\n",
    "        a = dataset[i:(i+janela_previsao), 0]\n",
    "        dataX.append(a)\n",
    "        dataY.append(dataset[i + janela_previsao, 0])\n",
    "    return np.array(dataX), np.array(dataY)"
   ]
  },
  {
   "cell_type": "code",
   "execution_count": 51,
   "metadata": {},
   "outputs": [
    {
     "data": {
      "text/plain": [
       "[<matplotlib.lines.Line2D at 0x19faf242088>]"
      ]
     },
     "execution_count": 51,
     "metadata": {},
     "output_type": "execute_result"
    },
    {
     "data": {
      "image/png": "[encoded data removed]",
      "text/plain": [
       "<Figure size 432x288 with 1 Axes>"
      ]
     },
     "metadata": {
      "needs_background": "light"
     },
     "output_type": "display_data"
    }
   ],
   "source": [
    "# plotar os dados para visualizar a nossa time series\n",
    "plt.plot(dataset, linestyle='--', marker='o', color='b')"
   ]
  },
  {
   "cell_type": "code",
   "execution_count": 52,
   "metadata": {},
   "outputs": [
    {
     "name": "stdout",
     "output_type": "stream",
     "text": [
      "* Dados escalados:\n",
      "[[ 0.02702701 -0.8918919  -0.8378378   0.08108115  0.13513517 -0.7837838\n",
      "  -0.7297297   0.08108115  0.24324322  0.83783793]]\n"
     ]
    }
   ],
   "source": [
    "# Normalizando os dados\n",
    "\n",
    "# escalar os dados no intervalo [-1,1] usando sklearn\n",
    "# from sklearn.preprocessing import MinMaxScaler\n",
    "\n",
    "scaler = MinMaxScaler(feature_range=(-1, 1))\n",
    "dataset = scaler.fit_transform(dataset)\n",
    "\n",
    "print(\"* Dados escalados:\")\n",
    "print(dataset[:10].transpose())"
   ]
  },
  {
   "cell_type": "code",
   "execution_count": 53,
   "metadata": {},
   "outputs": [
    {
     "data": {
      "text/plain": [
       "[<matplotlib.lines.Line2D at 0x19fb13c05c8>]"
      ]
     },
     "execution_count": 53,
     "metadata": {},
     "output_type": "execute_result"
    },
    {
     "data": {
      "image/png": "[encoded data removed]",
      "text/plain": [
       "<Figure size 432x288 with 1 Axes>"
      ]
     },
     "metadata": {
      "needs_background": "light"
     },
     "output_type": "display_data"
    }
   ],
   "source": [
    "# visualizar nossos dados escalados\n",
    "# Obs: prestar atenção ao eixo Y, agora varia entre [-1,+1]\n",
    "plt.plot(dataset, linestyle='--', marker='o', color='b')"
   ]
  },
  {
   "cell_type": "code",
   "execution_count": 54,
   "metadata": {},
   "outputs": [
    {
     "name": "stdout",
     "output_type": "stream",
     "text": [
      "- Numero de instâncias treino:  3739\n",
      "- Numero de instâncias teste:  935\n"
     ]
    }
   ],
   "source": [
    "# Ajustando conjunto de treino e teste\n",
    "# 80% dos exemplos no treino, 20% no teste\n",
    "train_size = int(len(dataset) * 0.80)\n",
    "test_size  = len(dataset) - train_size\n",
    "\n",
    "#print(train_size, test_size)\n",
    "print(\"- Numero de instâncias treino: \", train_size)\n",
    "print(\"- Numero de instâncias teste: \", test_size)"
   ]
  },
  {
   "cell_type": "code",
   "execution_count": 55,
   "metadata": {},
   "outputs": [
    {
     "name": "stdout",
     "output_type": "stream",
     "text": [
      "* Conjunto de Treinamento: (3739, 1)\n",
      "* Conjunto de Teste: (935, 1)\n"
     ]
    }
   ],
   "source": [
    "# Conjunto de treinamento - amostras de 0-29\n",
    "# Conjunto de teste - amostras de 30-35\n",
    "train, test = dataset[0:train_size,:], dataset[train_size:len(dataset),:]\n",
    "\n",
    "print(\"* Conjunto de Treinamento:\", train.shape)\n",
    "#print(train)\n",
    "\n",
    "print(\"* Conjunto de Teste:\", test.shape)\n",
    "#print(test)"
   ]
  },
  {
   "cell_type": "code",
   "execution_count": 56,
   "metadata": {},
   "outputs": [],
   "source": [
    "# reshape em X=t and Y=t+1\n",
    "# isto é, criando dados no padrão DF = [X|Y]\n",
    "# para cada X, o Y = X+1\n",
    "\n",
    "janela_previsao = 1\n",
    "trainX, trainY = create_dataset(train, janela_previsao)"
   ]
  },
  {
   "cell_type": "code",
   "execution_count": 57,
   "metadata": {},
   "outputs": [],
   "source": [
    "# reshape em X=t and Y=t+1 para o conjunto de teste\n",
    "\n",
    "testX, testY  = create_dataset(test, janela_previsao)"
   ]
  },
  {
   "cell_type": "code",
   "execution_count": 58,
   "metadata": {},
   "outputs": [],
   "source": [
    "# Ajustando os conjunto de treino (trainX) e teste (testX) para o formato\n",
    "# [samples, time_steps, features]\n",
    "trainX = np.reshape(trainX, (trainX.shape[0], 1, trainX.shape[1]))\n",
    "testX = np.reshape(testX, (testX.shape[0], 1, testX.shape[1]))"
   ]
  },
  {
   "cell_type": "code",
   "execution_count": 59,
   "metadata": {},
   "outputs": [
    {
     "name": "stdout",
     "output_type": "stream",
     "text": [
      "Model: \"sequential_2\"\n",
      "_________________________________________________________________\n",
      " Layer (type)                Output Shape              Param #   \n",
      "=================================================================\n",
      " lstm_2 (LSTM)               (None, 4)                 96        \n",
      "                                                                 \n",
      " dense_2 (Dense)             (None, 1)                 5         \n",
      "                                                                 \n",
      "=================================================================\n",
      "Total params: 101\n",
      "Trainable params: 101\n",
      "Non-trainable params: 0\n",
      "_________________________________________________________________\n"
     ]
    }
   ],
   "source": [
    "# Criando nossa rede recorrente com unidades de LSTM \n",
    "# formato keras sequencial\n",
    "model = Sequential()\n",
    "model.add(LSTM(units=4, input_shape=(1, janela_previsao))) \n",
    "model.add(Dense(1))\n",
    "\n",
    "# visualizar o modelo (arquitetura) que geramos\n",
    "model.summary()"
   ]
  },
  {
   "cell_type": "code",
   "execution_count": 60,
   "metadata": {},
   "outputs": [],
   "source": [
    "# parâmetros para otimizacao\n",
    "# medida a ser minimizada = Erro quadrático médio (Mean Squared Error)\n",
    "# Otimizador, algoritmo de treinamento = Adam\n",
    "# métricas para avaliar o modelo = MSE, RMSE, MAE\n",
    "model.compile(loss='mean_squared_error', \n",
    "              optimizer='adam', \n",
    "              metrics=[\"MeanSquaredError\", \"RootMeanSquaredError\", \"MeanAbsoluteError\"]\n",
    ")"
   ]
  },
  {
   "cell_type": "code",
   "execution_count": 61,
   "metadata": {},
   "outputs": [
    {
     "name": "stdout",
     "output_type": "stream",
     "text": [
      "Epoch 1/100\n",
      "3737/3737 - 6s - loss: 0.2986 - mean_squared_error: 0.2986 - root_mean_squared_error: 0.5464 - mean_absolute_error: 0.4666 - 6s/epoch - 2ms/step\n",
      "Epoch 2/100\n",
      "3737/3737 - 4s - loss: 0.2874 - mean_squared_error: 0.2874 - root_mean_squared_error: 0.5361 - mean_absolute_error: 0.4601 - 4s/epoch - 1ms/step\n",
      "Epoch 3/100\n",
      "3737/3737 - 4s - loss: 0.2838 - mean_squared_error: 0.2838 - root_mean_squared_error: 0.5328 - mean_absolute_error: 0.4596 - 4s/epoch - 1ms/step\n",
      "Epoch 4/100\n",
      "3737/3737 - 4s - loss: 0.2826 - mean_squared_error: 0.2826 - root_mean_squared_error: 0.5316 - mean_absolute_error: 0.4586 - 4s/epoch - 1ms/step\n",
      "Epoch 5/100\n",
      "3737/3737 - 4s - loss: 0.2827 - mean_squared_error: 0.2827 - root_mean_squared_error: 0.5317 - mean_absolute_error: 0.4597 - 4s/epoch - 1ms/step\n",
      "Epoch 6/100\n",
      "3737/3737 - 4s - loss: 0.2827 - mean_squared_error: 0.2827 - root_mean_squared_error: 0.5317 - mean_absolute_error: 0.4608 - 4s/epoch - 1ms/step\n",
      "Epoch 7/100\n",
      "3737/3737 - 5s - loss: 0.2825 - mean_squared_error: 0.2825 - root_mean_squared_error: 0.5315 - mean_absolute_error: 0.4605 - 5s/epoch - 1ms/step\n",
      "Epoch 8/100\n",
      "3737/3737 - 4s - loss: 0.2817 - mean_squared_error: 0.2817 - root_mean_squared_error: 0.5308 - mean_absolute_error: 0.4599 - 4s/epoch - 1ms/step\n",
      "Epoch 9/100\n",
      "3737/3737 - 4s - loss: 0.2813 - mean_squared_error: 0.2813 - root_mean_squared_error: 0.5304 - mean_absolute_error: 0.4590 - 4s/epoch - 1ms/step\n",
      "Epoch 10/100\n",
      "3737/3737 - 4s - loss: 0.2814 - mean_squared_error: 0.2814 - root_mean_squared_error: 0.5305 - mean_absolute_error: 0.4603 - 4s/epoch - 1ms/step\n",
      "Epoch 11/100\n",
      "3737/3737 - 4s - loss: 0.2815 - mean_squared_error: 0.2815 - root_mean_squared_error: 0.5306 - mean_absolute_error: 0.4595 - 4s/epoch - 1ms/step\n",
      "Epoch 12/100\n",
      "3737/3737 - 4s - loss: 0.2811 - mean_squared_error: 0.2811 - root_mean_squared_error: 0.5302 - mean_absolute_error: 0.4599 - 4s/epoch - 1ms/step\n",
      "Epoch 13/100\n",
      "3737/3737 - 4s - loss: 0.2802 - mean_squared_error: 0.2802 - root_mean_squared_error: 0.5294 - mean_absolute_error: 0.4592 - 4s/epoch - 1ms/step\n",
      "Epoch 14/100\n",
      "3737/3737 - 4s - loss: 0.2805 - mean_squared_error: 0.2805 - root_mean_squared_error: 0.5297 - mean_absolute_error: 0.4589 - 4s/epoch - 1ms/step\n",
      "Epoch 15/100\n",
      "3737/3737 - 5s - loss: 0.2796 - mean_squared_error: 0.2796 - root_mean_squared_error: 0.5288 - mean_absolute_error: 0.4597 - 5s/epoch - 1ms/step\n",
      "Epoch 16/100\n",
      "3737/3737 - 4s - loss: 0.2795 - mean_squared_error: 0.2795 - root_mean_squared_error: 0.5287 - mean_absolute_error: 0.4581 - 4s/epoch - 1ms/step\n",
      "Epoch 17/100\n",
      "3737/3737 - 4s - loss: 0.2791 - mean_squared_error: 0.2791 - root_mean_squared_error: 0.5283 - mean_absolute_error: 0.4583 - 4s/epoch - 1ms/step\n",
      "Epoch 18/100\n",
      "3737/3737 - 4s - loss: 0.2784 - mean_squared_error: 0.2784 - root_mean_squared_error: 0.5276 - mean_absolute_error: 0.4578 - 4s/epoch - 1ms/step\n",
      "Epoch 19/100\n",
      "3737/3737 - 4s - loss: 0.2783 - mean_squared_error: 0.2783 - root_mean_squared_error: 0.5275 - mean_absolute_error: 0.4582 - 4s/epoch - 1ms/step\n",
      "Epoch 20/100\n",
      "3737/3737 - 4s - loss: 0.2776 - mean_squared_error: 0.2776 - root_mean_squared_error: 0.5269 - mean_absolute_error: 0.4574 - 4s/epoch - 1ms/step\n",
      "Epoch 21/100\n",
      "3737/3737 - 5s - loss: 0.2770 - mean_squared_error: 0.2770 - root_mean_squared_error: 0.5263 - mean_absolute_error: 0.4571 - 5s/epoch - 1ms/step\n",
      "Epoch 22/100\n",
      "3737/3737 - 5s - loss: 0.2764 - mean_squared_error: 0.2764 - root_mean_squared_error: 0.5257 - mean_absolute_error: 0.4563 - 5s/epoch - 1ms/step\n",
      "Epoch 23/100\n",
      "3737/3737 - 4s - loss: 0.2757 - mean_squared_error: 0.2757 - root_mean_squared_error: 0.5251 - mean_absolute_error: 0.4555 - 4s/epoch - 1ms/step\n",
      "Epoch 24/100\n",
      "3737/3737 - 4s - loss: 0.2754 - mean_squared_error: 0.2754 - root_mean_squared_error: 0.5248 - mean_absolute_error: 0.4560 - 4s/epoch - 1ms/step\n",
      "Epoch 25/100\n",
      "3737/3737 - 4s - loss: 0.2750 - mean_squared_error: 0.2750 - root_mean_squared_error: 0.5244 - mean_absolute_error: 0.4552 - 4s/epoch - 1ms/step\n",
      "Epoch 26/100\n",
      "3737/3737 - 4s - loss: 0.2747 - mean_squared_error: 0.2747 - root_mean_squared_error: 0.5242 - mean_absolute_error: 0.4551 - 4s/epoch - 1ms/step\n",
      "Epoch 27/100\n",
      "3737/3737 - 4s - loss: 0.2744 - mean_squared_error: 0.2744 - root_mean_squared_error: 0.5238 - mean_absolute_error: 0.4543 - 4s/epoch - 1ms/step\n",
      "Epoch 28/100\n",
      "3737/3737 - 4s - loss: 0.2734 - mean_squared_error: 0.2734 - root_mean_squared_error: 0.5229 - mean_absolute_error: 0.4545 - 4s/epoch - 1ms/step\n",
      "Epoch 29/100\n",
      "3737/3737 - 4s - loss: 0.2734 - mean_squared_error: 0.2734 - root_mean_squared_error: 0.5228 - mean_absolute_error: 0.4527 - 4s/epoch - 1ms/step\n",
      "Epoch 30/100\n",
      "3737/3737 - 4s - loss: 0.2728 - mean_squared_error: 0.2728 - root_mean_squared_error: 0.5223 - mean_absolute_error: 0.4541 - 4s/epoch - 1ms/step\n",
      "Epoch 31/100\n",
      "3737/3737 - 4s - loss: 0.2731 - mean_squared_error: 0.2731 - root_mean_squared_error: 0.5226 - mean_absolute_error: 0.4531 - 4s/epoch - 1ms/step\n",
      "Epoch 32/100\n",
      "3737/3737 - 4s - loss: 0.2726 - mean_squared_error: 0.2726 - root_mean_squared_error: 0.5221 - mean_absolute_error: 0.4531 - 4s/epoch - 1ms/step\n",
      "Epoch 33/100\n",
      "3737/3737 - 4s - loss: 0.2726 - mean_squared_error: 0.2726 - root_mean_squared_error: 0.5221 - mean_absolute_error: 0.4515 - 4s/epoch - 1ms/step\n",
      "Epoch 34/100\n",
      "3737/3737 - 4s - loss: 0.2724 - mean_squared_error: 0.2724 - root_mean_squared_error: 0.5219 - mean_absolute_error: 0.4526 - 4s/epoch - 1ms/step\n",
      "Epoch 35/100\n",
      "3737/3737 - 4s - loss: 0.2720 - mean_squared_error: 0.2720 - root_mean_squared_error: 0.5215 - mean_absolute_error: 0.4519 - 4s/epoch - 1ms/step\n",
      "Epoch 36/100\n",
      "3737/3737 - 4s - loss: 0.2718 - mean_squared_error: 0.2718 - root_mean_squared_error: 0.5214 - mean_absolute_error: 0.4517 - 4s/epoch - 1ms/step\n",
      "Epoch 37/100\n",
      "3737/3737 - 4s - loss: 0.2716 - mean_squared_error: 0.2716 - root_mean_squared_error: 0.5212 - mean_absolute_error: 0.4517 - 4s/epoch - 1ms/step\n",
      "Epoch 38/100\n",
      "3737/3737 - 4s - loss: 0.2716 - mean_squared_error: 0.2716 - root_mean_squared_error: 0.5211 - mean_absolute_error: 0.4506 - 4s/epoch - 1ms/step\n",
      "Epoch 39/100\n",
      "3737/3737 - 4s - loss: 0.2714 - mean_squared_error: 0.2714 - root_mean_squared_error: 0.5210 - mean_absolute_error: 0.4514 - 4s/epoch - 1ms/step\n",
      "Epoch 40/100\n",
      "3737/3737 - 5s - loss: 0.2711 - mean_squared_error: 0.2711 - root_mean_squared_error: 0.5207 - mean_absolute_error: 0.4505 - 5s/epoch - 1ms/step\n",
      "Epoch 41/100\n",
      "3737/3737 - 4s - loss: 0.2711 - mean_squared_error: 0.2711 - root_mean_squared_error: 0.5207 - mean_absolute_error: 0.4508 - 4s/epoch - 1ms/step\n",
      "Epoch 42/100\n",
      "3737/3737 - 4s - loss: 0.2710 - mean_squared_error: 0.2710 - root_mean_squared_error: 0.5206 - mean_absolute_error: 0.4506 - 4s/epoch - 1ms/step\n",
      "Epoch 43/100\n",
      "3737/3737 - 4s - loss: 0.2707 - mean_squared_error: 0.2707 - root_mean_squared_error: 0.5203 - mean_absolute_error: 0.4499 - 4s/epoch - 1ms/step\n",
      "Epoch 44/100\n",
      "3737/3737 - 4s - loss: 0.2707 - mean_squared_error: 0.2707 - root_mean_squared_error: 0.5202 - mean_absolute_error: 0.4506 - 4s/epoch - 1ms/step\n",
      "Epoch 45/100\n",
      "3737/3737 - 4s - loss: 0.2705 - mean_squared_error: 0.2705 - root_mean_squared_error: 0.5201 - mean_absolute_error: 0.4502 - 4s/epoch - 1ms/step\n",
      "Epoch 46/100\n",
      "3737/3737 - 4s - loss: 0.2703 - mean_squared_error: 0.2703 - root_mean_squared_error: 0.5199 - mean_absolute_error: 0.4489 - 4s/epoch - 1ms/step\n",
      "Epoch 47/100\n",
      "3737/3737 - 4s - loss: 0.2702 - mean_squared_error: 0.2702 - root_mean_squared_error: 0.5198 - mean_absolute_error: 0.4497 - 4s/epoch - 1ms/step\n",
      "Epoch 48/100\n",
      "3737/3737 - 5s - loss: 0.2701 - mean_squared_error: 0.2701 - root_mean_squared_error: 0.5197 - mean_absolute_error: 0.4497 - 5s/epoch - 1ms/step\n",
      "Epoch 49/100\n",
      "3737/3737 - 4s - loss: 0.2702 - mean_squared_error: 0.2702 - root_mean_squared_error: 0.5198 - mean_absolute_error: 0.4491 - 4s/epoch - 1ms/step\n",
      "Epoch 50/100\n",
      "3737/3737 - 4s - loss: 0.2701 - mean_squared_error: 0.2701 - root_mean_squared_error: 0.5198 - mean_absolute_error: 0.4499 - 4s/epoch - 1ms/step\n",
      "Epoch 51/100\n",
      "3737/3737 - 5s - loss: 0.2698 - mean_squared_error: 0.2698 - root_mean_squared_error: 0.5194 - mean_absolute_error: 0.4485 - 5s/epoch - 1ms/step\n",
      "Epoch 52/100\n",
      "3737/3737 - 4s - loss: 0.2698 - mean_squared_error: 0.2698 - root_mean_squared_error: 0.5194 - mean_absolute_error: 0.4489 - 4s/epoch - 1ms/step\n",
      "Epoch 53/100\n",
      "3737/3737 - 4s - loss: 0.2697 - mean_squared_error: 0.2697 - root_mean_squared_error: 0.5193 - mean_absolute_error: 0.4495 - 4s/epoch - 1ms/step\n",
      "Epoch 54/100\n",
      "3737/3737 - 4s - loss: 0.2694 - mean_squared_error: 0.2694 - root_mean_squared_error: 0.5190 - mean_absolute_error: 0.4477 - 4s/epoch - 1ms/step\n",
      "Epoch 55/100\n",
      "3737/3737 - 4s - loss: 0.2696 - mean_squared_error: 0.2696 - root_mean_squared_error: 0.5192 - mean_absolute_error: 0.4493 - 4s/epoch - 1ms/step\n",
      "Epoch 56/100\n",
      "3737/3737 - 4s - loss: 0.2696 - mean_squared_error: 0.2696 - root_mean_squared_error: 0.5192 - mean_absolute_error: 0.4491 - 4s/epoch - 1ms/step\n",
      "Epoch 57/100\n",
      "3737/3737 - 4s - loss: 0.2694 - mean_squared_error: 0.2694 - root_mean_squared_error: 0.5191 - mean_absolute_error: 0.4484 - 4s/epoch - 1ms/step\n",
      "Epoch 58/100\n",
      "3737/3737 - 4s - loss: 0.2692 - mean_squared_error: 0.2692 - root_mean_squared_error: 0.5189 - mean_absolute_error: 0.4471 - 4s/epoch - 1ms/step\n",
      "Epoch 59/100\n",
      "3737/3737 - 4s - loss: 0.2695 - mean_squared_error: 0.2695 - root_mean_squared_error: 0.5191 - mean_absolute_error: 0.4491 - 4s/epoch - 1ms/step\n",
      "Epoch 60/100\n",
      "3737/3737 - 4s - loss: 0.2691 - mean_squared_error: 0.2691 - root_mean_squared_error: 0.5188 - mean_absolute_error: 0.4487 - 4s/epoch - 1ms/step\n",
      "Epoch 61/100\n",
      "3737/3737 - 4s - loss: 0.2691 - mean_squared_error: 0.2691 - root_mean_squared_error: 0.5187 - mean_absolute_error: 0.4478 - 4s/epoch - 1ms/step\n",
      "Epoch 62/100\n",
      "3737/3737 - 4s - loss: 0.2691 - mean_squared_error: 0.2691 - root_mean_squared_error: 0.5187 - mean_absolute_error: 0.4479 - 4s/epoch - 1ms/step\n",
      "Epoch 63/100\n",
      "3737/3737 - 5s - loss: 0.2691 - mean_squared_error: 0.2691 - root_mean_squared_error: 0.5187 - mean_absolute_error: 0.4487 - 5s/epoch - 1ms/step\n",
      "Epoch 64/100\n",
      "3737/3737 - 4s - loss: 0.2688 - mean_squared_error: 0.2688 - root_mean_squared_error: 0.5185 - mean_absolute_error: 0.4476 - 4s/epoch - 1ms/step\n",
      "Epoch 65/100\n",
      "3737/3737 - 4s - loss: 0.2689 - mean_squared_error: 0.2689 - root_mean_squared_error: 0.5186 - mean_absolute_error: 0.4480 - 4s/epoch - 1ms/step\n",
      "Epoch 66/100\n",
      "3737/3737 - 4s - loss: 0.2689 - mean_squared_error: 0.2689 - root_mean_squared_error: 0.5186 - mean_absolute_error: 0.4483 - 4s/epoch - 1ms/step\n",
      "Epoch 67/100\n",
      "3737/3737 - 4s - loss: 0.2689 - mean_squared_error: 0.2689 - root_mean_squared_error: 0.5185 - mean_absolute_error: 0.4476 - 4s/epoch - 1ms/step\n",
      "Epoch 68/100\n",
      "3737/3737 - 4s - loss: 0.2687 - mean_squared_error: 0.2687 - root_mean_squared_error: 0.5184 - mean_absolute_error: 0.4481 - 4s/epoch - 1ms/step\n",
      "Epoch 69/100\n",
      "3737/3737 - 5s - loss: 0.2689 - mean_squared_error: 0.2689 - root_mean_squared_error: 0.5185 - mean_absolute_error: 0.4469 - 5s/epoch - 1ms/step\n",
      "Epoch 70/100\n",
      "3737/3737 - 4s - loss: 0.2688 - mean_squared_error: 0.2688 - root_mean_squared_error: 0.5185 - mean_absolute_error: 0.4475 - 4s/epoch - 1ms/step\n",
      "Epoch 71/100\n",
      "3737/3737 - 5s - loss: 0.2687 - mean_squared_error: 0.2687 - root_mean_squared_error: 0.5184 - mean_absolute_error: 0.4477 - 5s/epoch - 1ms/step\n",
      "Epoch 72/100\n",
      "3737/3737 - 4s - loss: 0.2684 - mean_squared_error: 0.2684 - root_mean_squared_error: 0.5181 - mean_absolute_error: 0.4477 - 4s/epoch - 1ms/step\n",
      "Epoch 73/100\n",
      "3737/3737 - 4s - loss: 0.2686 - mean_squared_error: 0.2686 - root_mean_squared_error: 0.5183 - mean_absolute_error: 0.4474 - 4s/epoch - 1ms/step\n",
      "Epoch 74/100\n",
      "3737/3737 - 4s - loss: 0.2686 - mean_squared_error: 0.2686 - root_mean_squared_error: 0.5182 - mean_absolute_error: 0.4471 - 4s/epoch - 1ms/step\n",
      "Epoch 75/100\n",
      "3737/3737 - 4s - loss: 0.2686 - mean_squared_error: 0.2686 - root_mean_squared_error: 0.5182 - mean_absolute_error: 0.4477 - 4s/epoch - 1ms/step\n",
      "Epoch 76/100\n",
      "3737/3737 - 4s - loss: 0.2683 - mean_squared_error: 0.2683 - root_mean_squared_error: 0.5180 - mean_absolute_error: 0.4470 - 4s/epoch - 1ms/step\n",
      "Epoch 77/100\n",
      "3737/3737 - 4s - loss: 0.2682 - mean_squared_error: 0.2682 - root_mean_squared_error: 0.5179 - mean_absolute_error: 0.4470 - 4s/epoch - 1ms/step\n",
      "Epoch 78/100\n",
      "3737/3737 - 4s - loss: 0.2682 - mean_squared_error: 0.2682 - root_mean_squared_error: 0.5179 - mean_absolute_error: 0.4474 - 4s/epoch - 1ms/step\n",
      "Epoch 79/100\n",
      "3737/3737 - 4s - loss: 0.2679 - mean_squared_error: 0.2679 - root_mean_squared_error: 0.5176 - mean_absolute_error: 0.4466 - 4s/epoch - 1ms/step\n",
      "Epoch 80/100\n",
      "3737/3737 - 4s - loss: 0.2680 - mean_squared_error: 0.2680 - root_mean_squared_error: 0.5177 - mean_absolute_error: 0.4469 - 4s/epoch - 1ms/step\n",
      "Epoch 81/100\n",
      "3737/3737 - 4s - loss: 0.2677 - mean_squared_error: 0.2677 - root_mean_squared_error: 0.5174 - mean_absolute_error: 0.4465 - 4s/epoch - 1ms/step\n",
      "Epoch 82/100\n",
      "3737/3737 - 4s - loss: 0.2677 - mean_squared_error: 0.2677 - root_mean_squared_error: 0.5174 - mean_absolute_error: 0.4465 - 4s/epoch - 1ms/step\n",
      "Epoch 83/100\n",
      "3737/3737 - 4s - loss: 0.2676 - mean_squared_error: 0.2676 - root_mean_squared_error: 0.5173 - mean_absolute_error: 0.4461 - 4s/epoch - 1ms/step\n",
      "Epoch 84/100\n",
      "3737/3737 - 4s - loss: 0.2675 - mean_squared_error: 0.2675 - root_mean_squared_error: 0.5172 - mean_absolute_error: 0.4463 - 4s/epoch - 1ms/step\n",
      "Epoch 85/100\n",
      "3737/3737 - 4s - loss: 0.2674 - mean_squared_error: 0.2674 - root_mean_squared_error: 0.5171 - mean_absolute_error: 0.4461 - 4s/epoch - 1ms/step\n",
      "Epoch 86/100\n",
      "3737/3737 - 4s - loss: 0.2673 - mean_squared_error: 0.2673 - root_mean_squared_error: 0.5170 - mean_absolute_error: 0.4451 - 4s/epoch - 1ms/step\n",
      "Epoch 87/100\n",
      "3737/3737 - 4s - loss: 0.2672 - mean_squared_error: 0.2672 - root_mean_squared_error: 0.5170 - mean_absolute_error: 0.4456 - 4s/epoch - 1ms/step\n",
      "Epoch 88/100\n",
      "3737/3737 - 4s - loss: 0.2670 - mean_squared_error: 0.2670 - root_mean_squared_error: 0.5167 - mean_absolute_error: 0.4452 - 4s/epoch - 1ms/step\n",
      "Epoch 89/100\n",
      "3737/3737 - 4s - loss: 0.2670 - mean_squared_error: 0.2670 - root_mean_squared_error: 0.5167 - mean_absolute_error: 0.4451 - 4s/epoch - 1ms/step\n",
      "Epoch 90/100\n",
      "3737/3737 - 5s - loss: 0.2670 - mean_squared_error: 0.2670 - root_mean_squared_error: 0.5167 - mean_absolute_error: 0.4452 - 5s/epoch - 1ms/step\n",
      "Epoch 91/100\n",
      "3737/3737 - 4s - loss: 0.2670 - mean_squared_error: 0.2670 - root_mean_squared_error: 0.5167 - mean_absolute_error: 0.4452 - 4s/epoch - 1ms/step\n",
      "Epoch 92/100\n",
      "3737/3737 - 4s - loss: 0.2668 - mean_squared_error: 0.2668 - root_mean_squared_error: 0.5166 - mean_absolute_error: 0.4448 - 4s/epoch - 1ms/step\n",
      "Epoch 93/100\n",
      "3737/3737 - 4s - loss: 0.2667 - mean_squared_error: 0.2667 - root_mean_squared_error: 0.5164 - mean_absolute_error: 0.4442 - 4s/epoch - 1ms/step\n",
      "Epoch 94/100\n",
      "3737/3737 - 4s - loss: 0.2667 - mean_squared_error: 0.2667 - root_mean_squared_error: 0.5165 - mean_absolute_error: 0.4448 - 4s/epoch - 1ms/step\n",
      "Epoch 95/100\n",
      "3737/3737 - 5s - loss: 0.2667 - mean_squared_error: 0.2667 - root_mean_squared_error: 0.5165 - mean_absolute_error: 0.4444 - 5s/epoch - 1ms/step\n",
      "Epoch 96/100\n",
      "3737/3737 - 5s - loss: 0.2661 - mean_squared_error: 0.2661 - root_mean_squared_error: 0.5159 - mean_absolute_error: 0.4442 - 5s/epoch - 1ms/step\n",
      "Epoch 97/100\n",
      "3737/3737 - 5s - loss: 0.2665 - mean_squared_error: 0.2665 - root_mean_squared_error: 0.5162 - mean_absolute_error: 0.4435 - 5s/epoch - 1ms/step\n",
      "Epoch 98/100\n",
      "3737/3737 - 4s - loss: 0.2659 - mean_squared_error: 0.2659 - root_mean_squared_error: 0.5157 - mean_absolute_error: 0.4435 - 4s/epoch - 1ms/step\n",
      "Epoch 99/100\n",
      "3737/3737 - 5s - loss: 0.2665 - mean_squared_error: 0.2665 - root_mean_squared_error: 0.5162 - mean_absolute_error: 0.4444 - 5s/epoch - 1ms/step\n",
      "Epoch 100/100\n",
      "3737/3737 - 5s - loss: 0.2665 - mean_squared_error: 0.2665 - root_mean_squared_error: 0.5162 - mean_absolute_error: 0.4437 - 5s/epoch - 1ms/step\n"
     ]
    }
   ],
   "source": [
    "# Treinando nossa rede\n",
    "# epocas = 100\n",
    "# batch_size = 1, treinar amostra por amostra\n",
    "history = model.fit(trainX, trainY, epochs=100, batch_size=1, verbose=2)"
   ]
  },
  {
   "cell_type": "code",
   "execution_count": 62,
   "metadata": {},
   "outputs": [
    {
     "data": {
      "image/png": "[encoded data removed]",
      "text/plain": [
       "<Figure size 432x288 with 1 Axes>"
      ]
     },
     "metadata": {
      "needs_background": "light"
     },
     "output_type": "display_data"
    }
   ],
   "source": [
    "plt.plot(history.history['mean_squared_error'])\n",
    "plt.plot(history.history['root_mean_squared_error'])\n",
    "plt.plot(history.history['mean_absolute_error'])\n",
    "plt.xlabel('epoch')\n",
    "plt.legend(['MSE', 'RMSE', 'MAE'], loc='upper right')\n",
    "plt.show()"
   ]
  },
  {
   "cell_type": "code",
   "execution_count": 63,
   "metadata": {},
   "outputs": [
    {
     "name": "stdout",
     "output_type": "stream",
     "text": [
      "117/117 [==============================] - 1s 1ms/step\n",
      "30/30 [==============================] - 0s 1ms/step\n"
     ]
    }
   ],
   "source": [
    "# Realizando as predições nos conjuntos de treino/teste\n",
    "\n",
    "# predição no conjunto de trienamento\n",
    "trainPredict = model.predict(trainX)\n",
    "\n",
    "# predição no conjunto de teste\n",
    "testPredict  = model.predict(testX)"
   ]
  },
  {
   "cell_type": "code",
   "execution_count": 64,
   "metadata": {},
   "outputs": [],
   "source": [
    "# Aplicando a inversa da escala para retornar ao valor original\n",
    "# training set\n",
    "trainPredict = scaler.inverse_transform(trainPredict)\n",
    "trainY = scaler.inverse_transform([trainY])\n",
    "\n",
    "# testing set\n",
    "testPredict = scaler.inverse_transform(testPredict)\n",
    "testY = scaler.inverse_transform([testY])"
   ]
  },
  {
   "cell_type": "code",
   "execution_count": 65,
   "metadata": {},
   "outputs": [
    {
     "name": "stdout",
     "output_type": "stream",
     "text": [
      "Treino: 9.53 RMSE\n",
      "Teste Score: 9.80 RMSE\n"
     ]
    }
   ],
   "source": [
    "# Calculando RMSE no treino e teste\n",
    "trainScore = math.sqrt(mean_squared_error(trainY[0], trainPredict[:,0]))\n",
    "print('Treino: %.2f RMSE' % (trainScore))\n",
    "testScore = math.sqrt(mean_squared_error(testY[0], testPredict[:,0]))\n",
    "print('Teste Score: %.2f RMSE' % (testScore))"
   ]
  },
  {
   "cell_type": "code",
   "execution_count": 66,
   "metadata": {},
   "outputs": [],
   "source": [
    "# Ajustando o plot do treino\n",
    "trainPredictPlot = np.empty_like(dataset)\n",
    "trainPredictPlot[:, :] = np.nan\n",
    "trainPredictPlot[janela_previsao:len(trainPredict)+janela_previsao, :] = trainPredict"
   ]
  },
  {
   "cell_type": "code",
   "execution_count": 67,
   "metadata": {},
   "outputs": [],
   "source": [
    "# Ajustando o plot do teste\n",
    "testPredictPlot = np.empty_like(dataset)\n",
    "testPredictPlot[:, :] = np.nan\n",
    "testPredictPlot[len(trainPredict)+(janela_previsao*2)+1:len(dataset)-1, :] = testPredict"
   ]
  },
  {
   "cell_type": "code",
   "execution_count": 68,
   "metadata": {},
   "outputs": [
    {
     "data": {
      "image/png": "[encoded data removed]",
      "text/plain": [
       "<Figure size 432x288 with 1 Axes>"
      ]
     },
     "metadata": {
      "needs_background": "light"
     },
     "output_type": "display_data"
    }
   ],
   "source": [
    "# Ajustando o plot com o sinal original\n",
    "# - verde   = dataset original\n",
    "# - azul    = predicoes geradas no conjunto de treinamento\n",
    "# - laranja = predicoes geradas no conjunto de teste\n",
    "\n",
    "plt.plot(trainPredictPlot[:100], linestyle=\"--\")\n",
    "plt.plot(testPredictPlot[:100], linestyle=\"--\")\n",
    "plt.plot(scaler.inverse_transform(dataset)[:100])\n",
    "plt.xlabel('instances')\n",
    "plt.legend(['train', 'test', 'original'], loc='upper left')\n",
    "plt.show()"
   ]
  }
 ],
 "metadata": {
  "interpreter": {
   "hash": "11bbcf57d79407485a8d65c6cc737ca9d49c6f1d1b34c1ae2a5e6f49b42ea89b"
  },
  "kernelspec": {
   "display_name": "Python 3.7.7 64-bit",
   "language": "python",
   "name": "python3"
  },
  "language_info": {
   "codemirror_mode": {
    "name": "ipython",
    "version": 3
   },
   "file_extension": ".py",
   "mimetype": "text/x-python",
   "name": "python",
   "nbconvert_exporter": "python",
   "pygments_lexer": "ipython3",
   "version": "3.7.7"
  },
  "orig_nbformat": 4
 },
 "nbformat": 4,
 "nbformat_minor": 2
}

{
 "cells": [
  {
   "cell_type": "code",
   "execution_count": 10,
   "metadata": {},
   "outputs": [],
   "source": [
    "import pandas as pd\n",
    "import numpy as np\n",
    "import matplotlib.pyplot as plt\n",
    "import warnings\n",
    "warnings.filterwarnings('ignore')\n",
    "from pmdarima.arima import auto_arima\n",
    "import math"
   ]
  },
  {
   "cell_type": "code",
   "execution_count": 11,
   "metadata": {},
   "outputs": [
    {
     "name": "stdout",
     "output_type": "stream",
     "text": [
      "\n",
      "* Dimensão dos dados: (6414, 1)\n",
      "* Dados originais:\n",
      "[[19.]\n",
      " [ 2.]\n",
      " [ 3.]\n",
      " [20.]\n",
      " [21.]\n",
      " [ 4.]\n",
      " [ 5.]\n",
      " [20.]\n",
      " [23.]\n",
      " [34.]]\n"
     ]
    }
   ],
   "source": [
    "events_dict = {\n",
    "    'BLUE: first_blood': 0,\n",
    "    'BLUE: dragon': 1,\n",
    "    'BLUE: herald': 2,\n",
    "    'BLUE: first_tower_top': 3,\n",
    "    'BLUE: first_tower_mid': 4,\n",
    "    'BLUE: first_tower_bot': 5,\n",
    "    'BLUE: second_tower_top': 6,\n",
    "    'BLUE: second_tower_mid': 7,\n",
    "    'BLUE: second_tower_bot': 8,\n",
    "    'BLUE: third_tower_top': 9,\n",
    "    'BLUE: third_tower_mid': 10,\n",
    "    'BLUE: third_tower_bot': 11,\n",
    "    'BLUE: inhibitor_top': 12,\n",
    "    'BLUE: inhibitor_mid': 13,\n",
    "    'BLUE: inhibitor_bot': 14,\n",
    "    'BLUE: baron': 15,\n",
    "    'BLUE: elder_dragon': 16,\n",
    "    'BLUE: nexus_tower': 17,\n",
    "    'BLUE: nexus': 18,\n",
    "    'RED: first_blood': 19,\n",
    "    'RED: dragon': 20,\n",
    "    'RED: herald': 21,\n",
    "    'RED: first_tower_top': 22,\n",
    "    'RED: first_tower_mid': 23,\n",
    "    'RED: first_tower_bot': 24,\n",
    "    'RED: second_tower_top': 25,\n",
    "    'RED: second_tower_mid': 26,\n",
    "    'RED: second_tower_bot': 27,\n",
    "    'RED: third_tower_top': 28,\n",
    "    'RED: third_tower_mid': 29,\n",
    "    'RED: third_tower_bot': 30,\n",
    "    'RED: inhibitor_top': 31,\n",
    "    'RED: inhibitor_mid': 32,\n",
    "    'RED: inhibitor_bot': 33,\n",
    "    'RED: baron': 34,\n",
    "    'RED: elder_dragon': 35,\n",
    "    'RED: nexus_tower': 36,\n",
    "    'RED: nexus': 37\n",
    "}\n",
    "\n",
    "df = pd.read_csv('data/clean-one-line.csv')\n",
    "df = df.drop('game', axis=1)\n",
    "data = df.values.tolist()\n",
    "\n",
    "for game in data:\n",
    "    for i, s in enumerate(game):\n",
    "        if s in events_dict:\n",
    "            game[i] = events_dict.get(s)\n",
    "        else:\n",
    "            del game[i]\n",
    "\n",
    "for game in data:\n",
    "    game = [item for item in game if not(math.isnan(item)) == True]\n",
    "\n",
    "data = [[x for x in y if not np.isnan(x)] for y in data]\n",
    "\n",
    "dataArray = []\n",
    "\n",
    "for game in data:\n",
    "    dataArray += game\n",
    "\n",
    "df = pd.read_csv('data/clean-one-line.csv')\n",
    "df = df.drop('game', axis=1)\n",
    "data = df.values.tolist()\n",
    "\n",
    "for game in data:\n",
    "    for i, s in enumerate(game):\n",
    "        if s in events_dict:\n",
    "            game[i] = events_dict.get(s)\n",
    "        else:\n",
    "            del game[i]\n",
    "\n",
    "for game in data:\n",
    "    game = [item for item in game if not(math.isnan(item)) == True]\n",
    "\n",
    "data = [[x for x in y if not np.isnan(x)] for y in data]\n",
    "dataArray = []\n",
    "\n",
    "for game in data:\n",
    "    dataArray += game\n",
    "\n",
    "dataframe = pd.DataFrame(dataArray)\n",
    "dataset = dataframe.values\n",
    "dataset = dataset.astype('float32')\n",
    "\n",
    "# vislumbrar um pedaço dos dados e formato lido\n",
    "print(\"\\n* Dimensão dos dados:\", dataset.shape) \n",
    "# 36 amostras/instâncias, univariadas (um único valor real)\n",
    "print(\"* Dados originais:\")\n",
    "print(dataset[:10])"
   ]
  },
  {
   "cell_type": "code",
   "execution_count": 12,
   "metadata": {},
   "outputs": [
    {
     "data": {
      "text/plain": [
       "(0.01, False)"
      ]
     },
     "execution_count": 12,
     "metadata": {},
     "output_type": "execute_result"
    }
   ],
   "source": [
    "from pmdarima.arima import ADFTest\n",
    "adf_test = ADFTest(alpha = 0.05)\n",
    "adf_test.should_diff(dataset)"
   ]
  },
  {
   "cell_type": "code",
   "execution_count": 13,
   "metadata": {},
   "outputs": [],
   "source": [
    "train = dataset[:85]\n",
    "test = dataset[-20:]"
   ]
  },
  {
   "cell_type": "code",
   "execution_count": 14,
   "metadata": {},
   "outputs": [
    {
     "name": "stdout",
     "output_type": "stream",
     "text": [
      "Performing stepwise search to minimize aic\n",
      " ARIMA(0,1,0)(0,1,0)[12]             : AIC=585.505, Time=0.02 sec\n",
      " ARIMA(1,1,0)(1,1,0)[12]             : AIC=566.476, Time=0.15 sec\n",
      " ARIMA(0,1,1)(0,1,1)[12]             : AIC=inf, Time=0.47 sec\n",
      " ARIMA(1,1,0)(0,1,0)[12]             : AIC=573.774, Time=0.05 sec\n",
      " ARIMA(1,1,0)(2,1,0)[12]             : AIC=556.698, Time=0.65 sec\n",
      " ARIMA(1,1,0)(3,1,0)[12]             : AIC=558.693, Time=1.60 sec\n",
      " ARIMA(1,1,0)(2,1,1)[12]             : AIC=558.628, Time=2.04 sec\n",
      " ARIMA(1,1,0)(1,1,1)[12]             : AIC=558.991, Time=0.83 sec\n",
      " ARIMA(1,1,0)(3,1,1)[12]             : AIC=inf, Time=9.97 sec\n",
      " ARIMA(0,1,0)(2,1,0)[12]             : AIC=567.263, Time=0.62 sec\n",
      " ARIMA(2,1,0)(2,1,0)[12]             : AIC=544.890, Time=1.03 sec\n",
      " ARIMA(2,1,0)(1,1,0)[12]             : AIC=550.886, Time=0.44 sec\n",
      " ARIMA(2,1,0)(3,1,0)[12]             : AIC=546.737, Time=2.62 sec\n",
      " ARIMA(2,1,0)(2,1,1)[12]             : AIC=546.151, Time=1.89 sec\n",
      " ARIMA(2,1,0)(1,1,1)[12]             : AIC=544.534, Time=1.12 sec\n",
      " ARIMA(2,1,0)(0,1,1)[12]             : AIC=542.552, Time=0.52 sec\n",
      " ARIMA(2,1,0)(0,1,0)[12]             : AIC=561.718, Time=0.08 sec\n",
      " ARIMA(2,1,0)(0,1,2)[12]             : AIC=544.530, Time=1.57 sec\n",
      " ARIMA(2,1,0)(1,1,2)[12]             : AIC=inf, Time=4.63 sec\n",
      " ARIMA(1,1,0)(0,1,1)[12]             : AIC=557.092, Time=0.43 sec\n",
      " ARIMA(3,1,0)(0,1,1)[12]             : AIC=544.405, Time=0.81 sec\n",
      " ARIMA(2,1,1)(0,1,1)[12]             : AIC=inf, Time=0.69 sec\n",
      " ARIMA(1,1,1)(0,1,1)[12]             : AIC=inf, Time=0.72 sec\n",
      " ARIMA(3,1,1)(0,1,1)[12]             : AIC=inf, Time=2.07 sec\n",
      " ARIMA(2,1,0)(0,1,1)[12] intercept   : AIC=544.552, Time=0.85 sec\n",
      "\n",
      "Best model:  ARIMA(2,1,0)(0,1,1)[12]          \n",
      "Total fit time: 35.864 seconds\n"
     ]
    },
    {
     "data": {
      "text/html": [
       "<table class=\"simpletable\">\n",
       "<caption>SARIMAX Results</caption>\n",
       "<tr>\n",
       "  <th>Dep. Variable:</th>                   <td>y</td>                <th>  No. Observations:  </th>    <td>85</td>   \n",
       "</tr>\n",
       "<tr>\n",
       "  <th>Model:</th>           <td>SARIMAX(2, 1, 0)x(0, 1, [1], 12)</td> <th>  Log Likelihood     </th> <td>-267.276</td>\n",
       "</tr>\n",
       "<tr>\n",
       "  <th>Date:</th>                    <td>Tue, 14 Jun 2022</td>         <th>  AIC                </th>  <td>542.552</td>\n",
       "</tr>\n",
       "<tr>\n",
       "  <th>Time:</th>                        <td>18:44:42</td>             <th>  BIC                </th>  <td>551.659</td>\n",
       "</tr>\n",
       "<tr>\n",
       "  <th>Sample:</th>                          <td>0</td>                <th>  HQIC               </th>  <td>546.178</td>\n",
       "</tr>\n",
       "<tr>\n",
       "  <th></th>                               <td> - 85</td>              <th>                     </th>     <td> </td>   \n",
       "</tr>\n",
       "<tr>\n",
       "  <th>Covariance Type:</th>                <td>opg</td>               <th>                     </th>     <td> </td>   \n",
       "</tr>\n",
       "</table>\n",
       "<table class=\"simpletable\">\n",
       "<tr>\n",
       "      <td></td>        <th>coef</th>     <th>std err</th>      <th>z</th>      <th>P>|z|</th>  <th>[0.025</th>    <th>0.975]</th>  \n",
       "</tr>\n",
       "<tr>\n",
       "  <th>ar.L1</th>    <td>   -0.5642</td> <td>    0.110</td> <td>   -5.137</td> <td> 0.000</td> <td>   -0.779</td> <td>   -0.349</td>\n",
       "</tr>\n",
       "<tr>\n",
       "  <th>ar.L2</th>    <td>   -0.4560</td> <td>    0.098</td> <td>   -4.645</td> <td> 0.000</td> <td>   -0.648</td> <td>   -0.264</td>\n",
       "</tr>\n",
       "<tr>\n",
       "  <th>ma.S.L12</th> <td>   -0.8400</td> <td>    0.312</td> <td>   -2.691</td> <td> 0.007</td> <td>   -1.452</td> <td>   -0.228</td>\n",
       "</tr>\n",
       "<tr>\n",
       "  <th>sigma2</th>   <td>   80.5952</td> <td>   21.314</td> <td>    3.781</td> <td> 0.000</td> <td>   38.821</td> <td>  122.370</td>\n",
       "</tr>\n",
       "</table>\n",
       "<table class=\"simpletable\">\n",
       "<tr>\n",
       "  <th>Ljung-Box (L1) (Q):</th>     <td>0.06</td> <th>  Jarque-Bera (JB):  </th> <td>0.18</td>\n",
       "</tr>\n",
       "<tr>\n",
       "  <th>Prob(Q):</th>                <td>0.80</td> <th>  Prob(JB):          </th> <td>0.91</td>\n",
       "</tr>\n",
       "<tr>\n",
       "  <th>Heteroskedasticity (H):</th> <td>0.93</td> <th>  Skew:              </th> <td>0.07</td>\n",
       "</tr>\n",
       "<tr>\n",
       "  <th>Prob(H) (two-sided):</th>    <td>0.86</td> <th>  Kurtosis:          </th> <td>3.20</td>\n",
       "</tr>\n",
       "</table><br/><br/>Warnings:<br/>[1] Covariance matrix calculated using the outer product of gradients (complex-step)."
      ],
      "text/plain": [
       "<class 'statsmodels.iolib.summary.Summary'>\n",
       "\"\"\"\n",
       "                                      SARIMAX Results                                       \n",
       "============================================================================================\n",
       "Dep. Variable:                                    y   No. Observations:                   85\n",
       "Model:             SARIMAX(2, 1, 0)x(0, 1, [1], 12)   Log Likelihood                -267.276\n",
       "Date:                              Tue, 14 Jun 2022   AIC                            542.552\n",
       "Time:                                      18:44:42   BIC                            551.659\n",
       "Sample:                                           0   HQIC                           546.178\n",
       "                                               - 85                                         \n",
       "Covariance Type:                                opg                                         \n",
       "==============================================================================\n",
       "                 coef    std err          z      P>|z|      [0.025      0.975]\n",
       "------------------------------------------------------------------------------\n",
       "ar.L1         -0.5642      0.110     -5.137      0.000      -0.779      -0.349\n",
       "ar.L2         -0.4560      0.098     -4.645      0.000      -0.648      -0.264\n",
       "ma.S.L12      -0.8400      0.312     -2.691      0.007      -1.452      -0.228\n",
       "sigma2        80.5952     21.314      3.781      0.000      38.821     122.370\n",
       "===================================================================================\n",
       "Ljung-Box (L1) (Q):                   0.06   Jarque-Bera (JB):                 0.18\n",
       "Prob(Q):                              0.80   Prob(JB):                         0.91\n",
       "Heteroskedasticity (H):               0.93   Skew:                             0.07\n",
       "Prob(H) (two-sided):                  0.86   Kurtosis:                         3.20\n",
       "===================================================================================\n",
       "\n",
       "Warnings:\n",
       "[1] Covariance matrix calculated using the outer product of gradients (complex-step).\n",
       "\"\"\""
      ]
     },
     "execution_count": 14,
     "metadata": {},
     "output_type": "execute_result"
    }
   ],
   "source": [
    "arima_model =  auto_arima(train,start_p=0, d=1, start_q=0, \n",
    "                          max_p=15, max_d=15, max_q=5, start_P=0, \n",
    "                          D=1, start_Q=0, max_P=5, max_D=15,\n",
    "                          max_Q=15, m=12, seasonal=True, \n",
    "                          error_action='warn',trace = True,\n",
    "                          supress_warnings=True,stepwise = True,\n",
    "                          random_state=20,n_fits = 50 )\n",
    "arima_model.summary()"
   ]
  },
  {
   "cell_type": "code",
   "execution_count": 15,
   "metadata": {},
   "outputs": [
    {
     "data": {
      "text/html": [
       "<div>\n",
       "<style scoped>\n",
       "    .dataframe tbody tr th:only-of-type {\n",
       "        vertical-align: middle;\n",
       "    }\n",
       "\n",
       "    .dataframe tbody tr th {\n",
       "        vertical-align: top;\n",
       "    }\n",
       "\n",
       "    .dataframe thead th {\n",
       "        text-align: right;\n",
       "    }\n",
       "</style>\n",
       "<table border=\"1\" class=\"dataframe\">\n",
       "  <thead>\n",
       "    <tr style=\"text-align: right;\">\n",
       "      <th></th>\n",
       "      <th>predicted_events</th>\n",
       "    </tr>\n",
       "  </thead>\n",
       "  <tbody>\n",
       "    <tr>\n",
       "      <th>0</th>\n",
       "      <td>5.277182</td>\n",
       "    </tr>\n",
       "    <tr>\n",
       "      <th>1</th>\n",
       "      <td>10.676485</td>\n",
       "    </tr>\n",
       "    <tr>\n",
       "      <th>2</th>\n",
       "      <td>14.739578</td>\n",
       "    </tr>\n",
       "    <tr>\n",
       "      <th>3</th>\n",
       "      <td>10.398652</td>\n",
       "    </tr>\n",
       "    <tr>\n",
       "      <th>4</th>\n",
       "      <td>9.038529</td>\n",
       "    </tr>\n",
       "    <tr>\n",
       "      <th>5</th>\n",
       "      <td>9.491829</td>\n",
       "    </tr>\n",
       "    <tr>\n",
       "      <th>6</th>\n",
       "      <td>16.105265</td>\n",
       "    </tr>\n",
       "    <tr>\n",
       "      <th>7</th>\n",
       "      <td>21.023324</td>\n",
       "    </tr>\n",
       "    <tr>\n",
       "      <th>8</th>\n",
       "      <td>17.722059</td>\n",
       "    </tr>\n",
       "    <tr>\n",
       "      <th>9</th>\n",
       "      <td>13.490415</td>\n",
       "    </tr>\n",
       "    <tr>\n",
       "      <th>10</th>\n",
       "      <td>7.986556</td>\n",
       "    </tr>\n",
       "    <tr>\n",
       "      <th>11</th>\n",
       "      <td>11.496044</td>\n",
       "    </tr>\n",
       "    <tr>\n",
       "      <th>12</th>\n",
       "      <td>5.333184</td>\n",
       "    </tr>\n",
       "    <tr>\n",
       "      <th>13</th>\n",
       "      <td>7.989417</td>\n",
       "    </tr>\n",
       "    <tr>\n",
       "      <th>14</th>\n",
       "      <td>15.624773</td>\n",
       "    </tr>\n",
       "    <tr>\n",
       "      <th>15</th>\n",
       "      <td>10.519153</td>\n",
       "    </tr>\n",
       "    <tr>\n",
       "      <th>16</th>\n",
       "      <td>7.961570</td>\n",
       "    </tr>\n",
       "    <tr>\n",
       "      <th>17</th>\n",
       "      <td>9.439177</td>\n",
       "    </tr>\n",
       "    <tr>\n",
       "      <th>18</th>\n",
       "      <td>16.020717</td>\n",
       "    </tr>\n",
       "    <tr>\n",
       "      <th>19</th>\n",
       "      <td>20.489701</td>\n",
       "    </tr>\n",
       "  </tbody>\n",
       "</table>\n",
       "</div>"
      ],
      "text/plain": [
       "    predicted_events\n",
       "0           5.277182\n",
       "1          10.676485\n",
       "2          14.739578\n",
       "3          10.398652\n",
       "4           9.038529\n",
       "5           9.491829\n",
       "6          16.105265\n",
       "7          21.023324\n",
       "8          17.722059\n",
       "9          13.490415\n",
       "10          7.986556\n",
       "11         11.496044\n",
       "12          5.333184\n",
       "13          7.989417\n",
       "14         15.624773\n",
       "15         10.519153\n",
       "16          7.961570\n",
       "17          9.439177\n",
       "18         16.020717\n",
       "19         20.489701"
      ]
     },
     "execution_count": 15,
     "metadata": {},
     "output_type": "execute_result"
    }
   ],
   "source": [
    "prediction = pd.DataFrame(arima_model.predict(n_periods = 20))\n",
    "prediction.columns = ['predicted_events']\n",
    "prediction"
   ]
  },
  {
   "cell_type": "code",
   "execution_count": 16,
   "metadata": {},
   "outputs": [
    {
     "data": {
      "image/png": "[encoded data removed]",
      "text/plain": [
       "<Figure size 576x360 with 1 Axes>"
      ]
     },
     "metadata": {
      "needs_background": "light"
     },
     "output_type": "display_data"
    }
   ],
   "source": [
    "plt.figure(figsize=(8,5))\n",
    "plt.plot(train,label=\"Training\")\n",
    "plt.plot(test,label=\"Test\")\n",
    "plt.plot(prediction,label=\"Predicted\")\n",
    "plt.legend(loc = 'upper right')\n",
    "plt.show()"
   ]
  },
  {
   "cell_type": "code",
   "execution_count": 17,
   "metadata": {},
   "outputs": [
    {
     "data": {
      "text/plain": [
       "-0.3959406837128996"
      ]
     },
     "execution_count": 17,
     "metadata": {},
     "output_type": "execute_result"
    }
   ],
   "source": [
    "from sklearn.metrics import r2_score\n",
    "r2_score(test, prediction)"
   ]
  },
  {
   "cell_type": "code",
   "execution_count": 18,
   "metadata": {},
   "outputs": [
    {
     "data": {
      "text/plain": [
       "array([[21.],\n",
       "       [ 1.],\n",
       "       [24.],\n",
       "       [ 5.],\n",
       "       [ 1.],\n",
       "       [ 2.],\n",
       "       [22.],\n",
       "       [ 4.],\n",
       "       [ 1.],\n",
       "       [ 3.],\n",
       "       [ 8.],\n",
       "       [ 1.],\n",
       "       [34.],\n",
       "       [ 7.],\n",
       "       [ 6.],\n",
       "       [10.],\n",
       "       [13.],\n",
       "       [17.],\n",
       "       [17.],\n",
       "       [18.]], dtype=float32)"
      ]
     },
     "execution_count": 18,
     "metadata": {},
     "output_type": "execute_result"
    }
   ],
   "source": [
    "test"
   ]
  }
 ],
 "metadata": {
  "interpreter": {
   "hash": "11bbcf57d79407485a8d65c6cc737ca9d49c6f1d1b34c1ae2a5e6f49b42ea89b"
  },
  "kernelspec": {
   "display_name": "Python 3.7.7 64-bit",
   "language": "python",
   "name": "python3"
  },
  "language_info": {
   "codemirror_mode": {
    "name": "ipython",
    "version": 3
   },
   "file_extension": ".py",
   "mimetype": "text/x-python",
   "name": "python",
   "nbconvert_exporter": "python",
   "pygments_lexer": "ipython3",
   "version": "3.7.7"
  },
  "orig_nbformat": 4
 },
 "nbformat": 4,
 "nbformat_minor": 2
}

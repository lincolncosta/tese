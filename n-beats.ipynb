{
 "cells": [
  {
   "cell_type": "code",
   "execution_count": 20,
   "metadata": {},
   "outputs": [],
   "source": [
    "from kerasbeats import prep_time_series, NBeatsModel\n",
    "from sklearn.model_selection import train_test_split\n",
    "\n",
    "import pandas as pd\n",
    "import numpy as np"
   ]
  },
  {
   "cell_type": "code",
   "execution_count": 21,
   "metadata": {},
   "outputs": [],
   "source": [
    "events_dict = {\n",
    "    'BLUE: first_blood': 0,\n",
    "    'BLUE: dragon': 1,\n",
    "    'BLUE: herald': 2,\n",
    "    'BLUE: first_tower_top': 3,\n",
    "    'BLUE: first_tower_mid': 4,\n",
    "    'BLUE: first_tower_bot': 5,\n",
    "    'BLUE: second_tower_top': 6,\n",
    "    'BLUE: second_tower_mid': 7,\n",
    "    'BLUE: second_tower_bot': 8,\n",
    "    'BLUE: third_tower_top': 9,\n",
    "    'BLUE: third_tower_mid': 10,\n",
    "    'BLUE: third_tower_bot': 11,\n",
    "    'BLUE: inhibitor_top': 12,\n",
    "    'BLUE: inhibitor_mid': 13,\n",
    "    'BLUE: inhibitor_bot': 14,\n",
    "    'BLUE: baron': 15,\n",
    "    'BLUE: elder_dragon': 16,\n",
    "    'BLUE: nexus_tower': 17,\n",
    "    'BLUE: nexus': 18,\n",
    "    'RED: first_blood': 19,\n",
    "    'RED: dragon': 20,\n",
    "    'RED: herald': 21,\n",
    "    'RED: first_tower_top': 22,\n",
    "    'RED: first_tower_mid': 23,\n",
    "    'RED: first_tower_bot': 24,\n",
    "    'RED: second_tower_top': 25,\n",
    "    'RED: second_tower_mid': 26,\n",
    "    'RED: second_tower_bot': 27,\n",
    "    'RED: third_tower_top': 28,\n",
    "    'RED: third_tower_mid': 29,\n",
    "    'RED: third_tower_bot': 30,\n",
    "    'RED: inhibitor_top': 31,\n",
    "    'RED: inhibitor_mid': 32,\n",
    "    'RED: inhibitor_bot': 33,\n",
    "    'RED: baron': 34,\n",
    "    'RED: elder_dragon': 35,\n",
    "    'RED: nexus_tower': 36,\n",
    "    'RED: nexus': 37\n",
    "}\n",
    "\n",
    "df = pd.read_csv('data/clean-one-line.csv')\n",
    "df = df.drop('game', axis=1)\n",
    "data = df.values.tolist()\n",
    "\n",
    "for game in data:\n",
    "    for i, s in enumerate(game):\n",
    "        if s in events_dict:\n",
    "            game[i] = events_dict.get(s)\n",
    "\n",
    "labelsArray = []\n",
    "\n",
    "for game in data:\n",
    "    labelsArray += game\n",
    "\n",
    "sequence = [b for b in labelsArray if not(isinstance(b, float))]\n",
    "n_in = 6\n",
    "\n",
    "def splitSequence(sequence, n_steps_in, n_steps_out=1):\n",
    "\tX, y = [], []\n",
    "\tfor i in range(len(sequence)):\n",
    "\t\t# find the end of this pattern\n",
    "\t\tend_ix = i + n_steps_in\n",
    "\t\tout_end_ix = end_ix + n_steps_out\n",
    "\t\t# check if we are beyond the sequence\n",
    "\t\tif out_end_ix > len(sequence):\n",
    "\t\t\tbreak\n",
    "\t\t# gather input and output parts of the pattern\n",
    "\t\tseq_x, seq_y = sequence[i:end_ix], sequence[end_ix:out_end_ix]\n",
    "\t\tX.append(seq_x)\n",
    "\t\ty.append(seq_y)\n",
    "\treturn X, y"
   ]
  },
  {
   "cell_type": "code",
   "execution_count": 25,
   "metadata": {},
   "outputs": [],
   "source": [
    "X, y = splitSequence(sequence, n_in)"
   ]
  },
  {
   "cell_type": "code",
   "execution_count": 29,
   "metadata": {},
   "outputs": [],
   "source": [
    "# create training and test sets\n",
    "X_train, X_test, y_train, y_test = train_test_split(X, y, shuffle = False, test_size = 0.2)"
   ]
  },
  {
   "cell_type": "code",
   "execution_count": 30,
   "metadata": {},
   "outputs": [
    {
     "name": "stdout",
     "output_type": "stream",
     "text": [
      "Epoch 1/30\n",
      "11/11 [==============================] - 15s 727ms/step - loss: 44.5361 - mae: 44.5361 - mape: 1030199616.0000\n",
      "Epoch 2/30\n",
      "11/11 [==============================] - 8s 735ms/step - loss: 9.1879 - mae: 9.1879 - mape: 498684640.0000\n",
      "Epoch 3/30\n",
      "11/11 [==============================] - 8s 738ms/step - loss: 9.0565 - mae: 9.0565 - mape: 509651296.0000\n",
      "Epoch 4/30\n",
      "11/11 [==============================] - 9s 800ms/step - loss: 8.9746 - mae: 8.9746 - mape: 514068416.0000\n",
      "Epoch 5/30\n",
      "11/11 [==============================] - 9s 831ms/step - loss: 8.9701 - mae: 8.9701 - mape: 508789184.0000\n",
      "Epoch 6/30\n",
      "11/11 [==============================] - 9s 784ms/step - loss: 8.9558 - mae: 8.9558 - mape: 508207712.0000\n",
      "Epoch 7/30\n",
      "11/11 [==============================] - 8s 728ms/step - loss: 8.9425 - mae: 8.9425 - mape: 511493024.0000\n",
      "Epoch 8/30\n",
      "11/11 [==============================] - 9s 811ms/step - loss: 8.9411 - mae: 8.9411 - mape: 510940992.0000\n",
      "Epoch 9/30\n",
      "11/11 [==============================] - 9s 798ms/step - loss: 8.9427 - mae: 8.9427 - mape: 513026752.0000\n",
      "Epoch 10/30\n",
      "11/11 [==============================] - 9s 814ms/step - loss: 8.9487 - mae: 8.9487 - mape: 510364768.0000\n",
      "Epoch 11/30\n",
      "11/11 [==============================] - 9s 823ms/step - loss: 8.9449 - mae: 8.9449 - mape: 510860192.0000\n",
      "Epoch 12/30\n",
      "11/11 [==============================] - 10s 880ms/step - loss: 8.9977 - mae: 8.9977 - mape: 510814720.0000\n",
      "Epoch 13/30\n",
      "11/11 [==============================] - 9s 816ms/step - loss: 8.9521 - mae: 8.9521 - mape: 509618336.0000\n",
      "Epoch 14/30\n",
      "11/11 [==============================] - 9s 772ms/step - loss: 8.9573 - mae: 8.9573 - mape: 513316384.0000\n",
      "Epoch 15/30\n",
      "11/11 [==============================] - 9s 789ms/step - loss: 8.9501 - mae: 8.9501 - mape: 509954176.0000\n",
      "Epoch 16/30\n",
      "11/11 [==============================] - 9s 780ms/step - loss: 8.9455 - mae: 8.9455 - mape: 511109792.0000\n",
      "Epoch 17/30\n",
      "11/11 [==============================] - 9s 819ms/step - loss: 8.9411 - mae: 8.9411 - mape: 509755296.0000\n",
      "Epoch 18/30\n",
      "11/11 [==============================] - 9s 777ms/step - loss: 8.9331 - mae: 8.9331 - mape: 512320352.0000\n",
      "Epoch 19/30\n",
      "11/11 [==============================] - 9s 789ms/step - loss: 8.9314 - mae: 8.9314 - mape: 509840928.0000\n",
      "Epoch 20/30\n",
      "11/11 [==============================] - 8s 769ms/step - loss: 8.9434 - mae: 8.9434 - mape: 509733536.0000\n",
      "Epoch 21/30\n",
      "11/11 [==============================] - 9s 840ms/step - loss: 8.9375 - mae: 8.9375 - mape: 510971776.0000\n",
      "Epoch 22/30\n",
      "11/11 [==============================] - 8s 768ms/step - loss: 8.9886 - mae: 8.9886 - mape: 508878304.0000\n",
      "Epoch 23/30\n",
      "11/11 [==============================] - 9s 803ms/step - loss: 8.9746 - mae: 8.9746 - mape: 514763232.0000\n",
      "Epoch 24/30\n",
      "11/11 [==============================] - 9s 857ms/step - loss: 8.9659 - mae: 8.9659 - mape: 511274976.0000\n",
      "Epoch 25/30\n",
      "11/11 [==============================] - 9s 846ms/step - loss: 8.9445 - mae: 8.9445 - mape: 511322464.0000\n",
      "Epoch 26/30\n",
      "11/11 [==============================] - 9s 853ms/step - loss: 8.9449 - mae: 8.9449 - mape: 511655904.0000\n",
      "Epoch 27/30\n",
      "11/11 [==============================] - 9s 805ms/step - loss: 8.9710 - mae: 8.9710 - mape: 506769632.0000\n",
      "Epoch 28/30\n",
      "11/11 [==============================] - 9s 783ms/step - loss: 8.9457 - mae: 8.9457 - mape: 513166688.0000\n",
      "Epoch 29/30\n",
      "11/11 [==============================] - 9s 820ms/step - loss: 8.9391 - mae: 8.9391 - mape: 509617312.0000\n",
      "Epoch 30/30\n",
      "11/11 [==============================] - 9s 794ms/step - loss: 8.9329 - mae: 8.9329 - mape: 511253312.0000\n"
     ]
    },
    {
     "data": {
      "text/plain": [
       "<kerasbeats.nbeats.NBeatsModel at 0x2a0b7ebb888>"
      ]
     },
     "execution_count": 30,
     "metadata": {},
     "output_type": "execute_result"
    }
   ],
   "source": [
    "# initialize N-Beats and fit\n",
    "nbeats = NBeatsModel(model_type = 'generic', lookback = 6, horizon = 1)\n",
    "nbeats.fit(X, y, epochs = 30)"
   ]
  }
 ],
 "metadata": {
  "kernelspec": {
   "display_name": "Python 3.7.7 64-bit",
   "language": "python",
   "name": "python3"
  },
  "language_info": {
   "codemirror_mode": {
    "name": "ipython",
    "version": 3
   },
   "file_extension": ".py",
   "mimetype": "text/x-python",
   "name": "python",
   "nbconvert_exporter": "python",
   "pygments_lexer": "ipython3",
   "version": "3.7.7"
  },
  "orig_nbformat": 4,
  "vscode": {
   "interpreter": {
    "hash": "11bbcf57d79407485a8d65c6cc737ca9d49c6f1d1b34c1ae2a5e6f49b42ea89b"
   }
  }
 },
 "nbformat": 4,
 "nbformat_minor": 2
}

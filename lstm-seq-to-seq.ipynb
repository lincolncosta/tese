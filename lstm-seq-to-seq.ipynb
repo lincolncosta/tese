{
 "cells": [
  {
   "cell_type": "code",
   "execution_count": 22,
   "metadata": {},
   "outputs": [],
   "source": [
    "import numpy as np\n",
    "import pandas as pd\n",
    "from numpy import array\n",
    "from numpy import argmax\n",
    "from numpy import array_equal\n",
    "from keras.utils import to_categorical\n",
    "from keras.models import Model\n",
    "from keras.layers import Input\n",
    "from keras.layers import LSTM\n",
    "from keras.layers import Dense\n",
    "from sklearn.model_selection import train_test_split"
   ]
  },
  {
   "cell_type": "code",
   "execution_count": 23,
   "metadata": {},
   "outputs": [],
   "source": [
    "events_dict = {\n",
    "    'BLUE: first_blood': 0,\n",
    "    'BLUE: dragon': 1,\n",
    "    'BLUE: herald': 2,\n",
    "    'BLUE: first_tower_top': 3,\n",
    "    'BLUE: first_tower_mid': 4,\n",
    "    'BLUE: first_tower_bot': 5,\n",
    "    'BLUE: second_tower_top': 6,\n",
    "    'BLUE: second_tower_mid': 7,\n",
    "    'BLUE: second_tower_bot': 8,\n",
    "    'BLUE: third_tower_top': 9,\n",
    "    'BLUE: third_tower_mid': 10,\n",
    "    'BLUE: third_tower_bot': 11,\n",
    "    'BLUE: inhibitor_top': 12,\n",
    "    'BLUE: inhibitor_mid': 13,\n",
    "    'BLUE: inhibitor_bot': 14,\n",
    "    'BLUE: baron': 15,\n",
    "    'BLUE: elder_dragon': 16,\n",
    "    'BLUE: nexus_tower': 17,\n",
    "    'BLUE: nexus': 18,\n",
    "    'RED: first_blood': 19,\n",
    "    'RED: dragon': 20,\n",
    "    'RED: herald': 21,\n",
    "    'RED: first_tower_top': 22,\n",
    "    'RED: first_tower_mid': 23,\n",
    "    'RED: first_tower_bot': 24,\n",
    "    'RED: second_tower_top': 25,\n",
    "    'RED: second_tower_mid': 26,\n",
    "    'RED: second_tower_bot': 27,\n",
    "    'RED: third_tower_top': 28,\n",
    "    'RED: third_tower_mid': 29,\n",
    "    'RED: third_tower_bot': 30,\n",
    "    'RED: inhibitor_top': 31,\n",
    "    'RED: inhibitor_mid': 32,\n",
    "    'RED: inhibitor_bot': 33,\n",
    "    'RED: baron': 34,\n",
    "    'RED: elder_dragon': 35,\n",
    "    'RED: nexus_tower': 36,\n",
    "    'RED: nexus': 37\n",
    "}\n",
    "\n",
    "df = pd.read_csv('data/clean-one-line.csv')\n",
    "df = df.drop('game', axis=1)\n",
    "data = df.values.tolist()\n",
    "\n",
    "for game in data:\n",
    "    for i, s in enumerate(game):\n",
    "        if s in events_dict:\n",
    "            game[i] = events_dict.get(s)\n",
    "\n",
    "labelsArray = []\n",
    "\n",
    "for game in data:\n",
    "    labelsArray += game\n",
    "\n",
    "sequence = [b for b in labelsArray if not(isinstance(b, float))]\n",
    "n_in = 5"
   ]
  },
  {
   "cell_type": "code",
   "execution_count": 24,
   "metadata": {},
   "outputs": [],
   "source": [
    "x_validate = [20, 19, 2, 20, 24, 4, 5, 1]\n",
    "y_validate = [22]"
   ]
  },
  {
   "cell_type": "code",
   "execution_count": 25,
   "metadata": {},
   "outputs": [],
   "source": [
    "def splitSequence(sequence, n_steps_in, n_steps_out=2):\n",
    "\tX, y = [], []\n",
    "\tfor i in range(len(sequence)):\n",
    "\t\t# find the end of this pattern\n",
    "\t\tend_ix = i + n_steps_in\n",
    "\t\tout_end_ix = end_ix + n_steps_out\n",
    "\t\t# check if we are beyond the sequence\n",
    "\t\tif out_end_ix > len(sequence):\n",
    "\t\t\tbreak\n",
    "\t\t# gather input and output parts of the pattern\n",
    "\t\tseq_x, seq_y = sequence[i:end_ix], sequence[end_ix:out_end_ix]\n",
    "\t\tX.append(seq_x)\n",
    "\t\ty.append(seq_y)\n",
    "\treturn X, y"
   ]
  },
  {
   "cell_type": "code",
   "execution_count": 26,
   "metadata": {},
   "outputs": [
    {
     "data": {
      "text/plain": [
       "7006"
      ]
     },
     "execution_count": 26,
     "metadata": {},
     "output_type": "execute_result"
    }
   ],
   "source": [
    "x_train, x_test = train_test_split(sequence,test_size=0.15)\n",
    "len(x_train)"
   ]
  },
  {
   "cell_type": "code",
   "execution_count": 27,
   "metadata": {},
   "outputs": [
    {
     "data": {
      "text/plain": [
       "[33, 37, 23]"
      ]
     },
     "execution_count": 27,
     "metadata": {},
     "output_type": "execute_result"
    }
   ],
   "source": [
    "x_train[:3]"
   ]
  },
  {
   "cell_type": "code",
   "execution_count": 28,
   "metadata": {},
   "outputs": [
    {
     "name": "stdout",
     "output_type": "stream",
     "text": [
      "[[33, 37, 23, 12, 1], [37, 23, 12, 1, 3], [23, 12, 1, 3, 37], [12, 1, 3, 37, 20], [1, 3, 37, 20, 32]]\n"
     ]
    },
    {
     "data": {
      "text/plain": [
       "[[3, 37], [37, 20], [20, 32], [32, 7], [7, 10]]"
      ]
     },
     "execution_count": 28,
     "metadata": {},
     "output_type": "execute_result"
    }
   ],
   "source": [
    "train, y_train = splitSequence(x_train, n_in)\n",
    "print(train[:5])\n",
    "y_train[:5]"
   ]
  },
  {
   "cell_type": "code",
   "execution_count": 29,
   "metadata": {},
   "outputs": [],
   "source": [
    "test, y_test = splitSequence(x_test, n_in)"
   ]
  },
  {
   "cell_type": "code",
   "execution_count": 30,
   "metadata": {},
   "outputs": [
    {
     "name": "stdout",
     "output_type": "stream",
     "text": [
      "(7000, 5, 39) (7000, 2, 39) (7000, 2, 39)\n",
      "Epoch 1/50\n",
      "219/219 [==============================] - 5s 6ms/step - loss: 3.4717 - accuracy: 0.0874\n",
      "Epoch 2/50\n",
      "219/219 [==============================] - 1s 6ms/step - loss: 3.4274 - accuracy: 0.0966\n",
      "Epoch 3/50\n",
      "219/219 [==============================] - 1s 6ms/step - loss: 3.4161 - accuracy: 0.0981\n",
      "Epoch 4/50\n",
      "219/219 [==============================] - 1s 6ms/step - loss: 3.3993 - accuracy: 0.0983\n",
      "Epoch 5/50\n",
      "219/219 [==============================] - 1s 6ms/step - loss: 3.3822 - accuracy: 0.1012\n",
      "Epoch 6/50\n",
      "219/219 [==============================] - 1s 6ms/step - loss: 3.3637 - accuracy: 0.1023\n",
      "Epoch 7/50\n",
      "219/219 [==============================] - 1s 7ms/step - loss: 3.3423 - accuracy: 0.1032\n",
      "Epoch 8/50\n",
      "219/219 [==============================] - 1s 6ms/step - loss: 3.3204 - accuracy: 0.1050\n",
      "Epoch 9/50\n",
      "219/219 [==============================] - 1s 6ms/step - loss: 3.2935 - accuracy: 0.1118\n",
      "Epoch 10/50\n",
      "219/219 [==============================] - 1s 6ms/step - loss: 3.2632 - accuracy: 0.1178\n",
      "Epoch 11/50\n",
      "219/219 [==============================] - 1s 6ms/step - loss: 3.2266 - accuracy: 0.1226\n",
      "Epoch 12/50\n",
      "219/219 [==============================] - 1s 6ms/step - loss: 3.1871 - accuracy: 0.1298\n",
      "Epoch 13/50\n",
      "219/219 [==============================] - 1s 7ms/step - loss: 3.1380 - accuracy: 0.1371\n",
      "Epoch 14/50\n",
      "219/219 [==============================] - 1s 6ms/step - loss: 3.0814 - accuracy: 0.1531\n",
      "Epoch 15/50\n",
      "219/219 [==============================] - 1s 6ms/step - loss: 3.0194 - accuracy: 0.1648\n",
      "Epoch 16/50\n",
      "219/219 [==============================] - 1s 6ms/step - loss: 2.9475 - accuracy: 0.1797\n",
      "Epoch 17/50\n",
      "219/219 [==============================] - 2s 7ms/step - loss: 2.8701 - accuracy: 0.1969\n",
      "Epoch 18/50\n",
      "219/219 [==============================] - 2s 7ms/step - loss: 2.7886 - accuracy: 0.2194\n",
      "Epoch 19/50\n",
      "219/219 [==============================] - 1s 7ms/step - loss: 2.6996 - accuracy: 0.2386\n",
      "Epoch 20/50\n",
      "219/219 [==============================] - 1s 7ms/step - loss: 2.6078 - accuracy: 0.2669\n",
      "Epoch 21/50\n",
      "219/219 [==============================] - 2s 7ms/step - loss: 2.5148 - accuracy: 0.2926\n",
      "Epoch 22/50\n",
      "219/219 [==============================] - 1s 6ms/step - loss: 2.4133 - accuracy: 0.3171\n",
      "Epoch 23/50\n",
      "219/219 [==============================] - 1s 7ms/step - loss: 2.3119 - accuracy: 0.3485\n",
      "Epoch 24/50\n",
      "219/219 [==============================] - 1s 7ms/step - loss: 2.2124 - accuracy: 0.3757\n",
      "Epoch 25/50\n",
      "219/219 [==============================] - 2s 7ms/step - loss: 2.1098 - accuracy: 0.4046\n",
      "Epoch 26/50\n",
      "219/219 [==============================] - 1s 6ms/step - loss: 2.0061 - accuracy: 0.4357\n",
      "Epoch 27/50\n",
      "219/219 [==============================] - 1s 7ms/step - loss: 1.9058 - accuracy: 0.4612\n",
      "Epoch 28/50\n",
      "219/219 [==============================] - 2s 7ms/step - loss: 1.8062 - accuracy: 0.4909\n",
      "Epoch 29/50\n",
      "219/219 [==============================] - 2s 8ms/step - loss: 1.7052 - accuracy: 0.5238\n",
      "Epoch 30/50\n",
      "219/219 [==============================] - 1s 7ms/step - loss: 1.6096 - accuracy: 0.5557\n",
      "Epoch 31/50\n",
      "219/219 [==============================] - 1s 6ms/step - loss: 1.5184 - accuracy: 0.5801\n",
      "Epoch 32/50\n",
      "219/219 [==============================] - 1s 6ms/step - loss: 1.4259 - accuracy: 0.6106\n",
      "Epoch 33/50\n",
      "219/219 [==============================] - 1s 6ms/step - loss: 1.3355 - accuracy: 0.6391\n",
      "Epoch 34/50\n",
      "219/219 [==============================] - 1s 6ms/step - loss: 1.2454 - accuracy: 0.6700\n",
      "Epoch 35/50\n",
      "219/219 [==============================] - 1s 6ms/step - loss: 1.1634 - accuracy: 0.6991\n",
      "Epoch 36/50\n",
      "219/219 [==============================] - 1s 6ms/step - loss: 1.0868 - accuracy: 0.7234\n",
      "Epoch 37/50\n",
      "219/219 [==============================] - 1s 6ms/step - loss: 1.0114 - accuracy: 0.7424\n",
      "Epoch 38/50\n",
      "219/219 [==============================] - 1s 6ms/step - loss: 0.9316 - accuracy: 0.7706\n",
      "Epoch 39/50\n",
      "219/219 [==============================] - 1s 6ms/step - loss: 0.8639 - accuracy: 0.7943\n",
      "Epoch 40/50\n",
      "219/219 [==============================] - 1s 6ms/step - loss: 0.7939 - accuracy: 0.8166\n",
      "Epoch 41/50\n",
      "219/219 [==============================] - 1s 6ms/step - loss: 0.7296 - accuracy: 0.8364\n",
      "Epoch 42/50\n",
      "219/219 [==============================] - 1s 6ms/step - loss: 0.6670 - accuracy: 0.8582\n",
      "Epoch 43/50\n",
      "219/219 [==============================] - 1s 6ms/step - loss: 0.6106 - accuracy: 0.8727\n",
      "Epoch 44/50\n",
      "219/219 [==============================] - 1s 6ms/step - loss: 0.5559 - accuracy: 0.8925\n",
      "Epoch 45/50\n",
      "219/219 [==============================] - 1s 6ms/step - loss: 0.5029 - accuracy: 0.9091\n",
      "Epoch 46/50\n",
      "219/219 [==============================] - 1s 7ms/step - loss: 0.4527 - accuracy: 0.9236\n",
      "Epoch 47/50\n",
      "219/219 [==============================] - 2s 7ms/step - loss: 0.4090 - accuracy: 0.9345\n",
      "Epoch 48/50\n",
      "219/219 [==============================] - 8s 38ms/step - loss: 0.3652 - accuracy: 0.9489\n",
      "Epoch 49/50\n",
      "219/219 [==============================] - 4s 18ms/step - loss: 0.3269 - accuracy: 0.9571\n",
      "Epoch 50/50\n",
      "219/219 [==============================] - 2s 10ms/step - loss: 0.2905 - accuracy: 0.9674\n"
     ]
    },
    {
     "data": {
      "text/plain": [
       "<keras.callbacks.History at 0x1e258344848>"
      ]
     },
     "execution_count": 30,
     "metadata": {},
     "output_type": "execute_result"
    }
   ],
   "source": [
    "# source: https://machinelearningmastery.com/develop-encoder-decoder-model-sequence-sequence-prediction-keras/\n",
    " \n",
    "# prepare data for the LSTM\n",
    "def get_dataset(n_in, n_out, cardinality, data):\n",
    "        X1, X2, y = list(), list(), list()\n",
    "        data, y_data = splitSequence(data, n_in)\n",
    "        for i in range(len(data)):\n",
    "                # generate source sequence\n",
    "                source = data[i]\n",
    "                # define padded target sequence\n",
    "                target = y_data[i]\n",
    "                # create padded input target sequence\n",
    "                target_in = [0] + target[:-1]\n",
    "                # encode\n",
    "                src_encoded = to_categorical([source], num_classes=cardinality)\n",
    "                tar_encoded = to_categorical([target], num_classes=cardinality)\n",
    "                tar2_encoded = to_categorical([target_in], num_classes=cardinality)\n",
    "                # store\n",
    "                X1.append(src_encoded)\n",
    "                X2.append(tar2_encoded)\n",
    "                y.append(tar_encoded)\n",
    "        X1 = np.squeeze(array(X1), axis=1) \n",
    "        X2 = np.squeeze(array(X2), axis=1) \n",
    "        y = np.squeeze(array(y), axis=1) \n",
    "        return X1, X2, y\n",
    "\n",
    "def get_dataset_with_index(n_in, n_out, cardinality, data, i):\n",
    "        X1, X2, y = list(), list(), list()\n",
    "        data, y_data = splitSequence(data, n_in)\n",
    "        # for i in range(len(data)):\n",
    "        # generate source sequence\n",
    "        source = data[i]\n",
    "        # define padded target sequence\n",
    "        target = y_data[i]\n",
    "        # create padded input target sequence\n",
    "        target_in = [0] + target[:-1]\n",
    "        # encode\n",
    "        src_encoded = to_categorical([source], num_classes=cardinality)\n",
    "        tar_encoded = to_categorical([target], num_classes=cardinality)\n",
    "        tar2_encoded = to_categorical([target_in], num_classes=cardinality)\n",
    "        # store\n",
    "        X1.append(src_encoded)\n",
    "        X2.append(tar2_encoded)\n",
    "        y.append(tar_encoded)\n",
    "        X1 = np.squeeze(array(X1), axis=1) \n",
    "        X2 = np.squeeze(array(X2), axis=1) \n",
    "        y = np.squeeze(array(y), axis=1) \n",
    "        return X1, X2, y\n",
    "\n",
    "# returns train, inference_encoder and inference_decoder models\n",
    "def define_models(n_input, n_output, n_units):\n",
    "\t# define training encoder\n",
    "\tencoder_inputs = Input(shape=(None, n_input))\n",
    "\tencoder = LSTM(n_units, return_state=True)\n",
    "\tencoder_outputs, state_h, state_c = encoder(encoder_inputs)\n",
    "\tencoder_states = [state_h, state_c]\n",
    "\t# define training decoder\n",
    "\tdecoder_inputs = Input(shape=(None, n_output))\n",
    "\tdecoder_lstm = LSTM(n_units, return_sequences=True, return_state=True)\n",
    "\tdecoder_outputs, _, _ = decoder_lstm(decoder_inputs, initial_state=encoder_states)\n",
    "\tdecoder_dense = Dense(n_output, activation='softmax')\n",
    "\tdecoder_outputs = decoder_dense(decoder_outputs)\n",
    "\tmodel = Model([encoder_inputs, decoder_inputs], decoder_outputs)\n",
    "\t# define inference encoder\n",
    "\tencoder_model = Model(encoder_inputs, encoder_states)\n",
    "\t# define inference decoder\n",
    "\tdecoder_state_input_h = Input(shape=(n_units,))\n",
    "\tdecoder_state_input_c = Input(shape=(n_units,))\n",
    "\tdecoder_states_inputs = [decoder_state_input_h, decoder_state_input_c]\n",
    "\tdecoder_outputs, state_h, state_c = decoder_lstm(decoder_inputs, initial_state=decoder_states_inputs)\n",
    "\tdecoder_states = [state_h, state_c]\n",
    "\tdecoder_outputs = decoder_dense(decoder_outputs)\n",
    "\tdecoder_model = Model([decoder_inputs] + decoder_states_inputs, [decoder_outputs] + decoder_states)\n",
    "\t# return all models\n",
    "\treturn model, encoder_model, decoder_model\n",
    " \n",
    "# generate target given source sequence\n",
    "def predict_sequence(infenc, infdec, source, n_steps, cardinality):\n",
    "\t# encode\n",
    "\tstate = infenc.predict(source, verbose=0)\n",
    "\t# start of sequence input\n",
    "\ttarget_seq = array([0.0 for _ in range(cardinality)]).reshape(1, 1, cardinality)\n",
    "\t# collect predictions\n",
    "\toutput = list()\n",
    "\tfor t in range(n_steps):\n",
    "\t\t# predict next char\n",
    "\t\tyhat, h, c = infdec.predict([target_seq] + state, verbose=0)\n",
    "\t\t# store prediction\n",
    "\t\toutput.append(yhat[0,0,:])\n",
    "\t\t# update state\n",
    "\t\tstate = [h, c]\n",
    "\t\t# update target sequence\n",
    "\t\ttarget_seq = yhat\n",
    "\treturn array(output)\n",
    " \n",
    "# decode a one hot encoded string\n",
    "def one_hot_decode(encoded_seq):\n",
    "\treturn [argmax(vector) for vector in encoded_seq]\n",
    " \n",
    "# configure problem\n",
    "n_features = 38 + 1\n",
    "n_steps_in = 5\n",
    "n_steps_out = 2\n",
    "# define model\n",
    "train, infenc, infdec = define_models(n_features, n_features, 128)\n",
    "train.compile(optimizer='adam', loss='categorical_crossentropy', metrics=['accuracy'])\n",
    "# generate training dataset\n",
    "X1, X2, y = get_dataset(n_steps_in, n_steps_out, n_features, x_train)\n",
    "print(X1.shape,X2.shape,y.shape)\n",
    "# train model\n",
    "train.fit([X1, X2], y, epochs=50)"
   ]
  },
  {
   "cell_type": "code",
   "execution_count": 31,
   "metadata": {},
   "outputs": [
    {
     "data": {
      "text/plain": [
       "1237"
      ]
     },
     "execution_count": 31,
     "metadata": {},
     "output_type": "execute_result"
    }
   ],
   "source": [
    "total, correct = len(x_test), 0\n",
    "total"
   ]
  },
  {
   "cell_type": "code",
   "execution_count": 32,
   "metadata": {},
   "outputs": [
    {
     "name": "stdout",
     "output_type": "stream",
     "text": [
      "Accuracy: 0.16%\n"
     ]
    }
   ],
   "source": [
    "# evaluate LSTM\n",
    "total, correct = len(test), 0\n",
    "for i in range(total):\n",
    "\tX1, X2, y = get_dataset_with_index(n_steps_in, n_steps_out, n_features, x_test, i)\n",
    "\ttarget = predict_sequence(infenc, infdec, X1, n_steps_out, n_features)\n",
    "\t# print test target and predicted\n",
    "\t# print('y=%s, yhat=%s' % (one_hot_decode(y[0]), one_hot_decode(target)))\n",
    "\tif array_equal(one_hot_decode(y[0]), one_hot_decode(target)):\n",
    "\t\tcorrect += 1\n",
    "print('Accuracy: %.2f%%' % (float(correct)/float( len(test))*100.0))"
   ]
  },
  {
   "cell_type": "code",
   "execution_count": 33,
   "metadata": {},
   "outputs": [
    {
     "name": "stdout",
     "output_type": "stream",
     "text": [
      "8\n",
      "X=[20, 19, 2, 20, 24] y=[4, 5], yhat=[30, 27]\n",
      "X=[19, 2, 20, 24, 4] y=[5, 1], yhat=[16, 27]\n"
     ]
    }
   ],
   "source": [
    "# spot check some examples\n",
    "validate, y_validate = splitSequence(x_validate, n_in)\n",
    "print(len(x_validate))\n",
    "for i in range(len(validate)):\n",
    "\tX1, X2, y = get_dataset_with_index(n_steps_in, n_steps_out, n_features, x_validate, i)\n",
    "\ttarget = predict_sequence(infenc, infdec, X1, n_steps_out, n_features)\n",
    "\tprint('X=%s y=%s, yhat=%s' % (one_hot_decode(X1[0]), one_hot_decode(y[0]), one_hot_decode(target)))"
   ]
  }
 ],
 "metadata": {
  "kernelspec": {
   "display_name": "Python 3.7.7 64-bit",
   "language": "python",
   "name": "python3"
  },
  "language_info": {
   "codemirror_mode": {
    "name": "ipython",
    "version": 3
   },
   "file_extension": ".py",
   "mimetype": "text/x-python",
   "name": "python",
   "nbconvert_exporter": "python",
   "pygments_lexer": "ipython3",
   "version": "3.7.7"
  },
  "orig_nbformat": 4,
  "vscode": {
   "interpreter": {
    "hash": "11bbcf57d79407485a8d65c6cc737ca9d49c6f1d1b34c1ae2a5e6f49b42ea89b"
   }
  }
 },
 "nbformat": 4,
 "nbformat_minor": 2
}

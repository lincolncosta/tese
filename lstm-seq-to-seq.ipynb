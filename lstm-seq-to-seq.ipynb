{
 "cells": [
  {
   "cell_type": "code",
   "execution_count": 1,
   "metadata": {},
   "outputs": [],
   "source": [
    "import numpy as np\n",
    "import pandas as pd\n",
    "from numpy import array\n",
    "from numpy import argmax\n",
    "from numpy import array_equal\n",
    "from keras.utils import to_categorical\n",
    "from keras.models import Model\n",
    "from keras.layers import Input\n",
    "from keras.layers import LSTM\n",
    "from keras.layers import Dense\n",
    "from sklearn.model_selection import train_test_split"
   ]
  },
  {
   "cell_type": "code",
   "execution_count": 2,
   "metadata": {},
   "outputs": [],
   "source": [
    "events_dict = {\n",
    "    'BLUE: first_blood': 0,\n",
    "    'BLUE: dragon': 1,\n",
    "    'BLUE: herald': 2,\n",
    "    'BLUE: first_tower_top': 3,\n",
    "    'BLUE: first_tower_mid': 4,\n",
    "    'BLUE: first_tower_bot': 5,\n",
    "    'BLUE: second_tower_top': 6,\n",
    "    'BLUE: second_tower_mid': 7,\n",
    "    'BLUE: second_tower_bot': 8,\n",
    "    'BLUE: third_tower_top': 9,\n",
    "    'BLUE: third_tower_mid': 10,\n",
    "    'BLUE: third_tower_bot': 11,\n",
    "    'BLUE: inhibitor_top': 12,\n",
    "    'BLUE: inhibitor_mid': 13,\n",
    "    'BLUE: inhibitor_bot': 14,\n",
    "    'BLUE: baron': 15,\n",
    "    'BLUE: elder_dragon': 16,\n",
    "    'BLUE: nexus_tower': 17,\n",
    "    'BLUE: nexus': 18,\n",
    "    'RED: first_blood': 19,\n",
    "    'RED: dragon': 20,\n",
    "    'RED: herald': 21,\n",
    "    'RED: first_tower_top': 22,\n",
    "    'RED: first_tower_mid': 23,\n",
    "    'RED: first_tower_bot': 24,\n",
    "    'RED: second_tower_top': 25,\n",
    "    'RED: second_tower_mid': 26,\n",
    "    'RED: second_tower_bot': 27,\n",
    "    'RED: third_tower_top': 28,\n",
    "    'RED: third_tower_mid': 29,\n",
    "    'RED: third_tower_bot': 30,\n",
    "    'RED: inhibitor_top': 31,\n",
    "    'RED: inhibitor_mid': 32,\n",
    "    'RED: inhibitor_bot': 33,\n",
    "    'RED: baron': 34,\n",
    "    'RED: elder_dragon': 35,\n",
    "    'RED: nexus_tower': 36,\n",
    "    'RED: nexus': 37\n",
    "}\n",
    "\n",
    "df = pd.read_csv('data/clean-one-line.csv')\n",
    "df = df.drop('game', axis=1)\n",
    "data = df.values.tolist()\n",
    "\n",
    "for game in data:\n",
    "    for i, s in enumerate(game):\n",
    "        if s in events_dict:\n",
    "            game[i] = events_dict.get(s)\n",
    "\n",
    "labelsArray = []\n",
    "\n",
    "for game in data:\n",
    "    labelsArray += game\n",
    "\n",
    "sequence = [b for b in labelsArray if not(isinstance(b, float))]\n",
    "n_in = 6"
   ]
  },
  {
   "cell_type": "code",
   "execution_count": 3,
   "metadata": {},
   "outputs": [],
   "source": [
    "x_validate = [19, 1, 2, 1, 24, 2, 20, 3]"
   ]
  },
  {
   "cell_type": "code",
   "execution_count": 4,
   "metadata": {},
   "outputs": [],
   "source": [
    "def splitSequence(sequence, n_steps_in, n_steps_out=2):\n",
    "\tX, y = [], []\n",
    "\tfor i in range(len(sequence)):\n",
    "\t\t# find the end of this pattern\n",
    "\t\tend_ix = i + n_steps_in\n",
    "\t\tout_end_ix = end_ix + n_steps_out\n",
    "\t\t# check if we are beyond the sequence\n",
    "\t\tif out_end_ix > len(sequence):\n",
    "\t\t\tbreak\n",
    "\t\t# gather input and output parts of the pattern\n",
    "\t\tseq_x, seq_y = sequence[i:end_ix], sequence[end_ix:out_end_ix]\n",
    "\t\tX.append(seq_x)\n",
    "\t\ty.append(seq_y)\n",
    "\treturn X, y"
   ]
  },
  {
   "cell_type": "code",
   "execution_count": 5,
   "metadata": {},
   "outputs": [
    {
     "data": {
      "text/plain": [
       "8927"
      ]
     },
     "execution_count": 5,
     "metadata": {},
     "output_type": "execute_result"
    }
   ],
   "source": [
    "x_train, x_test = train_test_split(sequence,test_size=0.20,shuffle = False)\n",
    "len(x_train)"
   ]
  },
  {
   "cell_type": "code",
   "execution_count": 6,
   "metadata": {},
   "outputs": [
    {
     "data": {
      "text/plain": [
       "[19, 2, 3]"
      ]
     },
     "execution_count": 6,
     "metadata": {},
     "output_type": "execute_result"
    }
   ],
   "source": [
    "x_train[:3]"
   ]
  },
  {
   "cell_type": "code",
   "execution_count": 7,
   "metadata": {},
   "outputs": [
    {
     "name": "stdout",
     "output_type": "stream",
     "text": [
      "[[19, 2, 3, 20, 21, 4], [2, 3, 20, 21, 4, 5], [3, 20, 21, 4, 5, 20], [20, 21, 4, 5, 20, 23], [21, 4, 5, 20, 23, 34]]\n"
     ]
    },
    {
     "data": {
      "text/plain": [
       "[[5, 20], [20, 23], [23, 34], [34, 7], [7, 1]]"
      ]
     },
     "execution_count": 7,
     "metadata": {},
     "output_type": "execute_result"
    }
   ],
   "source": [
    "train, y_train = splitSequence(x_train, n_in)\n",
    "print(train[:5])\n",
    "y_train[:5]"
   ]
  },
  {
   "cell_type": "code",
   "execution_count": 8,
   "metadata": {},
   "outputs": [],
   "source": [
    "test, y_test = splitSequence(x_test, n_in)"
   ]
  },
  {
   "cell_type": "code",
   "execution_count": 9,
   "metadata": {},
   "outputs": [
    {
     "name": "stdout",
     "output_type": "stream",
     "text": [
      "(8920, 6, 39) (8920, 2, 39) (8920, 2, 39)\n",
      "Epoch 1/75\n",
      "279/279 [==============================] - 5s 7ms/step - loss: 2.8202 - accuracy: 0.1753\n",
      "Epoch 2/75\n",
      "279/279 [==============================] - 2s 7ms/step - loss: 2.3441 - accuracy: 0.2802\n",
      "Epoch 3/75\n",
      "279/279 [==============================] - 2s 7ms/step - loss: 2.1467 - accuracy: 0.3365\n",
      "Epoch 4/75\n",
      "279/279 [==============================] - 2s 7ms/step - loss: 2.0080 - accuracy: 0.3689\n",
      "Epoch 5/75\n",
      "279/279 [==============================] - 2s 7ms/step - loss: 1.9211 - accuracy: 0.3871\n",
      "Epoch 6/75\n",
      "279/279 [==============================] - 2s 7ms/step - loss: 1.8636 - accuracy: 0.3934\n",
      "Epoch 7/75\n",
      "279/279 [==============================] - 2s 7ms/step - loss: 1.8141 - accuracy: 0.4061\n",
      "Epoch 8/75\n",
      "279/279 [==============================] - 2s 7ms/step - loss: 1.7733 - accuracy: 0.4134\n",
      "Epoch 9/75\n",
      "279/279 [==============================] - 2s 7ms/step - loss: 1.7367 - accuracy: 0.4224\n",
      "Epoch 10/75\n",
      "279/279 [==============================] - 2s 7ms/step - loss: 1.7080 - accuracy: 0.4280\n",
      "Epoch 11/75\n",
      "279/279 [==============================] - 2s 7ms/step - loss: 1.6706 - accuracy: 0.4349\n",
      "Epoch 12/75\n",
      "279/279 [==============================] - 2s 7ms/step - loss: 1.6388 - accuracy: 0.4427\n",
      "Epoch 13/75\n",
      "279/279 [==============================] - 2s 7ms/step - loss: 1.6076 - accuracy: 0.4550\n",
      "Epoch 14/75\n",
      "279/279 [==============================] - 2s 7ms/step - loss: 1.5718 - accuracy: 0.4624\n",
      "Epoch 15/75\n",
      "279/279 [==============================] - 2s 7ms/step - loss: 1.5349 - accuracy: 0.4724\n",
      "Epoch 16/75\n",
      "279/279 [==============================] - 2s 7ms/step - loss: 1.5025 - accuracy: 0.4858\n",
      "Epoch 17/75\n",
      "279/279 [==============================] - 2s 7ms/step - loss: 1.4656 - accuracy: 0.4966\n",
      "Epoch 18/75\n",
      "279/279 [==============================] - 2s 7ms/step - loss: 1.4229 - accuracy: 0.5061\n",
      "Epoch 19/75\n",
      "279/279 [==============================] - 2s 7ms/step - loss: 1.3907 - accuracy: 0.5224\n",
      "Epoch 20/75\n",
      "279/279 [==============================] - 2s 7ms/step - loss: 1.3497 - accuracy: 0.5337\n",
      "Epoch 21/75\n",
      "279/279 [==============================] - 2s 7ms/step - loss: 1.3118 - accuracy: 0.5471\n",
      "Epoch 22/75\n",
      "279/279 [==============================] - 2s 9ms/step - loss: 1.2726 - accuracy: 0.5569\n",
      "Epoch 23/75\n",
      "279/279 [==============================] - 2s 7ms/step - loss: 1.2331 - accuracy: 0.5722\n",
      "Epoch 24/75\n",
      "279/279 [==============================] - 2s 7ms/step - loss: 1.1909 - accuracy: 0.5853\n",
      "Epoch 25/75\n",
      "279/279 [==============================] - 2s 7ms/step - loss: 1.1537 - accuracy: 0.5978\n",
      "Epoch 26/75\n",
      "279/279 [==============================] - 2s 7ms/step - loss: 1.1107 - accuracy: 0.6152\n",
      "Epoch 27/75\n",
      "279/279 [==============================] - 2s 7ms/step - loss: 1.0721 - accuracy: 0.6278\n",
      "Epoch 28/75\n",
      "279/279 [==============================] - 2s 8ms/step - loss: 1.0291 - accuracy: 0.6464\n",
      "Epoch 29/75\n",
      "279/279 [==============================] - 2s 8ms/step - loss: 0.9868 - accuracy: 0.6598\n",
      "Epoch 30/75\n",
      "279/279 [==============================] - 2s 8ms/step - loss: 0.9543 - accuracy: 0.6725\n",
      "Epoch 31/75\n",
      "279/279 [==============================] - 2s 7ms/step - loss: 0.9069 - accuracy: 0.6945\n",
      "Epoch 32/75\n",
      "279/279 [==============================] - 2s 7ms/step - loss: 0.8742 - accuracy: 0.7047\n",
      "Epoch 33/75\n",
      "279/279 [==============================] - 2s 7ms/step - loss: 0.8356 - accuracy: 0.7198\n",
      "Epoch 34/75\n",
      "279/279 [==============================] - 2s 7ms/step - loss: 0.8003 - accuracy: 0.7317\n",
      "Epoch 35/75\n",
      "279/279 [==============================] - 2s 7ms/step - loss: 0.7635 - accuracy: 0.7466\n",
      "Epoch 36/75\n",
      "279/279 [==============================] - 2s 7ms/step - loss: 0.7269 - accuracy: 0.7595\n",
      "Epoch 37/75\n",
      "279/279 [==============================] - 2s 8ms/step - loss: 0.6944 - accuracy: 0.7709\n",
      "Epoch 38/75\n",
      "279/279 [==============================] - 2s 7ms/step - loss: 0.6626 - accuracy: 0.7813\n",
      "Epoch 39/75\n",
      "279/279 [==============================] - 2s 7ms/step - loss: 0.6313 - accuracy: 0.7965\n",
      "Epoch 40/75\n",
      "279/279 [==============================] - 2s 7ms/step - loss: 0.6010 - accuracy: 0.8068\n",
      "Epoch 41/75\n",
      "279/279 [==============================] - 2s 7ms/step - loss: 0.5723 - accuracy: 0.8157\n",
      "Epoch 42/75\n",
      "279/279 [==============================] - 2s 7ms/step - loss: 0.5426 - accuracy: 0.8258\n",
      "Epoch 43/75\n",
      "279/279 [==============================] - 2s 7ms/step - loss: 0.5224 - accuracy: 0.8345\n",
      "Epoch 44/75\n",
      "279/279 [==============================] - 2s 7ms/step - loss: 0.4928 - accuracy: 0.8429\n",
      "Epoch 45/75\n",
      "279/279 [==============================] - 2s 7ms/step - loss: 0.4723 - accuracy: 0.8508\n",
      "Epoch 46/75\n",
      "279/279 [==============================] - 2s 7ms/step - loss: 0.4514 - accuracy: 0.8591\n",
      "Epoch 47/75\n",
      "279/279 [==============================] - 2s 7ms/step - loss: 0.4317 - accuracy: 0.8630\n",
      "Epoch 48/75\n",
      "279/279 [==============================] - 2s 7ms/step - loss: 0.4128 - accuracy: 0.8687\n",
      "Epoch 49/75\n",
      "279/279 [==============================] - 2s 7ms/step - loss: 0.3948 - accuracy: 0.8753\n",
      "Epoch 50/75\n",
      "279/279 [==============================] - 2s 7ms/step - loss: 0.3773 - accuracy: 0.8842\n",
      "Epoch 51/75\n",
      "279/279 [==============================] - 2s 7ms/step - loss: 0.3643 - accuracy: 0.8854\n",
      "Epoch 52/75\n",
      "279/279 [==============================] - 2s 7ms/step - loss: 0.3468 - accuracy: 0.8928\n",
      "Epoch 53/75\n",
      "279/279 [==============================] - 2s 8ms/step - loss: 0.3405 - accuracy: 0.8909\n",
      "Epoch 54/75\n",
      "279/279 [==============================] - 2s 7ms/step - loss: 0.3250 - accuracy: 0.8957\n",
      "Epoch 55/75\n",
      "279/279 [==============================] - 2s 7ms/step - loss: 0.3131 - accuracy: 0.9017\n",
      "Epoch 56/75\n",
      "279/279 [==============================] - 2s 7ms/step - loss: 0.3021 - accuracy: 0.9039\n",
      "Epoch 57/75\n",
      "279/279 [==============================] - 2s 7ms/step - loss: 0.2940 - accuracy: 0.9039\n",
      "Epoch 58/75\n",
      "279/279 [==============================] - 2s 7ms/step - loss: 0.2866 - accuracy: 0.9080\n",
      "Epoch 59/75\n",
      "279/279 [==============================] - 2s 7ms/step - loss: 0.2737 - accuracy: 0.9109\n",
      "Epoch 60/75\n",
      "279/279 [==============================] - 2s 7ms/step - loss: 0.2721 - accuracy: 0.9109\n",
      "Epoch 61/75\n",
      "279/279 [==============================] - 2s 7ms/step - loss: 0.2669 - accuracy: 0.9123\n",
      "Epoch 62/75\n",
      "279/279 [==============================] - 2s 7ms/step - loss: 0.2550 - accuracy: 0.9146\n",
      "Epoch 63/75\n",
      "279/279 [==============================] - 2s 7ms/step - loss: 0.2515 - accuracy: 0.9144\n",
      "Epoch 64/75\n",
      "279/279 [==============================] - 2s 7ms/step - loss: 0.2478 - accuracy: 0.9171\n",
      "Epoch 65/75\n",
      "279/279 [==============================] - 2s 7ms/step - loss: 0.2472 - accuracy: 0.9156\n",
      "Epoch 66/75\n",
      "279/279 [==============================] - 2s 7ms/step - loss: 0.2378 - accuracy: 0.9196\n",
      "Epoch 67/75\n",
      "279/279 [==============================] - 2s 7ms/step - loss: 0.2347 - accuracy: 0.9182\n",
      "Epoch 68/75\n",
      "279/279 [==============================] - 2s 7ms/step - loss: 0.2289 - accuracy: 0.9198\n",
      "Epoch 69/75\n",
      "279/279 [==============================] - 2s 7ms/step - loss: 0.2261 - accuracy: 0.9205\n",
      "Epoch 70/75\n",
      "279/279 [==============================] - 2s 7ms/step - loss: 0.2271 - accuracy: 0.9173\n",
      "Epoch 71/75\n",
      "279/279 [==============================] - 2s 7ms/step - loss: 0.2186 - accuracy: 0.9221\n",
      "Epoch 72/75\n",
      "279/279 [==============================] - 2s 7ms/step - loss: 0.2157 - accuracy: 0.9209\n",
      "Epoch 73/75\n",
      "279/279 [==============================] - 2s 7ms/step - loss: 0.2137 - accuracy: 0.9230\n",
      "Epoch 74/75\n",
      "279/279 [==============================] - 2s 7ms/step - loss: 0.2210 - accuracy: 0.9198\n",
      "Epoch 75/75\n",
      "279/279 [==============================] - 2s 7ms/step - loss: 0.2085 - accuracy: 0.9235\n"
     ]
    },
    {
     "data": {
      "text/plain": [
       "<keras.callbacks.History at 0x2244fe3f248>"
      ]
     },
     "execution_count": 9,
     "metadata": {},
     "output_type": "execute_result"
    }
   ],
   "source": [
    "# source: https://machinelearningmastery.com/develop-encoder-decoder-model-sequence-sequence-prediction-keras/\n",
    "\n",
    "# prepare data for the LSTM\n",
    "def get_dataset(n_in, n_out, cardinality, data):\n",
    "        X1, X2, y = list(), list(), list()\n",
    "        data, y_data = splitSequence(data, n_in)\n",
    "        for i in range(len(data)):\n",
    "                # generate source sequence\n",
    "                source = data[i]\n",
    "                # define padded target sequence\n",
    "                target = y_data[i]\n",
    "                # create padded input target sequence\n",
    "                target_in = [0] + target[:-1]\n",
    "                # encode\n",
    "                src_encoded = to_categorical([source], num_classes=cardinality)\n",
    "                tar_encoded = to_categorical([target], num_classes=cardinality)\n",
    "                tar2_encoded = to_categorical([target_in], num_classes=cardinality)\n",
    "                # store\n",
    "                X1.append(src_encoded)\n",
    "                X2.append(tar2_encoded)\n",
    "                y.append(tar_encoded)\n",
    "        X1 = np.squeeze(array(X1), axis=1) \n",
    "        X2 = np.squeeze(array(X2), axis=1) \n",
    "        y = np.squeeze(array(y), axis=1) \n",
    "        return X1, X2, y\n",
    "\n",
    "def get_dataset_with_index(n_in, n_out, cardinality, data, i):\n",
    "        X1, X2, y = list(), list(), list()\n",
    "        data, y_data = splitSequence(data, n_in)\n",
    "        # for i in range(len(data)):\n",
    "        # generate source sequence\n",
    "        source = data[i]\n",
    "        # define padded target sequence\n",
    "        target = y_data[i]\n",
    "        # create padded input target sequence\n",
    "        target_in = [0] + target[:-1]\n",
    "        # encode\n",
    "        src_encoded = to_categorical([source], num_classes=cardinality)\n",
    "        tar_encoded = to_categorical([target], num_classes=cardinality)\n",
    "        tar2_encoded = to_categorical([target_in], num_classes=cardinality)\n",
    "        # store\n",
    "        X1.append(src_encoded)\n",
    "        X2.append(tar2_encoded)\n",
    "        y.append(tar_encoded)\n",
    "        X1 = np.squeeze(array(X1), axis=1) \n",
    "        X2 = np.squeeze(array(X2), axis=1) \n",
    "        y = np.squeeze(array(y), axis=1) \n",
    "        return X1, X2, y\n",
    "\n",
    "# returns train, inference_encoder and inference_decoder models\n",
    "def define_models(n_input, n_output, n_units):\n",
    "\t# define training encoder\n",
    "\tencoder_inputs = Input(shape=(None, n_input))\n",
    "\tencoder = LSTM(n_units, return_state=True)\n",
    "\tencoder_outputs, state_h, state_c = encoder(encoder_inputs)\n",
    "\tencoder_states = [state_h, state_c]\n",
    "\t# define training decoder\n",
    "\tdecoder_inputs = Input(shape=(None, n_output))\n",
    "\tdecoder_lstm = LSTM(n_units, return_sequences=True, return_state=True)\n",
    "\tdecoder_outputs, _, _ = decoder_lstm(decoder_inputs, initial_state=encoder_states)\n",
    "\tdecoder_dense = Dense(n_output, activation='softmax')\n",
    "\tdecoder_outputs = decoder_dense(decoder_outputs)\n",
    "\tmodel = Model([encoder_inputs, decoder_inputs], decoder_outputs)\n",
    "\t# define inference encoder\n",
    "\tencoder_model = Model(encoder_inputs, encoder_states)\n",
    "\t# define inference decoder\n",
    "\tdecoder_state_input_h = Input(shape=(n_units,))\n",
    "\tdecoder_state_input_c = Input(shape=(n_units,))\n",
    "\tdecoder_states_inputs = [decoder_state_input_h, decoder_state_input_c]\n",
    "\tdecoder_outputs, state_h, state_c = decoder_lstm(decoder_inputs, initial_state=decoder_states_inputs)\n",
    "\tdecoder_states = [state_h, state_c]\n",
    "\tdecoder_outputs = decoder_dense(decoder_outputs)\n",
    "\tdecoder_model = Model([decoder_inputs] + decoder_states_inputs, [decoder_outputs] + decoder_states)\n",
    "\t# return all models\n",
    "\treturn model, encoder_model, decoder_model\n",
    " \n",
    "# generate target given source sequence\n",
    "def predict_sequence(infenc, infdec, source, n_steps, cardinality):\n",
    "\t# encode\n",
    "\tstate = infenc.predict(source, verbose=0)\n",
    "\t# start of sequence input\n",
    "\ttarget_seq = array([0.0 for _ in range(cardinality)]).reshape(1, 1, cardinality)\n",
    "\t# collect predictions\n",
    "\toutput = list()\n",
    "\tfor t in range(n_steps):\n",
    "\t\t# predict next char\n",
    "\t\tyhat, h, c = infdec.predict([target_seq] + state, verbose=0)\n",
    "\t\t# store prediction\n",
    "\t\toutput.append(yhat[0,0,:])\n",
    "\t\t# update state\n",
    "\t\tstate = [h, c]\n",
    "\t\t# update target sequence\n",
    "\t\ttarget_seq = yhat\n",
    "\treturn array(output)\n",
    " \n",
    "# decode a one hot encoded string\n",
    "def one_hot_decode(encoded_seq):\n",
    "\treturn [argmax(vector) for vector in encoded_seq]\n",
    "\n",
    "def has_common_data(list1, list2):\n",
    "    result = False\n",
    "  \n",
    "    # traverse in the 1st list\n",
    "    for x in list1:\n",
    "  \n",
    "        # traverse in the 2nd list\n",
    "        for y in list2:\n",
    "    \n",
    "            # if one common\n",
    "            if x == y:\n",
    "                result = True\n",
    "                return result \n",
    "                  \n",
    "    return result\n",
    "\n",
    "# configure problem\n",
    "n_features = 38 + 1\n",
    "n_steps_in = 6\n",
    "n_steps_out = 2\n",
    "# define model\n",
    "train, infenc, infdec = define_models(n_features, n_features, 128)\n",
    "train.compile(optimizer='adam', loss='categorical_crossentropy', metrics=['accuracy'])\n",
    "# generate training dataset\n",
    "X1, X2, y = get_dataset(n_steps_in, n_steps_out, n_features, x_train)\n",
    "print(X1.shape,X2.shape,y.shape)\n",
    "# train model\n",
    "train.fit([X1, X2], y, epochs=75)"
   ]
  },
  {
   "cell_type": "code",
   "execution_count": 10,
   "metadata": {},
   "outputs": [
    {
     "data": {
      "text/plain": [
       "2232"
      ]
     },
     "execution_count": 10,
     "metadata": {},
     "output_type": "execute_result"
    }
   ],
   "source": [
    "total, correct = len(x_test), 0\n",
    "total"
   ]
  },
  {
   "cell_type": "code",
   "execution_count": 11,
   "metadata": {},
   "outputs": [
    {
     "name": "stdout",
     "output_type": "stream",
     "text": [
      "Accuracy considering equal: 12.94%\n",
      "Accuracy considering at-least one in common: 59.46%\n"
     ]
    }
   ],
   "source": [
    "# evaluate LSTM\n",
    "total, correctEqual, correctOne = len(test), 0, 0\n",
    "for i in range(total):\n",
    "\tX1, X2, y = get_dataset_with_index(n_steps_in, n_steps_out, n_features, x_test, i)\n",
    "\ttarget = predict_sequence(infenc, infdec, X1, n_steps_out, n_features)\n",
    "\t# print test target and predicted\n",
    "\t# print('y=%s, yhat=%s' % (one_hot_decode(y[0]), one_hot_decode(target)))\n",
    "\tif has_common_data(one_hot_decode(y[0]), one_hot_decode(target)):\n",
    "\t\tcorrectOne += 1\n",
    "\tif array_equal(one_hot_decode(y[0]), one_hot_decode(target)):\n",
    "\t\tcorrectEqual += 1\n",
    "print('Accuracy considering equal: %.2f%%' % (float(correctEqual)/float( len(test))*100.0))\n",
    "print('Accuracy considering at-least one in common: %.2f%%' % (float(correctOne)/float( len(test))*100.0))"
   ]
  },
  {
   "cell_type": "code",
   "execution_count": 12,
   "metadata": {},
   "outputs": [
    {
     "name": "stdout",
     "output_type": "stream",
     "text": [
      "X=[19, 1, 2, 1, 24, 2] y=[20, 3], yhat=[23, 5]\n"
     ]
    }
   ],
   "source": [
    "# spot check some examples\n",
    "validate, y_validate = splitSequence(x_validate, n_in)\n",
    "\n",
    "for i in range(len(validate)):\n",
    "\tX1, X2, y = get_dataset_with_index(n_steps_in, n_steps_out, n_features, x_validate, i)\n",
    "\ttarget = predict_sequence(infenc, infdec, X1, n_steps_out, n_features)\n",
    "\tprint('X=%s y=%s, yhat=%s' % (one_hot_decode(X1[0]), one_hot_decode(y[0]), one_hot_decode(target)))"
   ]
  }
 ],
 "metadata": {
  "kernelspec": {
   "display_name": "Python 3.7.7 64-bit",
   "language": "python",
   "name": "python3"
  },
  "language_info": {
   "codemirror_mode": {
    "name": "ipython",
    "version": 3
   },
   "file_extension": ".py",
   "mimetype": "text/x-python",
   "name": "python",
   "nbconvert_exporter": "python",
   "pygments_lexer": "ipython3",
   "version": "3.7.7"
  },
  "orig_nbformat": 4,
  "vscode": {
   "interpreter": {
    "hash": "11bbcf57d79407485a8d65c6cc737ca9d49c6f1d1b34c1ae2a5e6f49b42ea89b"
   }
  }
 },
 "nbformat": 4,
 "nbformat_minor": 2
}

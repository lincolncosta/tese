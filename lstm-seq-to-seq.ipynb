{
 "cells": [
  {
   "cell_type": "code",
   "execution_count": 22,
   "metadata": {},
   "outputs": [],
   "source": [
    "import numpy as np\n",
    "import pandas as pd\n",
    "from numpy import array\n",
    "from numpy import argmax\n",
    "from numpy import array_equal\n",
    "from keras.utils import to_categorical\n",
    "from keras.models import Model\n",
    "from keras.layers import Input\n",
    "from keras.layers import LSTM\n",
    "from keras.layers import Dense\n",
    "from sklearn.model_selection import train_test_split"
   ]
  },
  {
   "cell_type": "code",
   "execution_count": 23,
   "metadata": {},
   "outputs": [],
   "source": [
    "events_dict = {\n",
    "    'BLUE: first_blood': 0,\n",
    "    'BLUE: dragon': 1,\n",
    "    'BLUE: herald': 2,\n",
    "    'BLUE: first_tower_top': 3,\n",
    "    'BLUE: first_tower_mid': 4,\n",
    "    'BLUE: first_tower_bot': 5,\n",
    "    'BLUE: second_tower_top': 6,\n",
    "    'BLUE: second_tower_mid': 7,\n",
    "    'BLUE: second_tower_bot': 8,\n",
    "    'BLUE: third_tower_top': 9,\n",
    "    'BLUE: third_tower_mid': 10,\n",
    "    'BLUE: third_tower_bot': 11,\n",
    "    'BLUE: inhibitor_top': 12,\n",
    "    'BLUE: inhibitor_mid': 13,\n",
    "    'BLUE: inhibitor_bot': 14,\n",
    "    'BLUE: baron': 15,\n",
    "    'BLUE: elder_dragon': 16,\n",
    "    'BLUE: nexus_tower': 17,\n",
    "    'BLUE: nexus': 18,\n",
    "    'RED: first_blood': 19,\n",
    "    'RED: dragon': 20,\n",
    "    'RED: herald': 21,\n",
    "    'RED: first_tower_top': 22,\n",
    "    'RED: first_tower_mid': 23,\n",
    "    'RED: first_tower_bot': 24,\n",
    "    'RED: second_tower_top': 25,\n",
    "    'RED: second_tower_mid': 26,\n",
    "    'RED: second_tower_bot': 27,\n",
    "    'RED: third_tower_top': 28,\n",
    "    'RED: third_tower_mid': 29,\n",
    "    'RED: third_tower_bot': 30,\n",
    "    'RED: inhibitor_top': 31,\n",
    "    'RED: inhibitor_mid': 32,\n",
    "    'RED: inhibitor_bot': 33,\n",
    "    'RED: baron': 34,\n",
    "    'RED: elder_dragon': 35,\n",
    "    'RED: nexus_tower': 36,\n",
    "    'RED: nexus': 37\n",
    "}\n",
    "\n",
    "df = pd.read_csv('data/clean-one-line.csv')\n",
    "df = df.drop('game', axis=1)\n",
    "data = df.values.tolist()\n",
    "\n",
    "for game in data:\n",
    "    for i, s in enumerate(game):\n",
    "        if s in events_dict:\n",
    "            game[i] = events_dict.get(s)\n",
    "\n",
    "labelsArray = []\n",
    "\n",
    "for game in data:\n",
    "    labelsArray += game\n",
    "\n",
    "sequence = [b for b in labelsArray if not(isinstance(b, float))]\n",
    "n_in = 6"
   ]
  },
  {
   "cell_type": "code",
   "execution_count": 24,
   "metadata": {},
   "outputs": [],
   "source": [
    "x_validate = [20, 19, 2, 20, 24, 4]\n",
    "y_validate = [5]"
   ]
  },
  {
   "cell_type": "code",
   "execution_count": 25,
   "metadata": {},
   "outputs": [],
   "source": [
    "def splitSequence(sequence, n_steps_in, n_steps_out=2):\n",
    "\tX, y = [], []\n",
    "\tfor i in range(len(sequence)):\n",
    "\t\t# find the end of this pattern\n",
    "\t\tend_ix = i + n_steps_in\n",
    "\t\tout_end_ix = end_ix + n_steps_out\n",
    "\t\t# check if we are beyond the sequence\n",
    "\t\tif out_end_ix > len(sequence):\n",
    "\t\t\tbreak\n",
    "\t\t# gather input and output parts of the pattern\n",
    "\t\tseq_x, seq_y = sequence[i:end_ix], sequence[end_ix:out_end_ix]\n",
    "\t\tX.append(seq_x)\n",
    "\t\ty.append(seq_y)\n",
    "\treturn X, y"
   ]
  },
  {
   "cell_type": "code",
   "execution_count": 26,
   "metadata": {},
   "outputs": [
    {
     "data": {
      "text/plain": [
       "8547"
      ]
     },
     "execution_count": 26,
     "metadata": {},
     "output_type": "execute_result"
    }
   ],
   "source": [
    "x_train, x_test = train_test_split(sequence,test_size=0.20)\n",
    "len(x_train)"
   ]
  },
  {
   "cell_type": "code",
   "execution_count": 27,
   "metadata": {},
   "outputs": [
    {
     "data": {
      "text/plain": [
       "[12, 1, 37]"
      ]
     },
     "execution_count": 27,
     "metadata": {},
     "output_type": "execute_result"
    }
   ],
   "source": [
    "x_train[:3]"
   ]
  },
  {
   "cell_type": "code",
   "execution_count": 28,
   "metadata": {},
   "outputs": [
    {
     "name": "stdout",
     "output_type": "stream",
     "text": [
      "[[12, 1, 37, 8, 30, 1], [1, 37, 8, 30, 1, 14], [37, 8, 30, 1, 14, 2], [8, 30, 1, 14, 2, 34], [30, 1, 14, 2, 34, 24]]\n"
     ]
    },
    {
     "data": {
      "text/plain": [
       "[[14, 2], [2, 34], [34, 24], [24, 20], [20, 1]]"
      ]
     },
     "execution_count": 28,
     "metadata": {},
     "output_type": "execute_result"
    }
   ],
   "source": [
    "train, y_train = splitSequence(x_train, n_in)\n",
    "print(train[:5])\n",
    "y_train[:5]"
   ]
  },
  {
   "cell_type": "code",
   "execution_count": 29,
   "metadata": {},
   "outputs": [],
   "source": [
    "test, y_test = splitSequence(x_test, n_in)"
   ]
  },
  {
   "cell_type": "code",
   "execution_count": 30,
   "metadata": {},
   "outputs": [
    {
     "name": "stdout",
     "output_type": "stream",
     "text": [
      "(8540, 6, 39) (8540, 2, 39) (8540, 2, 39)\n",
      "Epoch 1/75\n",
      "267/267 [==============================] - 5s 7ms/step - loss: 3.4622 - accuracy: 0.0902\n",
      "Epoch 2/75\n",
      "267/267 [==============================] - 2s 6ms/step - loss: 3.4286 - accuracy: 0.0970\n",
      "Epoch 3/75\n",
      "267/267 [==============================] - 2s 6ms/step - loss: 3.4165 - accuracy: 0.1021\n",
      "Epoch 4/75\n",
      "267/267 [==============================] - 2s 6ms/step - loss: 3.4019 - accuracy: 0.1044\n",
      "Epoch 5/75\n",
      "267/267 [==============================] - 2s 6ms/step - loss: 3.3833 - accuracy: 0.1043\n",
      "Epoch 6/75\n",
      "267/267 [==============================] - 2s 6ms/step - loss: 3.3622 - accuracy: 0.1061\n",
      "Epoch 7/75\n",
      "267/267 [==============================] - 2s 6ms/step - loss: 3.3411 - accuracy: 0.1076\n",
      "Epoch 8/75\n",
      "267/267 [==============================] - 2s 6ms/step - loss: 3.3143 - accuracy: 0.1121\n",
      "Epoch 9/75\n",
      "267/267 [==============================] - 2s 6ms/step - loss: 3.2821 - accuracy: 0.1146\n",
      "Epoch 10/75\n",
      "267/267 [==============================] - 2s 6ms/step - loss: 3.2441 - accuracy: 0.1189\n",
      "Epoch 11/75\n",
      "267/267 [==============================] - 2s 6ms/step - loss: 3.1948 - accuracy: 0.1281\n",
      "Epoch 12/75\n",
      "267/267 [==============================] - 2s 6ms/step - loss: 3.1417 - accuracy: 0.1408\n",
      "Epoch 13/75\n",
      "267/267 [==============================] - 2s 6ms/step - loss: 3.0760 - accuracy: 0.1560\n",
      "Epoch 14/75\n",
      "267/267 [==============================] - 2s 6ms/step - loss: 3.0002 - accuracy: 0.1700\n",
      "Epoch 15/75\n",
      "267/267 [==============================] - 2s 6ms/step - loss: 2.9178 - accuracy: 0.1862\n",
      "Epoch 16/75\n",
      "267/267 [==============================] - 2s 6ms/step - loss: 2.8307 - accuracy: 0.2049\n",
      "Epoch 17/75\n",
      "267/267 [==============================] - 2s 6ms/step - loss: 2.7373 - accuracy: 0.2326\n",
      "Epoch 18/75\n",
      "267/267 [==============================] - 2s 6ms/step - loss: 2.6357 - accuracy: 0.2585\n",
      "Epoch 19/75\n",
      "267/267 [==============================] - 2s 6ms/step - loss: 2.5317 - accuracy: 0.2811\n",
      "Epoch 20/75\n",
      "267/267 [==============================] - 1s 5ms/step - loss: 2.4266 - accuracy: 0.3104\n",
      "Epoch 21/75\n",
      "267/267 [==============================] - 2s 6ms/step - loss: 2.3213 - accuracy: 0.3398\n",
      "Epoch 22/75\n",
      "267/267 [==============================] - 1s 5ms/step - loss: 2.2117 - accuracy: 0.3728\n",
      "Epoch 23/75\n",
      "267/267 [==============================] - 1s 6ms/step - loss: 2.1024 - accuracy: 0.4012\n",
      "Epoch 24/75\n",
      "267/267 [==============================] - 1s 5ms/step - loss: 1.9932 - accuracy: 0.4330\n",
      "Epoch 25/75\n",
      "267/267 [==============================] - 1s 5ms/step - loss: 1.8899 - accuracy: 0.4638\n",
      "Epoch 26/75\n",
      "267/267 [==============================] - 1s 5ms/step - loss: 1.7866 - accuracy: 0.4951\n",
      "Epoch 27/75\n",
      "267/267 [==============================] - 1s 6ms/step - loss: 1.6866 - accuracy: 0.5242\n",
      "Epoch 28/75\n",
      "267/267 [==============================] - 1s 6ms/step - loss: 1.5778 - accuracy: 0.5608\n",
      "Epoch 29/75\n",
      "267/267 [==============================] - 1s 6ms/step - loss: 1.4841 - accuracy: 0.5883\n",
      "Epoch 30/75\n",
      "267/267 [==============================] - 1s 5ms/step - loss: 1.3923 - accuracy: 0.6184\n",
      "Epoch 31/75\n",
      "267/267 [==============================] - 1s 5ms/step - loss: 1.2964 - accuracy: 0.6453\n",
      "Epoch 32/75\n",
      "267/267 [==============================] - 1s 5ms/step - loss: 1.2095 - accuracy: 0.6731\n",
      "Epoch 33/75\n",
      "267/267 [==============================] - 1s 5ms/step - loss: 1.1218 - accuracy: 0.7063\n",
      "Epoch 34/75\n",
      "267/267 [==============================] - 1s 5ms/step - loss: 1.0400 - accuracy: 0.7287\n",
      "Epoch 35/75\n",
      "267/267 [==============================] - 1s 5ms/step - loss: 0.9636 - accuracy: 0.7511\n",
      "Epoch 36/75\n",
      "267/267 [==============================] - 1s 5ms/step - loss: 0.8891 - accuracy: 0.7779\n",
      "Epoch 37/75\n",
      "267/267 [==============================] - 1s 5ms/step - loss: 0.8151 - accuracy: 0.7996\n",
      "Epoch 38/75\n",
      "267/267 [==============================] - 1s 5ms/step - loss: 0.7499 - accuracy: 0.8214\n",
      "Epoch 39/75\n",
      "267/267 [==============================] - 1s 5ms/step - loss: 0.6849 - accuracy: 0.8424\n",
      "Epoch 40/75\n",
      "267/267 [==============================] - 1s 5ms/step - loss: 0.6254 - accuracy: 0.8618\n",
      "Epoch 41/75\n",
      "267/267 [==============================] - 1s 6ms/step - loss: 0.5681 - accuracy: 0.8782\n",
      "Epoch 42/75\n",
      "267/267 [==============================] - 1s 5ms/step - loss: 0.5156 - accuracy: 0.8939\n",
      "Epoch 43/75\n",
      "267/267 [==============================] - 1s 5ms/step - loss: 0.4655 - accuracy: 0.9111\n",
      "Epoch 44/75\n",
      "267/267 [==============================] - 1s 6ms/step - loss: 0.4164 - accuracy: 0.9256\n",
      "Epoch 45/75\n",
      "267/267 [==============================] - 1s 5ms/step - loss: 0.3792 - accuracy: 0.9351\n",
      "Epoch 46/75\n",
      "267/267 [==============================] - 1s 5ms/step - loss: 0.3341 - accuracy: 0.9486\n",
      "Epoch 47/75\n",
      "267/267 [==============================] - 1s 5ms/step - loss: 0.2979 - accuracy: 0.9601\n",
      "Epoch 48/75\n",
      "267/267 [==============================] - 1s 6ms/step - loss: 0.2651 - accuracy: 0.9675\n",
      "Epoch 49/75\n",
      "267/267 [==============================] - 1s 5ms/step - loss: 0.2327 - accuracy: 0.9746\n",
      "Epoch 50/75\n",
      "267/267 [==============================] - 1s 6ms/step - loss: 0.2093 - accuracy: 0.9803\n",
      "Epoch 51/75\n",
      "267/267 [==============================] - 1s 5ms/step - loss: 0.1828 - accuracy: 0.9851\n",
      "Epoch 52/75\n",
      "267/267 [==============================] - 1s 5ms/step - loss: 0.1688 - accuracy: 0.9867\n",
      "Epoch 53/75\n",
      "267/267 [==============================] - 1s 5ms/step - loss: 0.1581 - accuracy: 0.9876\n",
      "Epoch 54/75\n",
      "267/267 [==============================] - 1s 6ms/step - loss: 0.1430 - accuracy: 0.9907\n",
      "Epoch 55/75\n",
      "267/267 [==============================] - 1s 5ms/step - loss: 0.1258 - accuracy: 0.9920\n",
      "Epoch 56/75\n",
      "267/267 [==============================] - 1s 5ms/step - loss: 0.1114 - accuracy: 0.9937\n",
      "Epoch 57/75\n",
      "267/267 [==============================] - 1s 5ms/step - loss: 0.1015 - accuracy: 0.9949\n",
      "Epoch 58/75\n",
      "267/267 [==============================] - 1s 5ms/step - loss: 0.0944 - accuracy: 0.9942\n",
      "Epoch 59/75\n",
      "267/267 [==============================] - 1s 5ms/step - loss: 0.1170 - accuracy: 0.9871\n",
      "Epoch 60/75\n",
      "267/267 [==============================] - 1s 5ms/step - loss: 0.1588 - accuracy: 0.9714\n",
      "Epoch 61/75\n",
      "267/267 [==============================] - 1s 5ms/step - loss: 0.1012 - accuracy: 0.9895\n",
      "Epoch 62/75\n",
      "267/267 [==============================] - 1s 6ms/step - loss: 0.0585 - accuracy: 0.9983\n",
      "Epoch 63/75\n",
      "267/267 [==============================] - 1s 6ms/step - loss: 0.0367 - accuracy: 0.9997\n",
      "Epoch 64/75\n",
      "267/267 [==============================] - 2s 6ms/step - loss: 0.0284 - accuracy: 1.0000\n",
      "Epoch 65/75\n",
      "267/267 [==============================] - 1s 6ms/step - loss: 0.0240 - accuracy: 1.0000\n",
      "Epoch 66/75\n",
      "267/267 [==============================] - 1s 6ms/step - loss: 0.0213 - accuracy: 1.0000\n",
      "Epoch 67/75\n",
      "267/267 [==============================] - 1s 5ms/step - loss: 0.0193 - accuracy: 1.0000\n",
      "Epoch 68/75\n",
      "267/267 [==============================] - 1s 6ms/step - loss: 0.0185 - accuracy: 0.9999\n",
      "Epoch 69/75\n",
      "267/267 [==============================] - 1s 6ms/step - loss: 0.0204 - accuracy: 0.9998\n",
      "Epoch 70/75\n",
      "267/267 [==============================] - 1s 5ms/step - loss: 0.6529 - accuracy: 0.8082\n",
      "Epoch 71/75\n",
      "267/267 [==============================] - 1s 5ms/step - loss: 0.1892 - accuracy: 0.9514\n",
      "Epoch 72/75\n",
      "267/267 [==============================] - 1s 5ms/step - loss: 0.0568 - accuracy: 0.9962\n",
      "Epoch 73/75\n",
      "267/267 [==============================] - 1s 5ms/step - loss: 0.0281 - accuracy: 0.9999\n",
      "Epoch 74/75\n",
      "267/267 [==============================] - 1s 5ms/step - loss: 0.0214 - accuracy: 1.0000\n",
      "Epoch 75/75\n",
      "267/267 [==============================] - 1s 5ms/step - loss: 0.0184 - accuracy: 1.0000\n"
     ]
    },
    {
     "data": {
      "text/plain": [
       "<keras.callbacks.History at 0x1f669300348>"
      ]
     },
     "execution_count": 30,
     "metadata": {},
     "output_type": "execute_result"
    }
   ],
   "source": [
    "# source: https://machinelearningmastery.com/develop-encoder-decoder-model-sequence-sequence-prediction-keras/\n",
    "\n",
    "# prepare data for the LSTM\n",
    "def get_dataset(n_in, n_out, cardinality, data):\n",
    "        X1, X2, y = list(), list(), list()\n",
    "        data, y_data = splitSequence(data, n_in)\n",
    "        for i in range(len(data)):\n",
    "                # generate source sequence\n",
    "                source = data[i]\n",
    "                # define padded target sequence\n",
    "                target = y_data[i]\n",
    "                # create padded input target sequence\n",
    "                target_in = [0] + target[:-1]\n",
    "                # encode\n",
    "                src_encoded = to_categorical([source], num_classes=cardinality)\n",
    "                tar_encoded = to_categorical([target], num_classes=cardinality)\n",
    "                tar2_encoded = to_categorical([target_in], num_classes=cardinality)\n",
    "                # store\n",
    "                X1.append(src_encoded)\n",
    "                X2.append(tar2_encoded)\n",
    "                y.append(tar_encoded)\n",
    "        X1 = np.squeeze(array(X1), axis=1) \n",
    "        X2 = np.squeeze(array(X2), axis=1) \n",
    "        y = np.squeeze(array(y), axis=1) \n",
    "        return X1, X2, y\n",
    "\n",
    "def get_dataset_with_index(n_in, n_out, cardinality, data, i):\n",
    "        X1, X2, y = list(), list(), list()\n",
    "        data, y_data = splitSequence(data, n_in)\n",
    "        # for i in range(len(data)):\n",
    "        # generate source sequence\n",
    "        source = data[i]\n",
    "        # define padded target sequence\n",
    "        target = y_data[i]\n",
    "        # create padded input target sequence\n",
    "        target_in = [0] + target[:-1]\n",
    "        # encode\n",
    "        src_encoded = to_categorical([source], num_classes=cardinality)\n",
    "        tar_encoded = to_categorical([target], num_classes=cardinality)\n",
    "        tar2_encoded = to_categorical([target_in], num_classes=cardinality)\n",
    "        # store\n",
    "        X1.append(src_encoded)\n",
    "        X2.append(tar2_encoded)\n",
    "        y.append(tar_encoded)\n",
    "        X1 = np.squeeze(array(X1), axis=1) \n",
    "        X2 = np.squeeze(array(X2), axis=1) \n",
    "        y = np.squeeze(array(y), axis=1) \n",
    "        return X1, X2, y\n",
    "\n",
    "# returns train, inference_encoder and inference_decoder models\n",
    "def define_models(n_input, n_output, n_units):\n",
    "\t# define training encoder\n",
    "\tencoder_inputs = Input(shape=(None, n_input))\n",
    "\tencoder = LSTM(n_units, return_state=True)\n",
    "\tencoder_outputs, state_h, state_c = encoder(encoder_inputs)\n",
    "\tencoder_states = [state_h, state_c]\n",
    "\t# define training decoder\n",
    "\tdecoder_inputs = Input(shape=(None, n_output))\n",
    "\tdecoder_lstm = LSTM(n_units, return_sequences=True, return_state=True)\n",
    "\tdecoder_outputs, _, _ = decoder_lstm(decoder_inputs, initial_state=encoder_states)\n",
    "\tdecoder_dense = Dense(n_output, activation='softmax')\n",
    "\tdecoder_outputs = decoder_dense(decoder_outputs)\n",
    "\tmodel = Model([encoder_inputs, decoder_inputs], decoder_outputs)\n",
    "\t# define inference encoder\n",
    "\tencoder_model = Model(encoder_inputs, encoder_states)\n",
    "\t# define inference decoder\n",
    "\tdecoder_state_input_h = Input(shape=(n_units,))\n",
    "\tdecoder_state_input_c = Input(shape=(n_units,))\n",
    "\tdecoder_states_inputs = [decoder_state_input_h, decoder_state_input_c]\n",
    "\tdecoder_outputs, state_h, state_c = decoder_lstm(decoder_inputs, initial_state=decoder_states_inputs)\n",
    "\tdecoder_states = [state_h, state_c]\n",
    "\tdecoder_outputs = decoder_dense(decoder_outputs)\n",
    "\tdecoder_model = Model([decoder_inputs] + decoder_states_inputs, [decoder_outputs] + decoder_states)\n",
    "\t# return all models\n",
    "\treturn model, encoder_model, decoder_model\n",
    " \n",
    "# generate target given source sequence\n",
    "def predict_sequence(infenc, infdec, source, n_steps, cardinality):\n",
    "\t# encode\n",
    "\tstate = infenc.predict(source, verbose=0)\n",
    "\t# start of sequence input\n",
    "\ttarget_seq = array([0.0 for _ in range(cardinality)]).reshape(1, 1, cardinality)\n",
    "\t# collect predictions\n",
    "\toutput = list()\n",
    "\tfor t in range(n_steps):\n",
    "\t\t# predict next char\n",
    "\t\tyhat, h, c = infdec.predict([target_seq] + state, verbose=0)\n",
    "\t\t# store prediction\n",
    "\t\toutput.append(yhat[0,0,:])\n",
    "\t\t# update state\n",
    "\t\tstate = [h, c]\n",
    "\t\t# update target sequence\n",
    "\t\ttarget_seq = yhat\n",
    "\treturn array(output)\n",
    " \n",
    "# decode a one hot encoded string\n",
    "def one_hot_decode(encoded_seq):\n",
    "\treturn [argmax(vector) for vector in encoded_seq]\n",
    "\n",
    "def has_common_data(list1, list2):\n",
    "    result = False\n",
    "  \n",
    "    # traverse in the 1st list\n",
    "    for x in list1:\n",
    "  \n",
    "        # traverse in the 2nd list\n",
    "        for y in list2:\n",
    "    \n",
    "            # if one common\n",
    "            if x == y:\n",
    "                result = True\n",
    "                return result \n",
    "                  \n",
    "    return result\n",
    "\n",
    "# configure problem\n",
    "n_features = 38 + 1\n",
    "n_steps_in = 6\n",
    "n_steps_out = 2\n",
    "# define model\n",
    "train, infenc, infdec = define_models(n_features, n_features, 128)\n",
    "train.compile(optimizer='adam', loss='categorical_crossentropy', metrics=['accuracy'])\n",
    "# generate training dataset\n",
    "X1, X2, y = get_dataset(n_steps_in, n_steps_out, n_features, x_train)\n",
    "print(X1.shape,X2.shape,y.shape)\n",
    "# train model\n",
    "train.fit([X1, X2], y, epochs=75)"
   ]
  },
  {
   "cell_type": "code",
   "execution_count": 31,
   "metadata": {},
   "outputs": [
    {
     "data": {
      "text/plain": [
       "2137"
      ]
     },
     "execution_count": 31,
     "metadata": {},
     "output_type": "execute_result"
    }
   ],
   "source": [
    "total, correct = len(x_test), 0\n",
    "total"
   ]
  },
  {
   "cell_type": "code",
   "execution_count": 32,
   "metadata": {},
   "outputs": [
    {
     "name": "stdout",
     "output_type": "stream",
     "text": [
      "Accuracy considering equal: 0.33%\n",
      "Accuracy considering at-least one in common: 14.79%\n"
     ]
    }
   ],
   "source": [
    "# evaluate LSTM\n",
    "total, correctEqual, correctOne = len(test), 0, 0\n",
    "for i in range(total):\n",
    "\tX1, X2, y = get_dataset_with_index(n_steps_in, n_steps_out, n_features, x_test, i)\n",
    "\ttarget = predict_sequence(infenc, infdec, X1, n_steps_out, n_features)\n",
    "\t# print test target and predicted\n",
    "\t# print('y=%s, yhat=%s' % (one_hot_decode(y[0]), one_hot_decode(target)))\n",
    "\tif has_common_data(one_hot_decode(y[0]), one_hot_decode(target)):\n",
    "\t\tcorrectOne += 1\n",
    "\tif array_equal(one_hot_decode(y[0]), one_hot_decode(target)):\n",
    "\t\tcorrectEqual += 1\n",
    "print('Accuracy considering equal: %.2f%%' % (float(correctEqual)/float( len(test))*100.0))\n",
    "print('Accuracy considering at-least one in common: %.2f%%' % (float(correctOne)/float( len(test))*100.0))"
   ]
  },
  {
   "cell_type": "code",
   "execution_count": 33,
   "metadata": {},
   "outputs": [],
   "source": [
    "# spot check some examples\n",
    "validate, y_validate = splitSequence(x_validate, n_in)\n",
    "for i in range(len(validate)):\n",
    "\tX1, X2, y = get_dataset_with_index(n_steps_in, n_steps_out, n_features, x_validate, i)\n",
    "\ttarget = predict_sequence(infenc, infdec, X1, n_steps_out, n_features)\n",
    "\tprint('X=%s y=%s, yhat=%s' % (one_hot_decode(X1[0]), one_hot_decode(y[0]), one_hot_decode(target)))"
   ]
  }
 ],
 "metadata": {
  "kernelspec": {
   "display_name": "Python 3.7.7 64-bit",
   "language": "python",
   "name": "python3"
  },
  "language_info": {
   "codemirror_mode": {
    "name": "ipython",
    "version": 3
   },
   "file_extension": ".py",
   "mimetype": "text/x-python",
   "name": "python",
   "nbconvert_exporter": "python",
   "pygments_lexer": "ipython3",
   "version": "3.7.7"
  },
  "orig_nbformat": 4,
  "vscode": {
   "interpreter": {
    "hash": "11bbcf57d79407485a8d65c6cc737ca9d49c6f1d1b34c1ae2a5e6f49b42ea89b"
   }
  }
 },
 "nbformat": 4,
 "nbformat_minor": 2
}

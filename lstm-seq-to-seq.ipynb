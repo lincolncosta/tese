{
 "cells": [
  {
   "cell_type": "code",
   "execution_count": 27,
   "metadata": {},
   "outputs": [],
   "source": [
    "import numpy as np\n",
    "import pandas as pd\n",
    "from numpy import array\n",
    "from numpy import argmax\n",
    "from numpy import array_equal\n",
    "from keras.utils import to_categorical\n",
    "from keras.models import Model\n",
    "from keras.layers import Input\n",
    "from keras.layers import LSTM\n",
    "from keras.layers import Dense\n",
    "from sklearn.model_selection import train_test_split"
   ]
  },
  {
   "cell_type": "code",
   "execution_count": 28,
   "metadata": {},
   "outputs": [],
   "source": [
    "events_dict = {\n",
    "    'BLUE: first_blood': 0,\n",
    "    'BLUE: dragon': 1,\n",
    "    'BLUE: herald': 2,\n",
    "    'BLUE: first_tower_top': 3,\n",
    "    'BLUE: first_tower_mid': 4,\n",
    "    'BLUE: first_tower_bot': 5,\n",
    "    'BLUE: second_tower_top': 6,\n",
    "    'BLUE: second_tower_mid': 7,\n",
    "    'BLUE: second_tower_bot': 8,\n",
    "    'BLUE: third_tower_top': 9,\n",
    "    'BLUE: third_tower_mid': 10,\n",
    "    'BLUE: third_tower_bot': 11,\n",
    "    'BLUE: inhibitor_top': 12,\n",
    "    'BLUE: inhibitor_mid': 13,\n",
    "    'BLUE: inhibitor_bot': 14,\n",
    "    'BLUE: baron': 15,\n",
    "    'BLUE: elder_dragon': 16,\n",
    "    'BLUE: nexus_tower': 17,\n",
    "    'BLUE: nexus': 18,\n",
    "    'RED: first_blood': 19,\n",
    "    'RED: dragon': 20,\n",
    "    'RED: herald': 21,\n",
    "    'RED: first_tower_top': 22,\n",
    "    'RED: first_tower_mid': 23,\n",
    "    'RED: first_tower_bot': 24,\n",
    "    'RED: second_tower_top': 25,\n",
    "    'RED: second_tower_mid': 26,\n",
    "    'RED: second_tower_bot': 27,\n",
    "    'RED: third_tower_top': 28,\n",
    "    'RED: third_tower_mid': 29,\n",
    "    'RED: third_tower_bot': 30,\n",
    "    'RED: inhibitor_top': 31,\n",
    "    'RED: inhibitor_mid': 32,\n",
    "    'RED: inhibitor_bot': 33,\n",
    "    'RED: baron': 34,\n",
    "    'RED: elder_dragon': 35,\n",
    "    'RED: nexus_tower': 36,\n",
    "    'RED: nexus': 37\n",
    "}\n",
    "\n",
    "df = pd.read_csv('data/clean-one-line.csv')\n",
    "df = df.drop('game', axis=1)\n",
    "data = df.values.tolist()\n",
    "\n",
    "for game in data:\n",
    "    for i, s in enumerate(game):\n",
    "        if s in events_dict:\n",
    "            game[i] = events_dict.get(s)\n",
    "\n",
    "labelsArray = []\n",
    "\n",
    "for game in data:\n",
    "    labelsArray += game\n",
    "\n",
    "sequence = [b for b in labelsArray if not(isinstance(b, float))]\n",
    "n_in = 6"
   ]
  },
  {
   "cell_type": "code",
   "execution_count": 29,
   "metadata": {},
   "outputs": [],
   "source": [
    "x_validate = [19, 1, 2, 1, 24, 2, 20, 3]"
   ]
  },
  {
   "cell_type": "code",
   "execution_count": 30,
   "metadata": {},
   "outputs": [],
   "source": [
    "def splitSequence(sequence, n_steps_in, n_steps_out=2):\n",
    "\tX, y = [], []\n",
    "\tfor i in range(len(sequence)):\n",
    "\t\t# find the end of this pattern\n",
    "\t\tend_ix = i + n_steps_in\n",
    "\t\tout_end_ix = end_ix + n_steps_out\n",
    "\t\t# check if we are beyond the sequence\n",
    "\t\tif out_end_ix > len(sequence):\n",
    "\t\t\tbreak\n",
    "\t\t# gather input and output parts of the pattern\n",
    "\t\tseq_x, seq_y = sequence[i:end_ix], sequence[end_ix:out_end_ix]\n",
    "\t\tX.append(seq_x)\n",
    "\t\ty.append(seq_y)\n",
    "\treturn X, y"
   ]
  },
  {
   "cell_type": "code",
   "execution_count": 31,
   "metadata": {},
   "outputs": [
    {
     "data": {
      "text/plain": [
       "8716"
      ]
     },
     "execution_count": 31,
     "metadata": {},
     "output_type": "execute_result"
    }
   ],
   "source": [
    "x_train, x_test = train_test_split(sequence,test_size=0.20,shuffle = False)\n",
    "len(x_train)"
   ]
  },
  {
   "cell_type": "code",
   "execution_count": 32,
   "metadata": {},
   "outputs": [
    {
     "data": {
      "text/plain": [
       "[19, 2, 3]"
      ]
     },
     "execution_count": 32,
     "metadata": {},
     "output_type": "execute_result"
    }
   ],
   "source": [
    "x_train[:3]"
   ]
  },
  {
   "cell_type": "code",
   "execution_count": 33,
   "metadata": {},
   "outputs": [
    {
     "name": "stdout",
     "output_type": "stream",
     "text": [
      "[[19, 2, 3, 20, 21, 4], [2, 3, 20, 21, 4, 5], [3, 20, 21, 4, 5, 20], [20, 21, 4, 5, 20, 23], [21, 4, 5, 20, 23, 34]]\n"
     ]
    },
    {
     "data": {
      "text/plain": [
       "[[5, 20], [20, 23], [23, 34], [34, 7], [7, 1]]"
      ]
     },
     "execution_count": 33,
     "metadata": {},
     "output_type": "execute_result"
    }
   ],
   "source": [
    "train, y_train = splitSequence(x_train, n_in)\n",
    "print(train[:5])\n",
    "y_train[:5]"
   ]
  },
  {
   "cell_type": "code",
   "execution_count": 34,
   "metadata": {},
   "outputs": [],
   "source": [
    "test, y_test = splitSequence(x_test, n_in)"
   ]
  },
  {
   "cell_type": "code",
   "execution_count": 35,
   "metadata": {},
   "outputs": [
    {
     "name": "stdout",
     "output_type": "stream",
     "text": [
      "(8709, 6, 39) (8709, 2, 39) (8709, 2, 39)\n",
      "Epoch 1/75\n",
      "273/273 [==============================] - 5s 6ms/step - loss: 2.8191 - accuracy: 0.1777\n",
      "Epoch 2/75\n",
      "273/273 [==============================] - 2s 6ms/step - loss: 2.3457 - accuracy: 0.2807\n",
      "Epoch 3/75\n",
      "273/273 [==============================] - 2s 6ms/step - loss: 2.1538 - accuracy: 0.3386\n",
      "Epoch 4/75\n",
      "273/273 [==============================] - 2s 6ms/step - loss: 2.0238 - accuracy: 0.3682\n",
      "Epoch 5/75\n",
      "273/273 [==============================] - 2s 6ms/step - loss: 1.9346 - accuracy: 0.3814\n",
      "Epoch 6/75\n",
      "273/273 [==============================] - 2s 6ms/step - loss: 1.8684 - accuracy: 0.3956\n",
      "Epoch 7/75\n",
      "273/273 [==============================] - 2s 6ms/step - loss: 1.8284 - accuracy: 0.4038\n",
      "Epoch 8/75\n",
      "273/273 [==============================] - 2s 6ms/step - loss: 1.7808 - accuracy: 0.4073\n",
      "Epoch 9/75\n",
      "273/273 [==============================] - 2s 6ms/step - loss: 1.7467 - accuracy: 0.4212\n",
      "Epoch 10/75\n",
      "273/273 [==============================] - 2s 7ms/step - loss: 1.7148 - accuracy: 0.4240\n",
      "Epoch 11/75\n",
      "273/273 [==============================] - 2s 6ms/step - loss: 1.6835 - accuracy: 0.4301\n",
      "Epoch 12/75\n",
      "273/273 [==============================] - 2s 6ms/step - loss: 1.6491 - accuracy: 0.4464\n",
      "Epoch 13/75\n",
      "273/273 [==============================] - 2s 7ms/step - loss: 1.6224 - accuracy: 0.4493\n",
      "Epoch 14/75\n",
      "273/273 [==============================] - 2s 7ms/step - loss: 1.5890 - accuracy: 0.4570\n",
      "Epoch 15/75\n",
      "273/273 [==============================] - 2s 7ms/step - loss: 1.5525 - accuracy: 0.4682\n",
      "Epoch 16/75\n",
      "273/273 [==============================] - 2s 6ms/step - loss: 1.5167 - accuracy: 0.4809\n",
      "Epoch 17/75\n",
      "273/273 [==============================] - 2s 6ms/step - loss: 1.4792 - accuracy: 0.4922\n",
      "Epoch 18/75\n",
      "273/273 [==============================] - 2s 6ms/step - loss: 1.4438 - accuracy: 0.5014\n",
      "Epoch 19/75\n",
      "273/273 [==============================] - 2s 6ms/step - loss: 1.4069 - accuracy: 0.5148\n",
      "Epoch 20/75\n",
      "273/273 [==============================] - 2s 6ms/step - loss: 1.3695 - accuracy: 0.5276\n",
      "Epoch 21/75\n",
      "273/273 [==============================] - 2s 7ms/step - loss: 1.3288 - accuracy: 0.5401\n",
      "Epoch 22/75\n",
      "273/273 [==============================] - 2s 6ms/step - loss: 1.2892 - accuracy: 0.5535\n",
      "Epoch 23/75\n",
      "273/273 [==============================] - 2s 7ms/step - loss: 1.2489 - accuracy: 0.5638\n",
      "Epoch 24/75\n",
      "273/273 [==============================] - 2s 6ms/step - loss: 1.2083 - accuracy: 0.5822\n",
      "Epoch 25/75\n",
      "273/273 [==============================] - 2s 6ms/step - loss: 1.1645 - accuracy: 0.6008\n",
      "Epoch 26/75\n",
      "273/273 [==============================] - 2s 6ms/step - loss: 1.1239 - accuracy: 0.6152\n",
      "Epoch 27/75\n",
      "273/273 [==============================] - 2s 6ms/step - loss: 1.0859 - accuracy: 0.6288\n",
      "Epoch 28/75\n",
      "273/273 [==============================] - 2s 6ms/step - loss: 1.0438 - accuracy: 0.6422\n",
      "Epoch 29/75\n",
      "273/273 [==============================] - 2s 6ms/step - loss: 1.0010 - accuracy: 0.6608\n",
      "Epoch 30/75\n",
      "273/273 [==============================] - 2s 6ms/step - loss: 0.9601 - accuracy: 0.6722\n",
      "Epoch 31/75\n",
      "273/273 [==============================] - 2s 6ms/step - loss: 0.9189 - accuracy: 0.6889\n",
      "Epoch 32/75\n",
      "273/273 [==============================] - 2s 6ms/step - loss: 0.8792 - accuracy: 0.7031\n",
      "Epoch 33/75\n",
      "273/273 [==============================] - 2s 6ms/step - loss: 0.8459 - accuracy: 0.7117\n",
      "Epoch 34/75\n",
      "273/273 [==============================] - 2s 6ms/step - loss: 0.8013 - accuracy: 0.7302\n",
      "Epoch 35/75\n",
      "273/273 [==============================] - 2s 6ms/step - loss: 0.7725 - accuracy: 0.7443\n",
      "Epoch 36/75\n",
      "273/273 [==============================] - 2s 6ms/step - loss: 0.7335 - accuracy: 0.7575\n",
      "Epoch 37/75\n",
      "273/273 [==============================] - 2s 6ms/step - loss: 0.6999 - accuracy: 0.7689\n",
      "Epoch 38/75\n",
      "273/273 [==============================] - 2s 6ms/step - loss: 0.6670 - accuracy: 0.7838\n",
      "Epoch 39/75\n",
      "273/273 [==============================] - 2s 6ms/step - loss: 0.6368 - accuracy: 0.7941\n",
      "Epoch 40/75\n",
      "273/273 [==============================] - 2s 6ms/step - loss: 0.6074 - accuracy: 0.8043\n",
      "Epoch 41/75\n",
      "273/273 [==============================] - 2s 6ms/step - loss: 0.5780 - accuracy: 0.8174\n",
      "Epoch 42/75\n",
      "273/273 [==============================] - 2s 6ms/step - loss: 0.5453 - accuracy: 0.8286\n",
      "Epoch 43/75\n",
      "273/273 [==============================] - 2s 6ms/step - loss: 0.5283 - accuracy: 0.8335\n",
      "Epoch 44/75\n",
      "273/273 [==============================] - 2s 6ms/step - loss: 0.5032 - accuracy: 0.8424\n",
      "Epoch 45/75\n",
      "273/273 [==============================] - 2s 6ms/step - loss: 0.4755 - accuracy: 0.8508\n",
      "Epoch 46/75\n",
      "273/273 [==============================] - 2s 6ms/step - loss: 0.4521 - accuracy: 0.8587\n",
      "Epoch 47/75\n",
      "273/273 [==============================] - 2s 6ms/step - loss: 0.4285 - accuracy: 0.8689\n",
      "Epoch 48/75\n",
      "273/273 [==============================] - 2s 6ms/step - loss: 0.4191 - accuracy: 0.8704\n",
      "Epoch 49/75\n",
      "273/273 [==============================] - 2s 6ms/step - loss: 0.3913 - accuracy: 0.8795\n",
      "Epoch 50/75\n",
      "273/273 [==============================] - 2s 7ms/step - loss: 0.3791 - accuracy: 0.8809\n",
      "Epoch 51/75\n",
      "273/273 [==============================] - 2s 6ms/step - loss: 0.3635 - accuracy: 0.8858\n",
      "Epoch 52/75\n",
      "273/273 [==============================] - 2s 6ms/step - loss: 0.3484 - accuracy: 0.8926\n",
      "Epoch 53/75\n",
      "273/273 [==============================] - 2s 6ms/step - loss: 0.3332 - accuracy: 0.8949\n",
      "Epoch 54/75\n",
      "273/273 [==============================] - 2s 6ms/step - loss: 0.3227 - accuracy: 0.8988\n",
      "Epoch 55/75\n",
      "273/273 [==============================] - 2s 6ms/step - loss: 0.3085 - accuracy: 0.9044\n",
      "Epoch 56/75\n",
      "273/273 [==============================] - 2s 6ms/step - loss: 0.3020 - accuracy: 0.9060\n",
      "Epoch 57/75\n",
      "273/273 [==============================] - 2s 7ms/step - loss: 0.2954 - accuracy: 0.9047\n",
      "Epoch 58/75\n",
      "273/273 [==============================] - 2s 7ms/step - loss: 0.2836 - accuracy: 0.9091\n",
      "Epoch 59/75\n",
      "273/273 [==============================] - 2s 8ms/step - loss: 0.2720 - accuracy: 0.9120\n",
      "Epoch 60/75\n",
      "273/273 [==============================] - 2s 7ms/step - loss: 0.2654 - accuracy: 0.9147\n",
      "Epoch 61/75\n",
      "273/273 [==============================] - 2s 7ms/step - loss: 0.2577 - accuracy: 0.9157\n",
      "Epoch 62/75\n",
      "273/273 [==============================] - 2s 6ms/step - loss: 0.2530 - accuracy: 0.9150\n",
      "Epoch 63/75\n",
      "273/273 [==============================] - 2s 6ms/step - loss: 0.2488 - accuracy: 0.9148\n",
      "Epoch 64/75\n",
      "273/273 [==============================] - 2s 6ms/step - loss: 0.2510 - accuracy: 0.9145\n",
      "Epoch 65/75\n",
      "273/273 [==============================] - 2s 6ms/step - loss: 0.2437 - accuracy: 0.9179\n",
      "Epoch 66/75\n",
      "273/273 [==============================] - 2s 6ms/step - loss: 0.2313 - accuracy: 0.9192\n",
      "Epoch 67/75\n",
      "273/273 [==============================] - 2s 6ms/step - loss: 0.2280 - accuracy: 0.9212\n",
      "Epoch 68/75\n",
      "273/273 [==============================] - 2s 6ms/step - loss: 0.2250 - accuracy: 0.9196\n",
      "Epoch 69/75\n",
      "273/273 [==============================] - 2s 6ms/step - loss: 0.2233 - accuracy: 0.9199\n",
      "Epoch 70/75\n",
      "273/273 [==============================] - 2s 6ms/step - loss: 0.2184 - accuracy: 0.9224\n",
      "Epoch 71/75\n",
      "273/273 [==============================] - 2s 6ms/step - loss: 0.2175 - accuracy: 0.9203\n",
      "Epoch 72/75\n",
      "273/273 [==============================] - 2s 6ms/step - loss: 0.2122 - accuracy: 0.9205\n",
      "Epoch 73/75\n",
      "273/273 [==============================] - 2s 6ms/step - loss: 0.2140 - accuracy: 0.9213\n",
      "Epoch 74/75\n",
      "273/273 [==============================] - 2s 6ms/step - loss: 0.2118 - accuracy: 0.9238\n",
      "Epoch 75/75\n",
      "273/273 [==============================] - 2s 6ms/step - loss: 0.2033 - accuracy: 0.9234\n"
     ]
    },
    {
     "data": {
      "text/plain": [
       "<keras.callbacks.History at 0x290e8f7a348>"
      ]
     },
     "execution_count": 35,
     "metadata": {},
     "output_type": "execute_result"
    }
   ],
   "source": [
    "# source: https://machinelearningmastery.com/develop-encoder-decoder-model-sequence-sequence-prediction-keras/\n",
    "\n",
    "# prepare data for the LSTM\n",
    "def get_dataset(n_in, n_out, cardinality, data):\n",
    "        X1, X2, y = list(), list(), list()\n",
    "        data, y_data = splitSequence(data, n_in)\n",
    "        for i in range(len(data)):\n",
    "                # generate source sequence\n",
    "                source = data[i]\n",
    "                # define padded target sequence\n",
    "                target = y_data[i]\n",
    "                # create padded input target sequence\n",
    "                target_in = [0] + target[:-1]\n",
    "                # encode\n",
    "                src_encoded = to_categorical([source], num_classes=cardinality)\n",
    "                tar_encoded = to_categorical([target], num_classes=cardinality)\n",
    "                tar2_encoded = to_categorical([target_in], num_classes=cardinality)\n",
    "                # store\n",
    "                X1.append(src_encoded)\n",
    "                X2.append(tar2_encoded)\n",
    "                y.append(tar_encoded)\n",
    "        X1 = np.squeeze(array(X1), axis=1) \n",
    "        X2 = np.squeeze(array(X2), axis=1) \n",
    "        y = np.squeeze(array(y), axis=1) \n",
    "        return X1, X2, y\n",
    "\n",
    "def get_dataset_with_index(n_in, n_out, cardinality, data, i):\n",
    "        X1, X2, y = list(), list(), list()\n",
    "        data, y_data = splitSequence(data, n_in)\n",
    "        # for i in range(len(data)):\n",
    "        # generate source sequence\n",
    "        source = data[i]\n",
    "        # define padded target sequence\n",
    "        target = y_data[i]\n",
    "        # create padded input target sequence\n",
    "        target_in = [0] + target[:-1]\n",
    "        # encode\n",
    "        src_encoded = to_categorical([source], num_classes=cardinality)\n",
    "        tar_encoded = to_categorical([target], num_classes=cardinality)\n",
    "        tar2_encoded = to_categorical([target_in], num_classes=cardinality)\n",
    "        # store\n",
    "        X1.append(src_encoded)\n",
    "        X2.append(tar2_encoded)\n",
    "        y.append(tar_encoded)\n",
    "        X1 = np.squeeze(array(X1), axis=1) \n",
    "        X2 = np.squeeze(array(X2), axis=1) \n",
    "        y = np.squeeze(array(y), axis=1) \n",
    "        return X1, X2, y\n",
    "\n",
    "# returns train, inference_encoder and inference_decoder models\n",
    "def define_models(n_input, n_output, n_units):\n",
    "\t# define training encoder\n",
    "\tencoder_inputs = Input(shape=(None, n_input))\n",
    "\tencoder = LSTM(n_units, return_state=True)\n",
    "\tencoder_outputs, state_h, state_c = encoder(encoder_inputs)\n",
    "\tencoder_states = [state_h, state_c]\n",
    "\t# define training decoder\n",
    "\tdecoder_inputs = Input(shape=(None, n_output))\n",
    "\tdecoder_lstm = LSTM(n_units, return_sequences=True, return_state=True)\n",
    "\tdecoder_outputs, _, _ = decoder_lstm(decoder_inputs, initial_state=encoder_states)\n",
    "\tdecoder_dense = Dense(n_output, activation='softmax')\n",
    "\tdecoder_outputs = decoder_dense(decoder_outputs)\n",
    "\tmodel = Model([encoder_inputs, decoder_inputs], decoder_outputs)\n",
    "\t# define inference encoder\n",
    "\tencoder_model = Model(encoder_inputs, encoder_states)\n",
    "\t# define inference decoder\n",
    "\tdecoder_state_input_h = Input(shape=(n_units,))\n",
    "\tdecoder_state_input_c = Input(shape=(n_units,))\n",
    "\tdecoder_states_inputs = [decoder_state_input_h, decoder_state_input_c]\n",
    "\tdecoder_outputs, state_h, state_c = decoder_lstm(decoder_inputs, initial_state=decoder_states_inputs)\n",
    "\tdecoder_states = [state_h, state_c]\n",
    "\tdecoder_outputs = decoder_dense(decoder_outputs)\n",
    "\tdecoder_model = Model([decoder_inputs] + decoder_states_inputs, [decoder_outputs] + decoder_states)\n",
    "\t# return all models\n",
    "\treturn model, encoder_model, decoder_model\n",
    " \n",
    "# generate target given source sequence\n",
    "def predict_sequence(infenc, infdec, source, n_steps, cardinality):\n",
    "\t# encode\n",
    "\tstate = infenc.predict(source, verbose=0)\n",
    "\t# start of sequence input\n",
    "\ttarget_seq = array([0.0 for _ in range(cardinality)]).reshape(1, 1, cardinality)\n",
    "\t# collect predictions\n",
    "\toutput = list()\n",
    "\tfor t in range(n_steps):\n",
    "\t\t# predict next char\n",
    "\t\tyhat, h, c = infdec.predict([target_seq] + state, verbose=0)\n",
    "\t\t# store prediction\n",
    "\t\toutput.append(yhat[0,0,:])\n",
    "\t\t# update state\n",
    "\t\tstate = [h, c]\n",
    "\t\t# update target sequence\n",
    "\t\ttarget_seq = yhat\n",
    "\treturn array(output)\n",
    " \n",
    "# decode a one hot encoded string\n",
    "def one_hot_decode(encoded_seq):\n",
    "\treturn [argmax(vector) for vector in encoded_seq]\n",
    "\n",
    "def has_common_data(list1, list2):\n",
    "    result = False\n",
    "  \n",
    "    # traverse in the 1st list\n",
    "    for x in list1:\n",
    "  \n",
    "        # traverse in the 2nd list\n",
    "        for y in list2:\n",
    "    \n",
    "            # if one common\n",
    "            if x == y:\n",
    "                result = True\n",
    "                return result \n",
    "                  \n",
    "    return result\n",
    "\n",
    "# configure problem\n",
    "n_features = 38 + 1\n",
    "n_steps_in = 6\n",
    "n_steps_out = 2\n",
    "# define model\n",
    "train, infenc, infdec = define_models(n_features, n_features, 128)\n",
    "train.compile(optimizer='adam', loss='categorical_crossentropy', metrics=['accuracy'])\n",
    "# generate training dataset\n",
    "X1, X2, y = get_dataset(n_steps_in, n_steps_out, n_features, x_train)\n",
    "print(X1.shape,X2.shape,y.shape)\n",
    "# train model\n",
    "train.fit([X1, X2], y, epochs=75)"
   ]
  },
  {
   "cell_type": "code",
   "execution_count": 36,
   "metadata": {},
   "outputs": [
    {
     "data": {
      "text/plain": [
       "2179"
      ]
     },
     "execution_count": 36,
     "metadata": {},
     "output_type": "execute_result"
    }
   ],
   "source": [
    "total, correct = len(x_test), 0\n",
    "total"
   ]
  },
  {
   "cell_type": "code",
   "execution_count": 37,
   "metadata": {},
   "outputs": [
    {
     "name": "stdout",
     "output_type": "stream",
     "text": [
      "Accuracy considering equal: 13.17%\n",
      "Accuracy considering at-least one in common: 59.35%\n"
     ]
    }
   ],
   "source": [
    "# evaluate LSTM\n",
    "total, correctEqual, correctOne = len(test), 0, 0\n",
    "for i in range(total):\n",
    "\tX1, X2, y = get_dataset_with_index(n_steps_in, n_steps_out, n_features, x_test, i)\n",
    "\ttarget = predict_sequence(infenc, infdec, X1, n_steps_out, n_features)\n",
    "\t# print test target and predicted\n",
    "\t# print('y=%s, yhat=%s' % (one_hot_decode(y[0]), one_hot_decode(target)))\n",
    "\tif has_common_data(one_hot_decode(y[0]), one_hot_decode(target)):\n",
    "\t\tcorrectOne += 1\n",
    "\tif array_equal(one_hot_decode(y[0]), one_hot_decode(target)):\n",
    "\t\tcorrectEqual += 1\n",
    "print('Accuracy considering equal: %.2f%%' % (float(correctEqual)/float( len(test))*100.0))\n",
    "print('Accuracy considering at-least one in common: %.2f%%' % (float(correctOne)/float( len(test))*100.0))"
   ]
  },
  {
   "cell_type": "code",
   "execution_count": 38,
   "metadata": {},
   "outputs": [
    {
     "name": "stdout",
     "output_type": "stream",
     "text": [
      "X=[19, 1, 2, 1, 24, 2] y=[20, 3], yhat=[1, 1]\n"
     ]
    }
   ],
   "source": [
    "# spot check some examples\n",
    "validate, y_validate = splitSequence(x_validate, n_in)\n",
    "\n",
    "for i in range(len(validate)):\n",
    "\tX1, X2, y = get_dataset_with_index(n_steps_in, n_steps_out, n_features, x_validate, i)\n",
    "\ttarget = predict_sequence(infenc, infdec, X1, n_steps_out, n_features)\n",
    "\tprint('X=%s y=%s, yhat=%s' % (one_hot_decode(X1[0]), one_hot_decode(y[0]), one_hot_decode(target)))"
   ]
  }
 ],
 "metadata": {
  "kernelspec": {
   "display_name": "Python 3.7.7 64-bit",
   "language": "python",
   "name": "python3"
  },
  "language_info": {
   "codemirror_mode": {
    "name": "ipython",
    "version": 3
   },
   "file_extension": ".py",
   "mimetype": "text/x-python",
   "name": "python",
   "nbconvert_exporter": "python",
   "pygments_lexer": "ipython3",
   "version": "3.7.7"
  },
  "orig_nbformat": 4,
  "vscode": {
   "interpreter": {
    "hash": "11bbcf57d79407485a8d65c6cc737ca9d49c6f1d1b34c1ae2a5e6f49b42ea89b"
   }
  }
 },
 "nbformat": 4,
 "nbformat_minor": 2
}

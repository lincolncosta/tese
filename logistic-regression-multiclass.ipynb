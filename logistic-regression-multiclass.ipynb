{
 "cells": [
  {
   "cell_type": "code",
   "execution_count": 1,
   "metadata": {},
   "outputs": [],
   "source": [
    "import pandas as pd\n",
    "import numpy as np\n",
    "import math\n",
    "from sklearn.model_selection import train_test_split, GridSearchCV, StratifiedKFold\n",
    "from sklearn.preprocessing import StandardScaler\n",
    "from sklearn.feature_selection import SelectKBest,f_classif\n",
    "from sklearn.metrics import accuracy_score, precision_score,recall_score,f1_score"
   ]
  },
  {
   "cell_type": "code",
   "execution_count": 2,
   "metadata": {},
   "outputs": [],
   "source": [
    "events_dict = {\n",
    "    'BLUE: first_blood': 0,\n",
    "    'BLUE: dragon': 1,\n",
    "    'BLUE: herald': 2,\n",
    "    'BLUE: first_tower_top': 3,\n",
    "    'BLUE: first_tower_mid': 4,\n",
    "    'BLUE: first_tower_bot': 5,\n",
    "    'BLUE: second_tower_top': 6,\n",
    "    'BLUE: second_tower_mid': 7,\n",
    "    'BLUE: second_tower_bot': 8,\n",
    "    'BLUE: third_tower_top': 9,\n",
    "    'BLUE: third_tower_mid': 10,\n",
    "    'BLUE: third_tower_bot': 11,\n",
    "    'BLUE: inhibitor_top': 12,\n",
    "    'BLUE: inhibitor_mid': 13,\n",
    "    'BLUE: inhibitor_bot': 14,\n",
    "    'BLUE: baron': 15,\n",
    "    'BLUE: elder_dragon': 16,\n",
    "    'BLUE: nexus_tower': 17,\n",
    "    'BLUE: nexus': 18,\n",
    "    'RED: first_blood': 19,\n",
    "    'RED: dragon': 20,\n",
    "    'RED: herald': 21,\n",
    "    'RED: first_tower_top': 22,\n",
    "    'RED: first_tower_mid': 23,\n",
    "    'RED: first_tower_bot': 24,\n",
    "    'RED: second_tower_top': 25,\n",
    "    'RED: second_tower_mid': 26,\n",
    "    'RED: second_tower_bot': 27,\n",
    "    'RED: third_tower_top': 28,\n",
    "    'RED: third_tower_mid': 29,\n",
    "    'RED: third_tower_bot': 30,\n",
    "    'RED: inhibitor_top': 31,\n",
    "    'RED: inhibitor_mid': 32,\n",
    "    'RED: inhibitor_bot': 33,\n",
    "    'RED: baron': 34,\n",
    "    'RED: elder_dragon': 35,\n",
    "    'RED: nexus_tower': 36,\n",
    "    'RED: nexus': 37\n",
    "}\n",
    "\n",
    "df = pd.read_csv('data/clean-one-line.csv')\n",
    "df = df.drop('golId', axis=1)\n",
    "data = df.values.tolist()\n",
    "\n",
    "for game in data:\n",
    "    for i, s in enumerate(game):\n",
    "        if s in events_dict:\n",
    "            game[i] = events_dict.get(s)\n",
    "\n",
    "labelsArray = []\n",
    "\n",
    "for game in data:\n",
    "    labelsArray += game\n",
    "\n",
    "sequence = [b for b in labelsArray if not(isinstance(b, float))]\n",
    "n_in = 6"
   ]
  },
  {
   "cell_type": "code",
   "execution_count": 3,
   "metadata": {},
   "outputs": [],
   "source": [
    "def splitSequence(sequence, n_steps_in, n_steps_out=1):\n",
    "\tX, y = [], []\n",
    "\tfor i in range(len(sequence)):\n",
    "\t\t# find the end of this pattern\n",
    "\t\tend_ix = i + n_steps_in\n",
    "\t\tout_end_ix = end_ix + n_steps_out\n",
    "\t\t# check if we are beyond the sequence\n",
    "\t\tif out_end_ix > len(sequence):\n",
    "\t\t\tbreak\n",
    "\t\t# gather input and output parts of the pattern\n",
    "\t\tseq_x, seq_y = sequence[i:end_ix], sequence[end_ix:out_end_ix]\n",
    "\t\tX.append(seq_x)\n",
    "\t\ty.append(seq_y)\n",
    "\treturn X, y"
   ]
  },
  {
   "cell_type": "code",
   "execution_count": 4,
   "metadata": {},
   "outputs": [
    {
     "data": {
      "text/plain": [
       "49747"
      ]
     },
     "execution_count": 4,
     "metadata": {},
     "output_type": "execute_result"
    }
   ],
   "source": [
    "x_train, x_test = train_test_split(sequence,test_size=0.15,random_state=42,shuffle=False)\n",
    "len(x_train)"
   ]
  },
  {
   "cell_type": "code",
   "execution_count": 5,
   "metadata": {},
   "outputs": [
    {
     "name": "stdout",
     "output_type": "stream",
     "text": [
      "[[19, 1, 2, 1, 3, 24], [1, 2, 1, 3, 24, 2], [2, 1, 3, 24, 2, 23], [1, 3, 24, 2, 23, 6], [3, 24, 2, 23, 6, 1]]\n"
     ]
    },
    {
     "data": {
      "text/plain": [
       "[[2], [23], [6], [1], [5]]"
      ]
     },
     "execution_count": 5,
     "metadata": {},
     "output_type": "execute_result"
    }
   ],
   "source": [
    "train, y_train = splitSequence(x_train, n_in)\n",
    "print(train[:5])\n",
    "y_train[:5]"
   ]
  },
  {
   "cell_type": "code",
   "execution_count": 6,
   "metadata": {},
   "outputs": [
    {
     "name": "stdout",
     "output_type": "stream",
     "text": [
      "[[24, 3, 1, 1, 23, 7], [3, 1, 1, 23, 7, 15], [1, 1, 23, 7, 15, 1], [1, 23, 7, 15, 1, 8], [23, 7, 15, 1, 8, 10]]\n"
     ]
    },
    {
     "data": {
      "text/plain": [
       "[[15], [1], [8], [10], [13]]"
      ]
     },
     "execution_count": 6,
     "metadata": {},
     "output_type": "execute_result"
    }
   ],
   "source": [
    "test, y_test = splitSequence(x_test, n_in)\n",
    "print(test[:5])\n",
    "y_test[:5]"
   ]
  },
  {
   "cell_type": "code",
   "execution_count": 7,
   "metadata": {},
   "outputs": [],
   "source": [
    "df_test = pd.DataFrame({'event_1': [],\n",
    "                   'event_2': [],\n",
    "                   'event_3': [],\n",
    "                   'event_4': [],\n",
    "                   'event_5': [],\n",
    "                   'event_6': [],\n",
    "                   'target': []})\n",
    "\n",
    "df_train = pd.DataFrame({'event_1': [],\n",
    "                   'event_2': [],\n",
    "                   'event_3': [],\n",
    "                   'event_4': [],\n",
    "                   'event_5': [],\n",
    "                   'event_6': [],\n",
    "                   'target': []})\n",
    "\n",
    "for index,test_row in enumerate(test):\n",
    "    event_1 = test_row[0]\n",
    "    event_2 = test_row[1]\n",
    "    event_3 = test_row[2]\n",
    "    event_4 = test_row[3]\n",
    "    event_5 = test_row[4]\n",
    "    event_6 = test_row[5]\n",
    "    df_test.loc[len(df_test.index)] = [event_1, event_2, event_3, event_4, event_5, event_6, y_test[index][0]]"
   ]
  },
  {
   "cell_type": "code",
   "execution_count": 8,
   "metadata": {},
   "outputs": [
    {
     "data": {
      "text/html": [
       "<div>\n",
       "<style scoped>\n",
       "    .dataframe tbody tr th:only-of-type {\n",
       "        vertical-align: middle;\n",
       "    }\n",
       "\n",
       "    .dataframe tbody tr th {\n",
       "        vertical-align: top;\n",
       "    }\n",
       "\n",
       "    .dataframe thead th {\n",
       "        text-align: right;\n",
       "    }\n",
       "</style>\n",
       "<table border=\"1\" class=\"dataframe\">\n",
       "  <thead>\n",
       "    <tr style=\"text-align: right;\">\n",
       "      <th></th>\n",
       "      <th>event_1</th>\n",
       "      <th>event_2</th>\n",
       "      <th>event_3</th>\n",
       "      <th>event_4</th>\n",
       "      <th>event_5</th>\n",
       "      <th>event_6</th>\n",
       "      <th>target</th>\n",
       "    </tr>\n",
       "  </thead>\n",
       "  <tbody>\n",
       "    <tr>\n",
       "      <th>0</th>\n",
       "      <td>24.0</td>\n",
       "      <td>3.0</td>\n",
       "      <td>1.0</td>\n",
       "      <td>1.0</td>\n",
       "      <td>23.0</td>\n",
       "      <td>7.0</td>\n",
       "      <td>15.0</td>\n",
       "    </tr>\n",
       "    <tr>\n",
       "      <th>1</th>\n",
       "      <td>3.0</td>\n",
       "      <td>1.0</td>\n",
       "      <td>1.0</td>\n",
       "      <td>23.0</td>\n",
       "      <td>7.0</td>\n",
       "      <td>15.0</td>\n",
       "      <td>1.0</td>\n",
       "    </tr>\n",
       "    <tr>\n",
       "      <th>2</th>\n",
       "      <td>1.0</td>\n",
       "      <td>1.0</td>\n",
       "      <td>23.0</td>\n",
       "      <td>7.0</td>\n",
       "      <td>15.0</td>\n",
       "      <td>1.0</td>\n",
       "      <td>8.0</td>\n",
       "    </tr>\n",
       "    <tr>\n",
       "      <th>3</th>\n",
       "      <td>1.0</td>\n",
       "      <td>23.0</td>\n",
       "      <td>7.0</td>\n",
       "      <td>15.0</td>\n",
       "      <td>1.0</td>\n",
       "      <td>8.0</td>\n",
       "      <td>10.0</td>\n",
       "    </tr>\n",
       "    <tr>\n",
       "      <th>4</th>\n",
       "      <td>23.0</td>\n",
       "      <td>7.0</td>\n",
       "      <td>15.0</td>\n",
       "      <td>1.0</td>\n",
       "      <td>8.0</td>\n",
       "      <td>10.0</td>\n",
       "      <td>13.0</td>\n",
       "    </tr>\n",
       "    <tr>\n",
       "      <th>...</th>\n",
       "      <td>...</td>\n",
       "      <td>...</td>\n",
       "      <td>...</td>\n",
       "      <td>...</td>\n",
       "      <td>...</td>\n",
       "      <td>...</td>\n",
       "      <td>...</td>\n",
       "    </tr>\n",
       "    <tr>\n",
       "      <th>8769</th>\n",
       "      <td>3.0</td>\n",
       "      <td>6.0</td>\n",
       "      <td>7.0</td>\n",
       "      <td>10.0</td>\n",
       "      <td>13.0</td>\n",
       "      <td>8.0</td>\n",
       "      <td>9.0</td>\n",
       "    </tr>\n",
       "    <tr>\n",
       "      <th>8770</th>\n",
       "      <td>6.0</td>\n",
       "      <td>7.0</td>\n",
       "      <td>10.0</td>\n",
       "      <td>13.0</td>\n",
       "      <td>8.0</td>\n",
       "      <td>9.0</td>\n",
       "      <td>12.0</td>\n",
       "    </tr>\n",
       "    <tr>\n",
       "      <th>8771</th>\n",
       "      <td>7.0</td>\n",
       "      <td>10.0</td>\n",
       "      <td>13.0</td>\n",
       "      <td>8.0</td>\n",
       "      <td>9.0</td>\n",
       "      <td>12.0</td>\n",
       "      <td>17.0</td>\n",
       "    </tr>\n",
       "    <tr>\n",
       "      <th>8772</th>\n",
       "      <td>10.0</td>\n",
       "      <td>13.0</td>\n",
       "      <td>8.0</td>\n",
       "      <td>9.0</td>\n",
       "      <td>12.0</td>\n",
       "      <td>17.0</td>\n",
       "      <td>17.0</td>\n",
       "    </tr>\n",
       "    <tr>\n",
       "      <th>8773</th>\n",
       "      <td>13.0</td>\n",
       "      <td>8.0</td>\n",
       "      <td>9.0</td>\n",
       "      <td>12.0</td>\n",
       "      <td>17.0</td>\n",
       "      <td>17.0</td>\n",
       "      <td>18.0</td>\n",
       "    </tr>\n",
       "  </tbody>\n",
       "</table>\n",
       "<p>8774 rows × 7 columns</p>\n",
       "</div>"
      ],
      "text/plain": [
       "      event_1  event_2  event_3  event_4  event_5  event_6  target\n",
       "0        24.0      3.0      1.0      1.0     23.0      7.0    15.0\n",
       "1         3.0      1.0      1.0     23.0      7.0     15.0     1.0\n",
       "2         1.0      1.0     23.0      7.0     15.0      1.0     8.0\n",
       "3         1.0     23.0      7.0     15.0      1.0      8.0    10.0\n",
       "4        23.0      7.0     15.0      1.0      8.0     10.0    13.0\n",
       "...       ...      ...      ...      ...      ...      ...     ...\n",
       "8769      3.0      6.0      7.0     10.0     13.0      8.0     9.0\n",
       "8770      6.0      7.0     10.0     13.0      8.0      9.0    12.0\n",
       "8771      7.0     10.0     13.0      8.0      9.0     12.0    17.0\n",
       "8772     10.0     13.0      8.0      9.0     12.0     17.0    17.0\n",
       "8773     13.0      8.0      9.0     12.0     17.0     17.0    18.0\n",
       "\n",
       "[8774 rows x 7 columns]"
      ]
     },
     "execution_count": 8,
     "metadata": {},
     "output_type": "execute_result"
    }
   ],
   "source": [
    "y_test = df_test['target'].copy()\n",
    "X_test = df_test.drop(['target'],axis=1)\n",
    "df_test"
   ]
  },
  {
   "cell_type": "code",
   "execution_count": 9,
   "metadata": {},
   "outputs": [],
   "source": [
    "for index, train_row in enumerate(train):\n",
    "    event_1 = train_row[0]\n",
    "    event_2 = train_row[1]\n",
    "    event_3 = train_row[2]\n",
    "    event_4 = train_row[3]\n",
    "    event_5 = train_row[4]\n",
    "    event_6 = train_row[5]\n",
    "    df_train.loc[len(df_train.index)] = [event_1, event_2, event_3, event_4, event_5, event_6, y_train[index][0]]"
   ]
  },
  {
   "cell_type": "code",
   "execution_count": 10,
   "metadata": {},
   "outputs": [
    {
     "data": {
      "text/plain": [
       "0         2.0\n",
       "1        23.0\n",
       "2         6.0\n",
       "3         1.0\n",
       "4         5.0\n",
       "         ... \n",
       "49736     2.0\n",
       "49737     1.0\n",
       "49738    22.0\n",
       "49739     5.0\n",
       "49740     4.0\n",
       "Name: target, Length: 49741, dtype: float64"
      ]
     },
     "execution_count": 10,
     "metadata": {},
     "output_type": "execute_result"
    }
   ],
   "source": [
    "y_train = df_train['target'].copy()\n",
    "X_train = df_train.drop(['target'],axis=1)\n",
    "y_train"
   ]
  },
  {
   "cell_type": "code",
   "execution_count": 11,
   "metadata": {},
   "outputs": [
    {
     "name": "stdout",
     "output_type": "stream",
     "text": [
      "training model score: 0.1515450031161416\n",
      "test model score: 0.15409163437428766\n",
      "              precision    recall  f1-score   support\n",
      "\n",
      "         0.0       0.00      0.00      0.00       172\n",
      "         1.0       0.10      0.44      0.17       765\n",
      "         2.0       0.16      0.07      0.10       409\n",
      "         3.0       0.00      0.00      0.00       321\n",
      "         4.0       0.00      0.00      0.00       287\n",
      "         5.0       0.19      0.04      0.07       319\n",
      "         6.0       0.00      0.00      0.00       175\n",
      "         7.0       0.00      0.00      0.00       211\n",
      "         8.0       0.00      0.00      0.00       182\n",
      "         9.0       0.00      0.00      0.00        82\n",
      "        10.0       0.00      0.00      0.00       151\n",
      "        11.0       0.00      0.00      0.00       101\n",
      "        12.0       0.00      0.00      0.00        77\n",
      "        13.0       0.00      0.00      0.00       153\n",
      "        14.0       0.00      0.00      0.00        96\n",
      "        15.0       0.00      0.00      0.00       241\n",
      "        16.0       0.00      0.00      0.00        22\n",
      "        17.0       0.06      0.08      0.07       368\n",
      "        18.0       0.00      0.00      0.00       179\n",
      "        19.0       0.00      0.00      0.00       193\n",
      "        20.0       0.14      0.53      0.22       885\n",
      "        21.0       0.00      0.00      0.00       318\n",
      "        22.0       0.00      0.00      0.00       323\n",
      "        23.0       0.00      0.00      0.00       280\n",
      "        24.0       0.27      0.02      0.03       323\n",
      "        25.0       0.00      0.00      0.00       158\n",
      "        26.0       0.00      0.00      0.00       212\n",
      "        27.0       0.00      0.00      0.00       209\n",
      "        28.0       0.00      0.00      0.00        89\n",
      "        29.0       0.00      0.00      0.00       157\n",
      "        30.0       0.00      0.00      0.00       113\n",
      "        31.0       0.00      0.00      0.00        81\n",
      "        32.0       0.00      0.00      0.00       169\n",
      "        33.0       0.00      0.00      0.00       109\n",
      "        34.0       0.00      0.00      0.00       264\n",
      "        35.0       0.00      0.00      0.00        15\n",
      "        36.0       0.33      0.85      0.47       378\n",
      "        37.0       0.68      0.79      0.73       187\n",
      "\n",
      "    accuracy                           0.15      8774\n",
      "   macro avg       0.05      0.07      0.05      8774\n",
      "weighted avg       0.08      0.15      0.08      8774\n",
      "\n"
     ]
    },
    {
     "name": "stderr",
     "output_type": "stream",
     "text": [
      "c:\\Users\\linco\\AppData\\Local\\Programs\\Python\\Python37\\lib\\site-packages\\sklearn\\metrics\\_classification.py:1248: UndefinedMetricWarning: Precision and F-score are ill-defined and being set to 0.0 in labels with no predicted samples. Use `zero_division` parameter to control this behavior.\n",
      "  _warn_prf(average, modifier, msg_start, len(result))\n",
      "c:\\Users\\linco\\AppData\\Local\\Programs\\Python\\Python37\\lib\\site-packages\\sklearn\\metrics\\_classification.py:1248: UndefinedMetricWarning: Precision and F-score are ill-defined and being set to 0.0 in labels with no predicted samples. Use `zero_division` parameter to control this behavior.\n",
      "  _warn_prf(average, modifier, msg_start, len(result))\n",
      "c:\\Users\\linco\\AppData\\Local\\Programs\\Python\\Python37\\lib\\site-packages\\sklearn\\metrics\\_classification.py:1248: UndefinedMetricWarning: Precision and F-score are ill-defined and being set to 0.0 in labels with no predicted samples. Use `zero_division` parameter to control this behavior.\n",
      "  _warn_prf(average, modifier, msg_start, len(result))\n"
     ]
    }
   ],
   "source": [
    "from sklearn.linear_model import LogisticRegression\n",
    "from sklearn.metrics import plot_confusion_matrix, classification_report\n",
    "\n",
    "lrl = LogisticRegression(multi_class='ovr', C=1e12, max_iter=5000)\n",
    "\n",
    "model_ovr = lrl.fit(X_train, y_train)\n",
    "\n",
    "y_pred = model_ovr.predict(X_test)\n",
    "\n",
    "print(f'training model score: {model_ovr.score(X_train, y_train)}')\n",
    "print(f'test model score: {model_ovr.score(X_test, y_test)}')\n",
    "print(classification_report(y_test, y_pred))"
   ]
  }
 ],
 "metadata": {
  "kernelspec": {
   "display_name": "Python 3.7.7 64-bit",
   "language": "python",
   "name": "python3"
  },
  "language_info": {
   "codemirror_mode": {
    "name": "ipython",
    "version": 3
   },
   "file_extension": ".py",
   "mimetype": "text/x-python",
   "name": "python",
   "nbconvert_exporter": "python",
   "pygments_lexer": "ipython3",
   "version": "3.7.7"
  },
  "orig_nbformat": 4,
  "vscode": {
   "interpreter": {
    "hash": "11bbcf57d79407485a8d65c6cc737ca9d49c6f1d1b34c1ae2a5e6f49b42ea89b"
   }
  }
 },
 "nbformat": 4,
 "nbformat_minor": 2
}

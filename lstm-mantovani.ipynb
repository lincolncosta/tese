{
 "cells": [
  {
   "cell_type": "code",
   "execution_count": 3,
   "metadata": {},
   "outputs": [],
   "source": [
    "# importando as bibliotecas necessárias para rodar o script\n",
    "\n",
    "# manipulação de números de ponto flutuante\n",
    "import numpy as np\n",
    "\n",
    "# plotagem de gráficos\n",
    "import matplotlib.pyplot as plt\n",
    "\n",
    "# criação manipulação de data frames\n",
    "import pandas as pd\n",
    "\n",
    "# funções matemáticas\n",
    "import math\n",
    "\n",
    "# criação dos modelos de DL\n",
    "from keras.models import Sequential\n",
    "from keras.layers import Dense\n",
    "from keras.layers import LSTM\n",
    "\n",
    "# preprocessador - escalar os dados\n",
    "from sklearn.preprocessing import MinMaxScaler\n",
    "\n",
    "# metrica de desempenho (MSE)\n",
    "from sklearn.metrics import mean_squared_error"
   ]
  },
  {
   "cell_type": "code",
   "execution_count": 4,
   "metadata": {},
   "outputs": [],
   "source": [
    "events_dict = {\n",
    "    'BLUE: first_blood': 0,\n",
    "    'BLUE: dragon': 1,\n",
    "    'BLUE: herald': 2,\n",
    "    'BLUE: first_tower_top': 3,\n",
    "    'BLUE: first_tower_mid': 4,\n",
    "    'BLUE: first_tower_bot': 5,\n",
    "    'BLUE: second_tower_top': 6,\n",
    "    'BLUE: second_tower_mid': 7,\n",
    "    'BLUE: second_tower_bot': 8,\n",
    "    'BLUE: third_tower_top': 9,\n",
    "    'BLUE: third_tower_mid': 10,\n",
    "    'BLUE: third_tower_bot': 11,\n",
    "    'BLUE: inhibitor_top': 12,\n",
    "    'BLUE: inhibitor_mid': 13,\n",
    "    'BLUE: inhibitor_bot': 14,\n",
    "    'BLUE: baron': 15,\n",
    "    'BLUE: elder_dragon': 16,\n",
    "    'BLUE: nexus_tower': 17,\n",
    "    'BLUE: nexus': 18,\n",
    "    'RED: first_blood': 19,\n",
    "    'RED: dragon': 20,\n",
    "    'RED: herald': 21,\n",
    "    'RED: first_tower_top': 22,\n",
    "    'RED: first_tower_mid': 23,\n",
    "    'RED: first_tower_bot': 24,\n",
    "    'RED: second_tower_top': 25,\n",
    "    'RED: second_tower_mid': 26,\n",
    "    'RED: second_tower_bot': 27,\n",
    "    'RED: third_tower_top': 28,\n",
    "    'RED: third_tower_mid': 29,\n",
    "    'RED: third_tower_bot': 30,\n",
    "    'RED: inhibitor_top': 31,\n",
    "    'RED: inhibitor_mid': 32,\n",
    "    'RED: inhibitor_bot': 33,\n",
    "    'RED: baron': 34,\n",
    "    'RED: elder_dragon': 35,\n",
    "    'RED: nexus_tower': 36,\n",
    "    'RED: nexus': 37\n",
    "}\n",
    "\n",
    "df = pd.read_csv('data/clean-one-line.csv')\n",
    "df = df.drop('game', axis=1)\n",
    "data = df.values.tolist()\n",
    "\n",
    "for game in data:\n",
    "    for i, s in enumerate(game):\n",
    "        if s in events_dict:\n",
    "            game[i] = events_dict.get(s)\n",
    "        else:\n",
    "            del game[i]\n",
    "\n",
    "for game in data:\n",
    "    game = [item for item in game if not(math.isnan(item)) == True]\n",
    "\n",
    "data = [[x for x in y if not np.isnan(x)] for y in data]\n",
    "\n",
    "dataArray = []\n",
    "\n",
    "for game in data:\n",
    "    dataArray += game"
   ]
  },
  {
   "cell_type": "code",
   "execution_count": 5,
   "metadata": {},
   "outputs": [
    {
     "name": "stdout",
     "output_type": "stream",
     "text": [
      "\n",
      "* Dimensão dos dados: (6414, 1)\n",
      "* Dados originais:\n",
      "[[19.]\n",
      " [ 2.]\n",
      " [ 3.]\n",
      " [20.]\n",
      " [21.]\n",
      " [ 4.]\n",
      " [ 5.]\n",
      " [20.]\n",
      " [23.]\n",
      " [34.]]\n"
     ]
    }
   ],
   "source": [
    "df = pd.read_csv('data/clean-one-line.csv')\n",
    "df = df.drop('game', axis=1)\n",
    "data = df.values.tolist()\n",
    "\n",
    "for game in data:\n",
    "    for i, s in enumerate(game):\n",
    "        if s in events_dict:\n",
    "            game[i] = events_dict.get(s)\n",
    "        else:\n",
    "            del game[i]\n",
    "\n",
    "for game in data:\n",
    "    game = [item for item in game if not(math.isnan(item)) == True]\n",
    "\n",
    "data = [[x for x in y if not np.isnan(x)] for y in data]\n",
    "dataArray = []\n",
    "\n",
    "for game in data:\n",
    "    dataArray += game\n",
    "\n",
    "dataframe = pd.DataFrame(dataArray)\n",
    "dataset = dataframe.values\n",
    "dataset = dataset.astype('float32')\n",
    "\n",
    "# vislumbrar um pedaço dos dados e formato lido\n",
    "print(\"\\n* Dimensão dos dados:\", dataset.shape) \n",
    "# 36 amostras/instâncias, univariadas (um único valor real)\n",
    "print(\"* Dados originais:\")\n",
    "print(dataset[:10])"
   ]
  },
  {
   "cell_type": "code",
   "execution_count": 6,
   "metadata": {},
   "outputs": [],
   "source": [
    "# funcao auxiliar para criar os itervalos de previsao\n",
    "# é a mesma que usamos no exemplo anterior\n",
    "def create_dataset(dataset, janela_previsao=1):\n",
    "    dataX, dataY = [], []\n",
    "    for i in range(len(dataset)-janela_previsao-1):\n",
    "        a = dataset[i:(i+janela_previsao), 0]\n",
    "        dataX.append(a)\n",
    "        dataY.append(dataset[i + janela_previsao, 0])\n",
    "    return np.array(dataX), np.array(dataY)"
   ]
  },
  {
   "cell_type": "code",
   "execution_count": 7,
   "metadata": {},
   "outputs": [
    {
     "data": {
      "text/plain": [
       "[<matplotlib.lines.Line2D at 0x283d5a5ee88>]"
      ]
     },
     "execution_count": 7,
     "metadata": {},
     "output_type": "execute_result"
    },
    {
     "data": {
      "image/png": "[encoded data removed]",
      "text/plain": [
       "<Figure size 432x288 with 1 Axes>"
      ]
     },
     "metadata": {
      "needs_background": "light"
     },
     "output_type": "display_data"
    }
   ],
   "source": [
    "# plotar os dados para visualizar a nossa time series\n",
    "plt.plot(dataset, linestyle='--', marker='o', color='b')"
   ]
  },
  {
   "cell_type": "code",
   "execution_count": 8,
   "metadata": {},
   "outputs": [
    {
     "name": "stdout",
     "output_type": "stream",
     "text": [
      "* Dados escalados:\n",
      "[[ 0.02702701 -0.8918919  -0.8378378   0.08108115  0.13513517 -0.7837838\n",
      "  -0.7297297   0.08108115  0.24324322  0.83783793]]\n"
     ]
    }
   ],
   "source": [
    "# Normalizando os dados\n",
    "\n",
    "# escalar os dados no intervalo [-1,1] usando sklearn\n",
    "# from sklearn.preprocessing import MinMaxScaler\n",
    "\n",
    "scaler = MinMaxScaler(feature_range=(-1, 1))\n",
    "dataset = scaler.fit_transform(dataset)\n",
    "\n",
    "print(\"* Dados escalados:\")\n",
    "print(dataset[:10].transpose())"
   ]
  },
  {
   "cell_type": "code",
   "execution_count": 9,
   "metadata": {},
   "outputs": [
    {
     "data": {
      "text/plain": [
       "[<matplotlib.lines.Line2D at 0x283d8ee9308>]"
      ]
     },
     "execution_count": 9,
     "metadata": {},
     "output_type": "execute_result"
    },
    {
     "data": {
      "image/png": "[encoded data removed]",
      "text/plain": [
       "<Figure size 432x288 with 1 Axes>"
      ]
     },
     "metadata": {
      "needs_background": "light"
     },
     "output_type": "display_data"
    }
   ],
   "source": [
    "# visualizar nossos dados escalados\n",
    "# Obs: prestar atenção ao eixo Y, agora varia entre [-1,+1]\n",
    "plt.plot(dataset, linestyle='--', marker='o', color='b')"
   ]
  },
  {
   "cell_type": "code",
   "execution_count": 10,
   "metadata": {},
   "outputs": [
    {
     "name": "stdout",
     "output_type": "stream",
     "text": [
      "- Numero de instâncias treino:  5131\n",
      "- Numero de instâncias teste:  1283\n"
     ]
    }
   ],
   "source": [
    "# Ajustando conjunto de treino e teste\n",
    "# 80% dos exemplos no treino, 20% no teste\n",
    "train_size = int(len(dataset) * 0.80)\n",
    "test_size  = len(dataset) - train_size\n",
    "\n",
    "#print(train_size, test_size)\n",
    "print(\"- Numero de instâncias treino: \", train_size)\n",
    "print(\"- Numero de instâncias teste: \", test_size)"
   ]
  },
  {
   "cell_type": "code",
   "execution_count": 11,
   "metadata": {},
   "outputs": [
    {
     "name": "stdout",
     "output_type": "stream",
     "text": [
      "* Conjunto de Treinamento: (5131, 1)\n",
      "* Conjunto de Teste: (1283, 1)\n"
     ]
    }
   ],
   "source": [
    "# Conjunto de treinamento - amostras de 0-29\n",
    "# Conjunto de teste - amostras de 30-35\n",
    "train, test = dataset[0:train_size,:], dataset[train_size:len(dataset),:]\n",
    "\n",
    "print(\"* Conjunto de Treinamento:\", train.shape)\n",
    "#print(train)\n",
    "\n",
    "print(\"* Conjunto de Teste:\", test.shape)\n",
    "#print(test)"
   ]
  },
  {
   "cell_type": "code",
   "execution_count": 12,
   "metadata": {},
   "outputs": [],
   "source": [
    "# reshape em X=t and Y=t+1\n",
    "# isto é, criando dados no padrão DF = [X|Y]\n",
    "# para cada X, o Y = X+1\n",
    "\n",
    "janela_previsao = 1\n",
    "trainX, trainY = create_dataset(train, janela_previsao)"
   ]
  },
  {
   "cell_type": "code",
   "execution_count": 13,
   "metadata": {},
   "outputs": [],
   "source": [
    "# reshape em X=t and Y=t+1 para o conjunto de teste\n",
    "\n",
    "testX, testY  = create_dataset(test, janela_previsao)"
   ]
  },
  {
   "cell_type": "code",
   "execution_count": 14,
   "metadata": {},
   "outputs": [],
   "source": [
    "# Ajustando os conjunto de treino (trainX) e teste (testX) para o formato\n",
    "# [samples, time_steps, features]\n",
    "trainX = np.reshape(trainX, (trainX.shape[0], 1, trainX.shape[1]))\n",
    "testX = np.reshape(testX, (testX.shape[0], 1, testX.shape[1]))"
   ]
  },
  {
   "cell_type": "code",
   "execution_count": 15,
   "metadata": {},
   "outputs": [
    {
     "name": "stdout",
     "output_type": "stream",
     "text": [
      "Model: \"sequential\"\n",
      "_________________________________________________________________\n",
      " Layer (type)                Output Shape              Param #   \n",
      "=================================================================\n",
      " lstm (LSTM)                 (None, 4)                 96        \n",
      "                                                                 \n",
      " dense (Dense)               (None, 1)                 5         \n",
      "                                                                 \n",
      "=================================================================\n",
      "Total params: 101\n",
      "Trainable params: 101\n",
      "Non-trainable params: 0\n",
      "_________________________________________________________________\n"
     ]
    }
   ],
   "source": [
    "# Criando nossa rede recorrente com unidades de LSTM \n",
    "# formato keras sequencial\n",
    "model = Sequential()\n",
    "model.add(LSTM(units=4, input_shape=(1, janela_previsao))) \n",
    "model.add(Dense(1))\n",
    "\n",
    "# visualizar o modelo (arquitetura) que geramos\n",
    "model.summary()"
   ]
  },
  {
   "cell_type": "code",
   "execution_count": 16,
   "metadata": {},
   "outputs": [],
   "source": [
    "# parâmetros para otimizacao\n",
    "# medida a ser minimizada = Erro quadrático médio (Mean Squared Error)\n",
    "# Otimizador, algoritmo de treinamento = Adam\n",
    "# métricas para avaliar o modelo = MSE, RMSE, MAE\n",
    "model.compile(loss='mean_squared_error', \n",
    "              optimizer='adam', \n",
    "              metrics=[\"MeanSquaredError\", \"RootMeanSquaredError\", \"MeanAbsoluteError\"]\n",
    ")"
   ]
  },
  {
   "cell_type": "code",
   "execution_count": 17,
   "metadata": {},
   "outputs": [
    {
     "name": "stdout",
     "output_type": "stream",
     "text": [
      "Epoch 1/100\n",
      "5129/5129 - 15s - loss: 0.3017 - mean_squared_error: 0.3017 - root_mean_squared_error: 0.5493 - mean_absolute_error: 0.4698 - 15s/epoch - 3ms/step\n",
      "Epoch 2/100\n",
      "5129/5129 - 13s - loss: 0.2935 - mean_squared_error: 0.2935 - root_mean_squared_error: 0.5418 - mean_absolute_error: 0.4674 - 13s/epoch - 2ms/step\n",
      "Epoch 3/100\n",
      "5129/5129 - 12s - loss: 0.2913 - mean_squared_error: 0.2913 - root_mean_squared_error: 0.5397 - mean_absolute_error: 0.4662 - 12s/epoch - 2ms/step\n",
      "Epoch 4/100\n",
      "5129/5129 - 14s - loss: 0.2916 - mean_squared_error: 0.2916 - root_mean_squared_error: 0.5400 - mean_absolute_error: 0.4672 - 14s/epoch - 3ms/step\n",
      "Epoch 5/100\n",
      "5129/5129 - 13s - loss: 0.2911 - mean_squared_error: 0.2911 - root_mean_squared_error: 0.5396 - mean_absolute_error: 0.4667 - 13s/epoch - 2ms/step\n",
      "Epoch 6/100\n",
      "5129/5129 - 14s - loss: 0.2908 - mean_squared_error: 0.2908 - root_mean_squared_error: 0.5393 - mean_absolute_error: 0.4669 - 14s/epoch - 3ms/step\n",
      "Epoch 7/100\n",
      "5129/5129 - 15s - loss: 0.2902 - mean_squared_error: 0.2902 - root_mean_squared_error: 0.5387 - mean_absolute_error: 0.4669 - 15s/epoch - 3ms/step\n",
      "Epoch 8/100\n",
      "5129/5129 - 16s - loss: 0.2898 - mean_squared_error: 0.2898 - root_mean_squared_error: 0.5384 - mean_absolute_error: 0.4664 - 16s/epoch - 3ms/step\n",
      "Epoch 9/100\n",
      "5129/5129 - 13s - loss: 0.2896 - mean_squared_error: 0.2896 - root_mean_squared_error: 0.5381 - mean_absolute_error: 0.4668 - 13s/epoch - 3ms/step\n",
      "Epoch 10/100\n",
      "5129/5129 - 14s - loss: 0.2888 - mean_squared_error: 0.2888 - root_mean_squared_error: 0.5374 - mean_absolute_error: 0.4657 - 14s/epoch - 3ms/step\n",
      "Epoch 11/100\n",
      "5129/5129 - 13s - loss: 0.2886 - mean_squared_error: 0.2886 - root_mean_squared_error: 0.5372 - mean_absolute_error: 0.4666 - 13s/epoch - 2ms/step\n",
      "Epoch 12/100\n",
      "5129/5129 - 15s - loss: 0.2878 - mean_squared_error: 0.2878 - root_mean_squared_error: 0.5365 - mean_absolute_error: 0.4656 - 15s/epoch - 3ms/step\n",
      "Epoch 13/100\n",
      "5129/5129 - 13s - loss: 0.2872 - mean_squared_error: 0.2872 - root_mean_squared_error: 0.5359 - mean_absolute_error: 0.4660 - 13s/epoch - 3ms/step\n",
      "Epoch 14/100\n",
      "5129/5129 - 14s - loss: 0.2867 - mean_squared_error: 0.2867 - root_mean_squared_error: 0.5355 - mean_absolute_error: 0.4648 - 14s/epoch - 3ms/step\n",
      "Epoch 15/100\n",
      "5129/5129 - 14s - loss: 0.2863 - mean_squared_error: 0.2863 - root_mean_squared_error: 0.5351 - mean_absolute_error: 0.4647 - 14s/epoch - 3ms/step\n",
      "Epoch 16/100\n",
      "5129/5129 - 14s - loss: 0.2858 - mean_squared_error: 0.2858 - root_mean_squared_error: 0.5346 - mean_absolute_error: 0.4646 - 14s/epoch - 3ms/step\n",
      "Epoch 17/100\n",
      "5129/5129 - 15s - loss: 0.2853 - mean_squared_error: 0.2853 - root_mean_squared_error: 0.5341 - mean_absolute_error: 0.4648 - 15s/epoch - 3ms/step\n",
      "Epoch 18/100\n",
      "5129/5129 - 14s - loss: 0.2849 - mean_squared_error: 0.2849 - root_mean_squared_error: 0.5337 - mean_absolute_error: 0.4645 - 14s/epoch - 3ms/step\n",
      "Epoch 19/100\n",
      "5129/5129 - 13s - loss: 0.2843 - mean_squared_error: 0.2843 - root_mean_squared_error: 0.5332 - mean_absolute_error: 0.4641 - 13s/epoch - 2ms/step\n",
      "Epoch 20/100\n",
      "5129/5129 - 11s - loss: 0.2838 - mean_squared_error: 0.2838 - root_mean_squared_error: 0.5328 - mean_absolute_error: 0.4643 - 11s/epoch - 2ms/step\n",
      "Epoch 21/100\n",
      "5129/5129 - 11s - loss: 0.2831 - mean_squared_error: 0.2831 - root_mean_squared_error: 0.5321 - mean_absolute_error: 0.4635 - 11s/epoch - 2ms/step\n",
      "Epoch 22/100\n",
      "5129/5129 - 12s - loss: 0.2831 - mean_squared_error: 0.2831 - root_mean_squared_error: 0.5320 - mean_absolute_error: 0.4629 - 12s/epoch - 2ms/step\n",
      "Epoch 23/100\n",
      "5129/5129 - 11s - loss: 0.2826 - mean_squared_error: 0.2826 - root_mean_squared_error: 0.5316 - mean_absolute_error: 0.4630 - 11s/epoch - 2ms/step\n",
      "Epoch 24/100\n",
      "5129/5129 - 12s - loss: 0.2820 - mean_squared_error: 0.2820 - root_mean_squared_error: 0.5311 - mean_absolute_error: 0.4619 - 12s/epoch - 2ms/step\n",
      "Epoch 25/100\n",
      "5129/5129 - 11s - loss: 0.2818 - mean_squared_error: 0.2818 - root_mean_squared_error: 0.5308 - mean_absolute_error: 0.4620 - 11s/epoch - 2ms/step\n",
      "Epoch 26/100\n",
      "5129/5129 - 11s - loss: 0.2814 - mean_squared_error: 0.2814 - root_mean_squared_error: 0.5305 - mean_absolute_error: 0.4620 - 11s/epoch - 2ms/step\n",
      "Epoch 27/100\n",
      "5129/5129 - 12s - loss: 0.2811 - mean_squared_error: 0.2811 - root_mean_squared_error: 0.5302 - mean_absolute_error: 0.4604 - 12s/epoch - 2ms/step\n",
      "Epoch 28/100\n",
      "5129/5129 - 11s - loss: 0.2809 - mean_squared_error: 0.2809 - root_mean_squared_error: 0.5300 - mean_absolute_error: 0.4609 - 11s/epoch - 2ms/step\n",
      "Epoch 29/100\n",
      "5129/5129 - 12s - loss: 0.2803 - mean_squared_error: 0.2803 - root_mean_squared_error: 0.5294 - mean_absolute_error: 0.4601 - 12s/epoch - 2ms/step\n",
      "Epoch 30/100\n",
      "5129/5129 - 12s - loss: 0.2803 - mean_squared_error: 0.2803 - root_mean_squared_error: 0.5294 - mean_absolute_error: 0.4600 - 12s/epoch - 2ms/step\n",
      "Epoch 31/100\n",
      "5129/5129 - 9s - loss: 0.2796 - mean_squared_error: 0.2796 - root_mean_squared_error: 0.5287 - mean_absolute_error: 0.4583 - 9s/epoch - 2ms/step\n",
      "Epoch 32/100\n",
      "5129/5129 - 9s - loss: 0.2791 - mean_squared_error: 0.2791 - root_mean_squared_error: 0.5283 - mean_absolute_error: 0.4582 - 9s/epoch - 2ms/step\n",
      "Epoch 33/100\n",
      "5129/5129 - 11s - loss: 0.2789 - mean_squared_error: 0.2789 - root_mean_squared_error: 0.5281 - mean_absolute_error: 0.4576 - 11s/epoch - 2ms/step\n",
      "Epoch 34/100\n",
      "5129/5129 - 11s - loss: 0.2787 - mean_squared_error: 0.2787 - root_mean_squared_error: 0.5280 - mean_absolute_error: 0.4577 - 11s/epoch - 2ms/step\n",
      "Epoch 35/100\n",
      "5129/5129 - 12s - loss: 0.2788 - mean_squared_error: 0.2788 - root_mean_squared_error: 0.5280 - mean_absolute_error: 0.4571 - 12s/epoch - 2ms/step\n",
      "Epoch 36/100\n",
      "5129/5129 - 11s - loss: 0.2780 - mean_squared_error: 0.2780 - root_mean_squared_error: 0.5273 - mean_absolute_error: 0.4569 - 11s/epoch - 2ms/step\n",
      "Epoch 37/100\n",
      "5129/5129 - 11s - loss: 0.2776 - mean_squared_error: 0.2776 - root_mean_squared_error: 0.5268 - mean_absolute_error: 0.4553 - 11s/epoch - 2ms/step\n",
      "Epoch 38/100\n",
      "5129/5129 - 11s - loss: 0.2772 - mean_squared_error: 0.2772 - root_mean_squared_error: 0.5265 - mean_absolute_error: 0.4545 - 11s/epoch - 2ms/step\n",
      "Epoch 39/100\n",
      "5129/5129 - 11s - loss: 0.2770 - mean_squared_error: 0.2770 - root_mean_squared_error: 0.5263 - mean_absolute_error: 0.4547 - 11s/epoch - 2ms/step\n",
      "Epoch 40/100\n",
      "5129/5129 - 12s - loss: 0.2770 - mean_squared_error: 0.2770 - root_mean_squared_error: 0.5263 - mean_absolute_error: 0.4545 - 12s/epoch - 2ms/step\n",
      "Epoch 41/100\n",
      "5129/5129 - 12s - loss: 0.2760 - mean_squared_error: 0.2760 - root_mean_squared_error: 0.5253 - mean_absolute_error: 0.4530 - 12s/epoch - 2ms/step\n",
      "Epoch 42/100\n",
      "5129/5129 - 11s - loss: 0.2763 - mean_squared_error: 0.2763 - root_mean_squared_error: 0.5257 - mean_absolute_error: 0.4535 - 11s/epoch - 2ms/step\n",
      "Epoch 43/100\n",
      "5129/5129 - 12s - loss: 0.2764 - mean_squared_error: 0.2764 - root_mean_squared_error: 0.5257 - mean_absolute_error: 0.4536 - 12s/epoch - 2ms/step\n",
      "Epoch 44/100\n",
      "5129/5129 - 11s - loss: 0.2763 - mean_squared_error: 0.2763 - root_mean_squared_error: 0.5256 - mean_absolute_error: 0.4538 - 11s/epoch - 2ms/step\n",
      "Epoch 45/100\n",
      "5129/5129 - 12s - loss: 0.2762 - mean_squared_error: 0.2762 - root_mean_squared_error: 0.5255 - mean_absolute_error: 0.4524 - 12s/epoch - 2ms/step\n",
      "Epoch 46/100\n",
      "5129/5129 - 12s - loss: 0.2762 - mean_squared_error: 0.2762 - root_mean_squared_error: 0.5255 - mean_absolute_error: 0.4532 - 12s/epoch - 2ms/step\n",
      "Epoch 47/100\n",
      "5129/5129 - 11s - loss: 0.2759 - mean_squared_error: 0.2759 - root_mean_squared_error: 0.5253 - mean_absolute_error: 0.4524 - 11s/epoch - 2ms/step\n",
      "Epoch 48/100\n",
      "5129/5129 - 12s - loss: 0.2755 - mean_squared_error: 0.2755 - root_mean_squared_error: 0.5249 - mean_absolute_error: 0.4527 - 12s/epoch - 2ms/step\n",
      "Epoch 49/100\n",
      "5129/5129 - 11s - loss: 0.2758 - mean_squared_error: 0.2758 - root_mean_squared_error: 0.5252 - mean_absolute_error: 0.4521 - 11s/epoch - 2ms/step\n",
      "Epoch 50/100\n",
      "5129/5129 - 12s - loss: 0.2754 - mean_squared_error: 0.2754 - root_mean_squared_error: 0.5248 - mean_absolute_error: 0.4518 - 12s/epoch - 2ms/step\n",
      "Epoch 51/100\n",
      "5129/5129 - 12s - loss: 0.2755 - mean_squared_error: 0.2755 - root_mean_squared_error: 0.5249 - mean_absolute_error: 0.4515 - 12s/epoch - 2ms/step\n",
      "Epoch 52/100\n",
      "5129/5129 - 11s - loss: 0.2754 - mean_squared_error: 0.2754 - root_mean_squared_error: 0.5248 - mean_absolute_error: 0.4515 - 11s/epoch - 2ms/step\n",
      "Epoch 53/100\n",
      "5129/5129 - 12s - loss: 0.2753 - mean_squared_error: 0.2753 - root_mean_squared_error: 0.5247 - mean_absolute_error: 0.4513 - 12s/epoch - 2ms/step\n",
      "Epoch 54/100\n",
      "5129/5129 - 12s - loss: 0.2754 - mean_squared_error: 0.2754 - root_mean_squared_error: 0.5248 - mean_absolute_error: 0.4513 - 12s/epoch - 2ms/step\n",
      "Epoch 55/100\n",
      "5129/5129 - 12s - loss: 0.2753 - mean_squared_error: 0.2753 - root_mean_squared_error: 0.5247 - mean_absolute_error: 0.4514 - 12s/epoch - 2ms/step\n",
      "Epoch 56/100\n",
      "5129/5129 - 12s - loss: 0.2751 - mean_squared_error: 0.2751 - root_mean_squared_error: 0.5245 - mean_absolute_error: 0.4511 - 12s/epoch - 2ms/step\n",
      "Epoch 57/100\n",
      "5129/5129 - 12s - loss: 0.2751 - mean_squared_error: 0.2751 - root_mean_squared_error: 0.5245 - mean_absolute_error: 0.4510 - 12s/epoch - 2ms/step\n",
      "Epoch 58/100\n",
      "5129/5129 - 12s - loss: 0.2748 - mean_squared_error: 0.2748 - root_mean_squared_error: 0.5242 - mean_absolute_error: 0.4504 - 12s/epoch - 2ms/step\n",
      "Epoch 59/100\n",
      "5129/5129 - 12s - loss: 0.2750 - mean_squared_error: 0.2750 - root_mean_squared_error: 0.5244 - mean_absolute_error: 0.4505 - 12s/epoch - 2ms/step\n",
      "Epoch 60/100\n",
      "5129/5129 - 12s - loss: 0.2748 - mean_squared_error: 0.2748 - root_mean_squared_error: 0.5243 - mean_absolute_error: 0.4502 - 12s/epoch - 2ms/step\n",
      "Epoch 61/100\n",
      "5129/5129 - 12s - loss: 0.2749 - mean_squared_error: 0.2749 - root_mean_squared_error: 0.5243 - mean_absolute_error: 0.4505 - 12s/epoch - 2ms/step\n",
      "Epoch 62/100\n",
      "5129/5129 - 12s - loss: 0.2751 - mean_squared_error: 0.2751 - root_mean_squared_error: 0.5245 - mean_absolute_error: 0.4503 - 12s/epoch - 2ms/step\n",
      "Epoch 63/100\n",
      "5129/5129 - 12s - loss: 0.2744 - mean_squared_error: 0.2744 - root_mean_squared_error: 0.5238 - mean_absolute_error: 0.4503 - 12s/epoch - 2ms/step\n",
      "Epoch 64/100\n",
      "5129/5129 - 11s - loss: 0.2749 - mean_squared_error: 0.2749 - root_mean_squared_error: 0.5243 - mean_absolute_error: 0.4504 - 11s/epoch - 2ms/step\n",
      "Epoch 65/100\n",
      "5129/5129 - 11s - loss: 0.2751 - mean_squared_error: 0.2751 - root_mean_squared_error: 0.5245 - mean_absolute_error: 0.4508 - 11s/epoch - 2ms/step\n",
      "Epoch 66/100\n",
      "5129/5129 - 12s - loss: 0.2750 - mean_squared_error: 0.2750 - root_mean_squared_error: 0.5244 - mean_absolute_error: 0.4504 - 12s/epoch - 2ms/step\n",
      "Epoch 67/100\n",
      "5129/5129 - 11s - loss: 0.2746 - mean_squared_error: 0.2746 - root_mean_squared_error: 0.5240 - mean_absolute_error: 0.4505 - 11s/epoch - 2ms/step\n",
      "Epoch 68/100\n",
      "5129/5129 - 12s - loss: 0.2747 - mean_squared_error: 0.2747 - root_mean_squared_error: 0.5241 - mean_absolute_error: 0.4505 - 12s/epoch - 2ms/step\n",
      "Epoch 69/100\n",
      "5129/5129 - 11s - loss: 0.2747 - mean_squared_error: 0.2747 - root_mean_squared_error: 0.5241 - mean_absolute_error: 0.4501 - 11s/epoch - 2ms/step\n",
      "Epoch 70/100\n",
      "5129/5129 - 12s - loss: 0.2752 - mean_squared_error: 0.2752 - root_mean_squared_error: 0.5245 - mean_absolute_error: 0.4508 - 12s/epoch - 2ms/step\n",
      "Epoch 71/100\n",
      "5129/5129 - 13s - loss: 0.2747 - mean_squared_error: 0.2747 - root_mean_squared_error: 0.5241 - mean_absolute_error: 0.4507 - 13s/epoch - 3ms/step\n",
      "Epoch 72/100\n",
      "5129/5129 - 13s - loss: 0.2749 - mean_squared_error: 0.2749 - root_mean_squared_error: 0.5243 - mean_absolute_error: 0.4504 - 13s/epoch - 2ms/step\n",
      "Epoch 73/100\n",
      "5129/5129 - 13s - loss: 0.2751 - mean_squared_error: 0.2751 - root_mean_squared_error: 0.5245 - mean_absolute_error: 0.4507 - 13s/epoch - 2ms/step\n",
      "Epoch 74/100\n",
      "5129/5129 - 13s - loss: 0.2749 - mean_squared_error: 0.2749 - root_mean_squared_error: 0.5243 - mean_absolute_error: 0.4502 - 13s/epoch - 2ms/step\n",
      "Epoch 75/100\n",
      "5129/5129 - 13s - loss: 0.2747 - mean_squared_error: 0.2747 - root_mean_squared_error: 0.5241 - mean_absolute_error: 0.4504 - 13s/epoch - 3ms/step\n",
      "Epoch 76/100\n",
      "5129/5129 - 13s - loss: 0.2743 - mean_squared_error: 0.2743 - root_mean_squared_error: 0.5237 - mean_absolute_error: 0.4503 - 13s/epoch - 2ms/step\n",
      "Epoch 77/100\n",
      "5129/5129 - 15s - loss: 0.2749 - mean_squared_error: 0.2749 - root_mean_squared_error: 0.5243 - mean_absolute_error: 0.4509 - 15s/epoch - 3ms/step\n",
      "Epoch 78/100\n",
      "5129/5129 - 14s - loss: 0.2748 - mean_squared_error: 0.2748 - root_mean_squared_error: 0.5242 - mean_absolute_error: 0.4499 - 14s/epoch - 3ms/step\n",
      "Epoch 79/100\n",
      "5129/5129 - 12s - loss: 0.2748 - mean_squared_error: 0.2748 - root_mean_squared_error: 0.5242 - mean_absolute_error: 0.4503 - 12s/epoch - 2ms/step\n",
      "Epoch 80/100\n",
      "5129/5129 - 11s - loss: 0.2749 - mean_squared_error: 0.2749 - root_mean_squared_error: 0.5243 - mean_absolute_error: 0.4503 - 11s/epoch - 2ms/step\n",
      "Epoch 81/100\n",
      "5129/5129 - 10s - loss: 0.2746 - mean_squared_error: 0.2746 - root_mean_squared_error: 0.5240 - mean_absolute_error: 0.4503 - 10s/epoch - 2ms/step\n",
      "Epoch 82/100\n",
      "5129/5129 - 10s - loss: 0.2745 - mean_squared_error: 0.2745 - root_mean_squared_error: 0.5239 - mean_absolute_error: 0.4495 - 10s/epoch - 2ms/step\n",
      "Epoch 83/100\n",
      "5129/5129 - 10s - loss: 0.2748 - mean_squared_error: 0.2748 - root_mean_squared_error: 0.5242 - mean_absolute_error: 0.4507 - 10s/epoch - 2ms/step\n",
      "Epoch 84/100\n",
      "5129/5129 - 10s - loss: 0.2748 - mean_squared_error: 0.2748 - root_mean_squared_error: 0.5243 - mean_absolute_error: 0.4501 - 10s/epoch - 2ms/step\n",
      "Epoch 85/100\n",
      "5129/5129 - 11s - loss: 0.2744 - mean_squared_error: 0.2744 - root_mean_squared_error: 0.5238 - mean_absolute_error: 0.4506 - 11s/epoch - 2ms/step\n",
      "Epoch 86/100\n",
      "5129/5129 - 12s - loss: 0.2746 - mean_squared_error: 0.2746 - root_mean_squared_error: 0.5240 - mean_absolute_error: 0.4500 - 12s/epoch - 2ms/step\n",
      "Epoch 87/100\n",
      "5129/5129 - 15s - loss: 0.2747 - mean_squared_error: 0.2747 - root_mean_squared_error: 0.5241 - mean_absolute_error: 0.4504 - 15s/epoch - 3ms/step\n",
      "Epoch 88/100\n",
      "5129/5129 - 14s - loss: 0.2746 - mean_squared_error: 0.2746 - root_mean_squared_error: 0.5240 - mean_absolute_error: 0.4499 - 14s/epoch - 3ms/step\n",
      "Epoch 89/100\n",
      "5129/5129 - 12s - loss: 0.2749 - mean_squared_error: 0.2749 - root_mean_squared_error: 0.5243 - mean_absolute_error: 0.4505 - 12s/epoch - 2ms/step\n",
      "Epoch 90/100\n",
      "5129/5129 - 13s - loss: 0.2745 - mean_squared_error: 0.2745 - root_mean_squared_error: 0.5240 - mean_absolute_error: 0.4502 - 13s/epoch - 3ms/step\n",
      "Epoch 91/100\n",
      "5129/5129 - 13s - loss: 0.2746 - mean_squared_error: 0.2746 - root_mean_squared_error: 0.5240 - mean_absolute_error: 0.4504 - 13s/epoch - 3ms/step\n",
      "Epoch 92/100\n",
      "5129/5129 - 13s - loss: 0.2745 - mean_squared_error: 0.2745 - root_mean_squared_error: 0.5240 - mean_absolute_error: 0.4499 - 13s/epoch - 2ms/step\n",
      "Epoch 93/100\n",
      "5129/5129 - 13s - loss: 0.2747 - mean_squared_error: 0.2747 - root_mean_squared_error: 0.5241 - mean_absolute_error: 0.4505 - 13s/epoch - 2ms/step\n",
      "Epoch 94/100\n",
      "5129/5129 - 14s - loss: 0.2747 - mean_squared_error: 0.2747 - root_mean_squared_error: 0.5242 - mean_absolute_error: 0.4500 - 14s/epoch - 3ms/step\n",
      "Epoch 95/100\n",
      "5129/5129 - 18s - loss: 0.2746 - mean_squared_error: 0.2746 - root_mean_squared_error: 0.5240 - mean_absolute_error: 0.4503 - 18s/epoch - 4ms/step\n",
      "Epoch 96/100\n",
      "5129/5129 - 16s - loss: 0.2749 - mean_squared_error: 0.2749 - root_mean_squared_error: 0.5243 - mean_absolute_error: 0.4502 - 16s/epoch - 3ms/step\n",
      "Epoch 97/100\n",
      "5129/5129 - 18s - loss: 0.2746 - mean_squared_error: 0.2746 - root_mean_squared_error: 0.5240 - mean_absolute_error: 0.4506 - 18s/epoch - 3ms/step\n",
      "Epoch 98/100\n",
      "5129/5129 - 17s - loss: 0.2749 - mean_squared_error: 0.2749 - root_mean_squared_error: 0.5243 - mean_absolute_error: 0.4507 - 17s/epoch - 3ms/step\n",
      "Epoch 99/100\n",
      "5129/5129 - 17s - loss: 0.2747 - mean_squared_error: 0.2747 - root_mean_squared_error: 0.5241 - mean_absolute_error: 0.4506 - 17s/epoch - 3ms/step\n",
      "Epoch 100/100\n",
      "5129/5129 - 19s - loss: 0.2746 - mean_squared_error: 0.2746 - root_mean_squared_error: 0.5240 - mean_absolute_error: 0.4509 - 19s/epoch - 4ms/step\n"
     ]
    }
   ],
   "source": [
    "# Treinando nossa rede\n",
    "# epocas = 100\n",
    "# batch_size = 1, treinar amostra por amostra\n",
    "history = model.fit(trainX, trainY, epochs=100, batch_size=1, verbose=2)"
   ]
  },
  {
   "cell_type": "code",
   "execution_count": 18,
   "metadata": {},
   "outputs": [
    {
     "data": {
      "image/png": "[encoded data removed]",
      "text/plain": [
       "<Figure size 432x288 with 1 Axes>"
      ]
     },
     "metadata": {
      "needs_background": "light"
     },
     "output_type": "display_data"
    }
   ],
   "source": [
    "plt.plot(history.history['mean_squared_error'])\n",
    "plt.plot(history.history['root_mean_squared_error'])\n",
    "plt.plot(history.history['mean_absolute_error'])\n",
    "plt.xlabel('epoch')\n",
    "plt.legend(['MSE', 'RMSE', 'MAE'], loc='upper right')\n",
    "plt.show()"
   ]
  },
  {
   "cell_type": "code",
   "execution_count": 19,
   "metadata": {},
   "outputs": [
    {
     "name": "stdout",
     "output_type": "stream",
     "text": [
      "161/161 [==============================] - 2s 3ms/step\n",
      "41/41 [==============================] - 0s 3ms/step\n"
     ]
    }
   ],
   "source": [
    "# Realizando as predições nos conjuntos de treino/teste\n",
    "\n",
    "# predição no conjunto de trienamento\n",
    "trainPredict = model.predict(trainX)\n",
    "\n",
    "# predição no conjunto de teste\n",
    "testPredict  = model.predict(testX)"
   ]
  },
  {
   "cell_type": "code",
   "execution_count": 20,
   "metadata": {},
   "outputs": [],
   "source": [
    "# Aplicando a inversa da escala para retornar ao valor original\n",
    "# training set\n",
    "trainPredict = scaler.inverse_transform(trainPredict)\n",
    "trainY = scaler.inverse_transform([trainY])\n",
    "\n",
    "# testing set\n",
    "testPredict = scaler.inverse_transform(testPredict)\n",
    "testY = scaler.inverse_transform([testY])"
   ]
  },
  {
   "cell_type": "code",
   "execution_count": 21,
   "metadata": {},
   "outputs": [
    {
     "name": "stdout",
     "output_type": "stream",
     "text": [
      "Treino: 9.68 RMSE\n",
      "Teste Score: 9.99 RMSE\n"
     ]
    }
   ],
   "source": [
    "# Calculando RMSE no treino e teste\n",
    "trainScore = math.sqrt(mean_squared_error(trainY[0], trainPredict[:,0]))\n",
    "print('Treino: %.2f RMSE' % (trainScore))\n",
    "testScore = math.sqrt(mean_squared_error(testY[0], testPredict[:,0]))\n",
    "print('Teste Score: %.2f RMSE' % (testScore))"
   ]
  },
  {
   "cell_type": "code",
   "execution_count": 22,
   "metadata": {},
   "outputs": [],
   "source": [
    "# Ajustando o plot do treino\n",
    "trainPredictPlot = np.empty_like(dataset)\n",
    "trainPredictPlot[:, :] = np.nan\n",
    "trainPredictPlot[janela_previsao:len(trainPredict)+janela_previsao, :] = trainPredict"
   ]
  },
  {
   "cell_type": "code",
   "execution_count": 23,
   "metadata": {},
   "outputs": [],
   "source": [
    "# Ajustando o plot do teste\n",
    "testPredictPlot = np.empty_like(dataset)\n",
    "testPredictPlot[:, :] = np.nan\n",
    "testPredictPlot[len(trainPredict)+(janela_previsao*2)+1:len(dataset)-1, :] = testPredict"
   ]
  },
  {
   "cell_type": "code",
   "execution_count": 24,
   "metadata": {},
   "outputs": [
    {
     "data": {
      "image/png": "[encoded data removed]",
      "text/plain": [
       "<Figure size 432x288 with 1 Axes>"
      ]
     },
     "metadata": {
      "needs_background": "light"
     },
     "output_type": "display_data"
    }
   ],
   "source": [
    "# Ajustando o plot com o sinal original\n",
    "# - verde   = dataset original\n",
    "# - azul    = predicoes geradas no conjunto de treinamento\n",
    "# - laranja = predicoes geradas no conjunto de teste\n",
    "\n",
    "plt.plot(trainPredictPlot[:100], linestyle=\"--\")\n",
    "plt.plot(testPredictPlot[:100], linestyle=\"--\")\n",
    "plt.plot(scaler.inverse_transform(dataset)[:100])\n",
    "plt.xlabel('instances')\n",
    "plt.legend(['train', 'test', 'original'], loc='upper left')\n",
    "plt.show()"
   ]
  }
 ],
 "metadata": {
  "interpreter": {
   "hash": "11bbcf57d79407485a8d65c6cc737ca9d49c6f1d1b34c1ae2a5e6f49b42ea89b"
  },
  "kernelspec": {
   "display_name": "Python 3.7.7 64-bit",
   "language": "python",
   "name": "python3"
  },
  "language_info": {
   "codemirror_mode": {
    "name": "ipython",
    "version": 3
   },
   "file_extension": ".py",
   "mimetype": "text/x-python",
   "name": "python",
   "nbconvert_exporter": "python",
   "pygments_lexer": "ipython3",
   "version": "3.7.7"
  },
  "orig_nbformat": 4
 },
 "nbformat": 4,
 "nbformat_minor": 2
}

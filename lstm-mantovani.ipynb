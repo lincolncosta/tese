{
 "cells": [
  {
   "cell_type": "code",
   "execution_count": 1,
   "metadata": {},
   "outputs": [],
   "source": [
    "# importando as bibliotecas necessárias para rodar o script\n",
    "\n",
    "# manipulação de números de ponto flutuante\n",
    "import numpy as np\n",
    "\n",
    "# plotagem de gráficos\n",
    "import matplotlib.pyplot as plt\n",
    "\n",
    "# criação manipulação de data frames\n",
    "import pandas as pd\n",
    "\n",
    "# funções matemáticas\n",
    "import math\n",
    "\n",
    "# criação dos modelos de DL\n",
    "from keras.models import Sequential\n",
    "from keras.layers import Dense\n",
    "from keras.layers import LSTM\n",
    "\n",
    "# preprocessador - escalar os dados\n",
    "from sklearn.preprocessing import MinMaxScaler\n",
    "\n",
    "# metrica de desempenho (MSE)\n",
    "from sklearn.metrics import mean_squared_error"
   ]
  },
  {
   "cell_type": "code",
   "execution_count": 2,
   "metadata": {},
   "outputs": [],
   "source": [
    "events_dict = {\n",
    "    'BLUE: first_blood': 0,\n",
    "    'BLUE: dragon': 1,\n",
    "    'BLUE: herald': 2,\n",
    "    'BLUE: first_tower_top': 3,\n",
    "    'BLUE: first_tower_mid': 4,\n",
    "    'BLUE: first_tower_bot': 5,\n",
    "    'BLUE: second_tower_top': 6,\n",
    "    'BLUE: second_tower_mid': 7,\n",
    "    'BLUE: second_tower_bot': 8,\n",
    "    'BLUE: third_tower_top': 9,\n",
    "    'BLUE: third_tower_mid': 10,\n",
    "    'BLUE: third_tower_bot': 11,\n",
    "    'BLUE: inhibitor_top': 12,\n",
    "    'BLUE: inhibitor_mid': 13,\n",
    "    'BLUE: inhibitor_bot': 14,\n",
    "    'BLUE: baron': 15,\n",
    "    'BLUE: elder_dragon': 16,\n",
    "    'BLUE: nexus_tower': 17,\n",
    "    'BLUE: nexus': 18,\n",
    "    'RED: first_blood': 19,\n",
    "    'RED: dragon': 20,\n",
    "    'RED: herald': 21,\n",
    "    'RED: first_tower_top': 22,\n",
    "    'RED: first_tower_mid': 23,\n",
    "    'RED: first_tower_bot': 24,\n",
    "    'RED: second_tower_top': 25,\n",
    "    'RED: second_tower_mid': 26,\n",
    "    'RED: second_tower_bot': 27,\n",
    "    'RED: third_tower_top': 28,\n",
    "    'RED: third_tower_mid': 29,\n",
    "    'RED: third_tower_bot': 30,\n",
    "    'RED: inhibitor_top': 31,\n",
    "    'RED: inhibitor_mid': 32,\n",
    "    'RED: inhibitor_bot': 33,\n",
    "    'RED: baron': 34,\n",
    "    'RED: elder_dragon': 35,\n",
    "    'RED: nexus_tower': 36,\n",
    "    'RED: nexus': 37\n",
    "}\n",
    "\n",
    "df = pd.read_csv('data/clean-one-line.csv')\n",
    "df = df.drop('game', axis=1)\n",
    "data = df.values.tolist()\n",
    "\n",
    "for game in data:\n",
    "    for i, s in enumerate(game):\n",
    "        if s in events_dict:\n",
    "            game[i] = events_dict.get(s)\n",
    "        else:\n",
    "            del game[i]\n",
    "\n",
    "for game in data:\n",
    "    game = [item for item in game if not(math.isnan(item)) == True]\n",
    "\n",
    "data = [[x for x in y if not np.isnan(x)] for y in data]\n",
    "\n",
    "dataArray = []\n",
    "\n",
    "for game in data:\n",
    "    dataArray += game"
   ]
  },
  {
   "cell_type": "code",
   "execution_count": 3,
   "metadata": {},
   "outputs": [
    {
     "name": "stdout",
     "output_type": "stream",
     "text": [
      "\n",
      "* Dimensão dos dados: (6128, 1)\n",
      "* Dados originais:\n",
      "[[19.]\n",
      " [ 2.]\n",
      " [ 3.]\n",
      " [20.]\n",
      " [21.]\n",
      " [ 4.]\n",
      " [ 5.]\n",
      " [20.]\n",
      " [23.]\n",
      " [34.]]\n"
     ]
    }
   ],
   "source": [
    "df = pd.read_csv('data/clean-one-line.csv')\n",
    "df = df.drop('game', axis=1)\n",
    "data = df.values.tolist()\n",
    "\n",
    "for game in data:\n",
    "    for i, s in enumerate(game):\n",
    "        if s in events_dict:\n",
    "            game[i] = events_dict.get(s)\n",
    "        else:\n",
    "            del game[i]\n",
    "\n",
    "for game in data:\n",
    "    game = [item for item in game if not(math.isnan(item)) == True]\n",
    "\n",
    "data = [[x for x in y if not np.isnan(x)] for y in data]\n",
    "dataArray = []\n",
    "\n",
    "for game in data:\n",
    "    dataArray += game\n",
    "\n",
    "dataframe = pd.DataFrame(dataArray)\n",
    "dataset = dataframe.values\n",
    "dataset = dataset.astype('float32')\n",
    "\n",
    "# vislumbrar um pedaço dos dados e formato lido\n",
    "print(\"\\n* Dimensão dos dados:\", dataset.shape) \n",
    "# 36 amostras/instâncias, univariadas (um único valor real)\n",
    "print(\"* Dados originais:\")\n",
    "print(dataset[:10])"
   ]
  },
  {
   "cell_type": "code",
   "execution_count": 4,
   "metadata": {},
   "outputs": [],
   "source": [
    "# funcao auxiliar para criar os itervalos de previsao\n",
    "# é a mesma que usamos no exemplo anterior\n",
    "def create_dataset(dataset, janela_previsao=1):\n",
    "    dataX, dataY = [], []\n",
    "    for i in range(len(dataset)-janela_previsao-1):\n",
    "        a = dataset[i:(i+janela_previsao), 0]\n",
    "        dataX.append(a)\n",
    "        dataY.append(dataset[i + janela_previsao, 0])\n",
    "    return np.array(dataX), np.array(dataY)"
   ]
  },
  {
   "cell_type": "code",
   "execution_count": 5,
   "metadata": {},
   "outputs": [
    {
     "data": {
      "text/plain": [
       "[<matplotlib.lines.Line2D at 0x1f25a9d9e08>]"
      ]
     },
     "execution_count": 5,
     "metadata": {},
     "output_type": "execute_result"
    },
    {
     "data": {
      "image/png": "[encoded data removed]",
      "text/plain": [
       "<Figure size 432x288 with 1 Axes>"
      ]
     },
     "metadata": {
      "needs_background": "light"
     },
     "output_type": "display_data"
    }
   ],
   "source": [
    "# plotar os dados para visualizar a nossa time series\n",
    "plt.plot(dataset, linestyle='--', marker='o', color='b')"
   ]
  },
  {
   "cell_type": "code",
   "execution_count": 6,
   "metadata": {},
   "outputs": [
    {
     "name": "stdout",
     "output_type": "stream",
     "text": [
      "* Dados escalados:\n",
      "[[ 0.02702701 -0.8918919  -0.8378378   0.08108115  0.13513517 -0.7837838\n",
      "  -0.7297297   0.08108115  0.24324322  0.83783793]]\n"
     ]
    }
   ],
   "source": [
    "# Normalizando os dados\n",
    "\n",
    "# escalar os dados no intervalo [-1,1] usando sklearn\n",
    "# from sklearn.preprocessing import MinMaxScaler\n",
    "\n",
    "scaler = MinMaxScaler(feature_range=(-1, 1))\n",
    "dataset = scaler.fit_transform(dataset)\n",
    "\n",
    "print(\"* Dados escalados:\")\n",
    "print(dataset[:10].transpose())"
   ]
  },
  {
   "cell_type": "code",
   "execution_count": 7,
   "metadata": {},
   "outputs": [
    {
     "data": {
      "text/plain": [
       "[<matplotlib.lines.Line2D at 0x1f25be00f48>]"
      ]
     },
     "execution_count": 7,
     "metadata": {},
     "output_type": "execute_result"
    },
    {
     "data": {
      "image/png": "[encoded data removed]",
      "text/plain": [
       "<Figure size 432x288 with 1 Axes>"
      ]
     },
     "metadata": {
      "needs_background": "light"
     },
     "output_type": "display_data"
    }
   ],
   "source": [
    "# visualizar nossos dados escalados\n",
    "# Obs: prestar atenção ao eixo Y, agora varia entre [-1,+1]\n",
    "plt.plot(dataset, linestyle='--', marker='o', color='b')"
   ]
  },
  {
   "cell_type": "code",
   "execution_count": 8,
   "metadata": {},
   "outputs": [
    {
     "name": "stdout",
     "output_type": "stream",
     "text": [
      "- Numero de instâncias treino:  4902\n",
      "- Numero de instâncias teste:  1226\n"
     ]
    }
   ],
   "source": [
    "# Ajustando conjunto de treino e teste\n",
    "# 80% dos exemplos no treino, 20% no teste\n",
    "train_size = int(len(dataset) * 0.80)\n",
    "test_size  = len(dataset) - train_size\n",
    "\n",
    "#print(train_size, test_size)\n",
    "print(\"- Numero de instâncias treino: \", train_size)\n",
    "print(\"- Numero de instâncias teste: \", test_size)"
   ]
  },
  {
   "cell_type": "code",
   "execution_count": 9,
   "metadata": {},
   "outputs": [
    {
     "name": "stdout",
     "output_type": "stream",
     "text": [
      "* Conjunto de Treinamento: (4902, 1)\n",
      "* Conjunto de Teste: (1226, 1)\n"
     ]
    }
   ],
   "source": [
    "# Conjunto de treinamento - amostras de 0-29\n",
    "# Conjunto de teste - amostras de 30-35\n",
    "train, test = dataset[0:train_size,:], dataset[train_size:len(dataset),:]\n",
    "\n",
    "print(\"* Conjunto de Treinamento:\", train.shape)\n",
    "#print(train)\n",
    "\n",
    "print(\"* Conjunto de Teste:\", test.shape)\n",
    "#print(test)"
   ]
  },
  {
   "cell_type": "code",
   "execution_count": 10,
   "metadata": {},
   "outputs": [],
   "source": [
    "# reshape em X=t and Y=t+1\n",
    "# isto é, criando dados no padrão DF = [X|Y]\n",
    "# para cada X, o Y = X+1\n",
    "\n",
    "janela_previsao = 1\n",
    "trainX, trainY = create_dataset(train, janela_previsao)"
   ]
  },
  {
   "cell_type": "code",
   "execution_count": 11,
   "metadata": {},
   "outputs": [],
   "source": [
    "# reshape em X=t and Y=t+1 para o conjunto de teste\n",
    "\n",
    "testX, testY  = create_dataset(test, janela_previsao)"
   ]
  },
  {
   "cell_type": "code",
   "execution_count": 12,
   "metadata": {},
   "outputs": [],
   "source": [
    "# Ajustando os conjunto de treino (trainX) e teste (testX) para o formato\n",
    "# [samples, time_steps, features]\n",
    "trainX = np.reshape(trainX, (trainX.shape[0], 1, trainX.shape[1]))\n",
    "testX = np.reshape(testX, (testX.shape[0], 1, testX.shape[1]))"
   ]
  },
  {
   "cell_type": "code",
   "execution_count": 13,
   "metadata": {},
   "outputs": [
    {
     "name": "stdout",
     "output_type": "stream",
     "text": [
      "Model: \"sequential\"\n",
      "_________________________________________________________________\n",
      " Layer (type)                Output Shape              Param #   \n",
      "=================================================================\n",
      " lstm (LSTM)                 (None, 4)                 96        \n",
      "                                                                 \n",
      " dense (Dense)               (None, 1)                 5         \n",
      "                                                                 \n",
      "=================================================================\n",
      "Total params: 101\n",
      "Trainable params: 101\n",
      "Non-trainable params: 0\n",
      "_________________________________________________________________\n"
     ]
    }
   ],
   "source": [
    "# Criando nossa rede recorrente com unidades de LSTM \n",
    "# formato keras sequencial\n",
    "model = Sequential()\n",
    "model.add(LSTM(units=4, input_shape=(1, janela_previsao))) \n",
    "model.add(Dense(1))\n",
    "\n",
    "# visualizar o modelo (arquitetura) que geramos\n",
    "model.summary()"
   ]
  },
  {
   "cell_type": "code",
   "execution_count": 14,
   "metadata": {},
   "outputs": [],
   "source": [
    "# parâmetros para otimizacao\n",
    "# medida a ser minimizada = Erro quadrático médio (Mean Squared Error)\n",
    "# Otimizador, algoritmo de treinamento = Adam\n",
    "# métricas para avaliar o modelo = MSE, RMSE, MAE\n",
    "model.compile(loss='mean_squared_error', \n",
    "              optimizer='adam', \n",
    "              metrics=[\"MeanSquaredError\", \"RootMeanSquaredError\", \"MeanAbsoluteError\"]\n",
    ")"
   ]
  },
  {
   "cell_type": "code",
   "execution_count": 15,
   "metadata": {},
   "outputs": [
    {
     "name": "stdout",
     "output_type": "stream",
     "text": [
      "Epoch 1/100\n",
      "4900/4900 - 11s - loss: 0.3208 - mean_squared_error: 0.3208 - root_mean_squared_error: 0.5664 - mean_absolute_error: 0.4846 - 11s/epoch - 2ms/step\n",
      "Epoch 2/100\n",
      "4900/4900 - 8s - loss: 0.2909 - mean_squared_error: 0.2909 - root_mean_squared_error: 0.5393 - mean_absolute_error: 0.4649 - 8s/epoch - 2ms/step\n",
      "Epoch 3/100\n",
      "4900/4900 - 8s - loss: 0.2877 - mean_squared_error: 0.2877 - root_mean_squared_error: 0.5364 - mean_absolute_error: 0.4640 - 8s/epoch - 2ms/step\n",
      "Epoch 4/100\n",
      "4900/4900 - 8s - loss: 0.2867 - mean_squared_error: 0.2867 - root_mean_squared_error: 0.5354 - mean_absolute_error: 0.4641 - 8s/epoch - 2ms/step\n",
      "Epoch 5/100\n",
      "4900/4900 - 9s - loss: 0.2867 - mean_squared_error: 0.2867 - root_mean_squared_error: 0.5354 - mean_absolute_error: 0.4640 - 9s/epoch - 2ms/step\n",
      "Epoch 6/100\n",
      "4900/4900 - 8s - loss: 0.2863 - mean_squared_error: 0.2863 - root_mean_squared_error: 0.5350 - mean_absolute_error: 0.4636 - 8s/epoch - 2ms/step\n",
      "Epoch 7/100\n",
      "4900/4900 - 8s - loss: 0.2859 - mean_squared_error: 0.2859 - root_mean_squared_error: 0.5347 - mean_absolute_error: 0.4635 - 8s/epoch - 2ms/step\n",
      "Epoch 8/100\n",
      "4900/4900 - 9s - loss: 0.2854 - mean_squared_error: 0.2854 - root_mean_squared_error: 0.5342 - mean_absolute_error: 0.4635 - 9s/epoch - 2ms/step\n",
      "Epoch 9/100\n",
      "4900/4900 - 9s - loss: 0.2853 - mean_squared_error: 0.2853 - root_mean_squared_error: 0.5341 - mean_absolute_error: 0.4636 - 9s/epoch - 2ms/step\n",
      "Epoch 10/100\n",
      "4900/4900 - 9s - loss: 0.2849 - mean_squared_error: 0.2849 - root_mean_squared_error: 0.5337 - mean_absolute_error: 0.4640 - 9s/epoch - 2ms/step\n",
      "Epoch 11/100\n",
      "4900/4900 - 10s - loss: 0.2845 - mean_squared_error: 0.2845 - root_mean_squared_error: 0.5334 - mean_absolute_error: 0.4626 - 10s/epoch - 2ms/step\n",
      "Epoch 12/100\n",
      "4900/4900 - 10s - loss: 0.2844 - mean_squared_error: 0.2844 - root_mean_squared_error: 0.5332 - mean_absolute_error: 0.4628 - 10s/epoch - 2ms/step\n",
      "Epoch 13/100\n",
      "4900/4900 - 9s - loss: 0.2840 - mean_squared_error: 0.2840 - root_mean_squared_error: 0.5329 - mean_absolute_error: 0.4633 - 9s/epoch - 2ms/step\n",
      "Epoch 14/100\n",
      "4900/4900 - 9s - loss: 0.2835 - mean_squared_error: 0.2835 - root_mean_squared_error: 0.5324 - mean_absolute_error: 0.4623 - 9s/epoch - 2ms/step\n",
      "Epoch 15/100\n",
      "4900/4900 - 10s - loss: 0.2831 - mean_squared_error: 0.2831 - root_mean_squared_error: 0.5321 - mean_absolute_error: 0.4619 - 10s/epoch - 2ms/step\n",
      "Epoch 16/100\n",
      "4900/4900 - 9s - loss: 0.2826 - mean_squared_error: 0.2826 - root_mean_squared_error: 0.5316 - mean_absolute_error: 0.4616 - 9s/epoch - 2ms/step\n",
      "Epoch 17/100\n",
      "4900/4900 - 8s - loss: 0.2821 - mean_squared_error: 0.2821 - root_mean_squared_error: 0.5312 - mean_absolute_error: 0.4616 - 8s/epoch - 2ms/step\n",
      "Epoch 18/100\n",
      "4900/4900 - 8s - loss: 0.2818 - mean_squared_error: 0.2818 - root_mean_squared_error: 0.5309 - mean_absolute_error: 0.4613 - 8s/epoch - 2ms/step\n",
      "Epoch 19/100\n",
      "4900/4900 - 8s - loss: 0.2817 - mean_squared_error: 0.2817 - root_mean_squared_error: 0.5307 - mean_absolute_error: 0.4611 - 8s/epoch - 2ms/step\n",
      "Epoch 20/100\n",
      "4900/4900 - 9s - loss: 0.2812 - mean_squared_error: 0.2812 - root_mean_squared_error: 0.5302 - mean_absolute_error: 0.4605 - 9s/epoch - 2ms/step\n",
      "Epoch 21/100\n",
      "4900/4900 - 10s - loss: 0.2807 - mean_squared_error: 0.2807 - root_mean_squared_error: 0.5299 - mean_absolute_error: 0.4605 - 10s/epoch - 2ms/step\n",
      "Epoch 22/100\n",
      "4900/4900 - 10s - loss: 0.2804 - mean_squared_error: 0.2804 - root_mean_squared_error: 0.5295 - mean_absolute_error: 0.4598 - 10s/epoch - 2ms/step\n",
      "Epoch 23/100\n",
      "4900/4900 - 10s - loss: 0.2798 - mean_squared_error: 0.2798 - root_mean_squared_error: 0.5289 - mean_absolute_error: 0.4596 - 10s/epoch - 2ms/step\n",
      "Epoch 24/100\n",
      "4900/4900 - 10s - loss: 0.2797 - mean_squared_error: 0.2797 - root_mean_squared_error: 0.5288 - mean_absolute_error: 0.4592 - 10s/epoch - 2ms/step\n",
      "Epoch 25/100\n",
      "4900/4900 - 11s - loss: 0.2791 - mean_squared_error: 0.2791 - root_mean_squared_error: 0.5283 - mean_absolute_error: 0.4587 - 11s/epoch - 2ms/step\n",
      "Epoch 26/100\n",
      "4900/4900 - 11s - loss: 0.2787 - mean_squared_error: 0.2787 - root_mean_squared_error: 0.5280 - mean_absolute_error: 0.4586 - 11s/epoch - 2ms/step\n",
      "Epoch 27/100\n",
      "4900/4900 - 10s - loss: 0.2780 - mean_squared_error: 0.2780 - root_mean_squared_error: 0.5272 - mean_absolute_error: 0.4572 - 10s/epoch - 2ms/step\n",
      "Epoch 28/100\n",
      "4900/4900 - 9s - loss: 0.2777 - mean_squared_error: 0.2777 - root_mean_squared_error: 0.5270 - mean_absolute_error: 0.4584 - 9s/epoch - 2ms/step\n",
      "Epoch 29/100\n",
      "4900/4900 - 11s - loss: 0.2777 - mean_squared_error: 0.2777 - root_mean_squared_error: 0.5270 - mean_absolute_error: 0.4574 - 11s/epoch - 2ms/step\n",
      "Epoch 30/100\n",
      "4900/4900 - 10s - loss: 0.2772 - mean_squared_error: 0.2772 - root_mean_squared_error: 0.5265 - mean_absolute_error: 0.4571 - 10s/epoch - 2ms/step\n",
      "Epoch 31/100\n",
      "4900/4900 - 10s - loss: 0.2768 - mean_squared_error: 0.2768 - root_mean_squared_error: 0.5262 - mean_absolute_error: 0.4566 - 10s/epoch - 2ms/step\n",
      "Epoch 32/100\n",
      "4900/4900 - 10s - loss: 0.2767 - mean_squared_error: 0.2767 - root_mean_squared_error: 0.5261 - mean_absolute_error: 0.4560 - 10s/epoch - 2ms/step\n",
      "Epoch 33/100\n",
      "4900/4900 - 10s - loss: 0.2764 - mean_squared_error: 0.2764 - root_mean_squared_error: 0.5257 - mean_absolute_error: 0.4565 - 10s/epoch - 2ms/step\n",
      "Epoch 34/100\n",
      "4900/4900 - 10s - loss: 0.2761 - mean_squared_error: 0.2761 - root_mean_squared_error: 0.5254 - mean_absolute_error: 0.4557 - 10s/epoch - 2ms/step\n",
      "Epoch 35/100\n",
      "4900/4900 - 10s - loss: 0.2755 - mean_squared_error: 0.2755 - root_mean_squared_error: 0.5249 - mean_absolute_error: 0.4553 - 10s/epoch - 2ms/step\n",
      "Epoch 36/100\n",
      "4900/4900 - 10s - loss: 0.2751 - mean_squared_error: 0.2751 - root_mean_squared_error: 0.5245 - mean_absolute_error: 0.4541 - 10s/epoch - 2ms/step\n",
      "Epoch 37/100\n",
      "4900/4900 - 9s - loss: 0.2749 - mean_squared_error: 0.2749 - root_mean_squared_error: 0.5243 - mean_absolute_error: 0.4544 - 9s/epoch - 2ms/step\n",
      "Epoch 38/100\n",
      "4900/4900 - 9s - loss: 0.2750 - mean_squared_error: 0.2750 - root_mean_squared_error: 0.5244 - mean_absolute_error: 0.4552 - 9s/epoch - 2ms/step\n",
      "Epoch 39/100\n",
      "4900/4900 - 9s - loss: 0.2748 - mean_squared_error: 0.2748 - root_mean_squared_error: 0.5242 - mean_absolute_error: 0.4542 - 9s/epoch - 2ms/step\n",
      "Epoch 40/100\n",
      "4900/4900 - 9s - loss: 0.2747 - mean_squared_error: 0.2747 - root_mean_squared_error: 0.5241 - mean_absolute_error: 0.4541 - 9s/epoch - 2ms/step\n",
      "Epoch 41/100\n",
      "4900/4900 - 8s - loss: 0.2746 - mean_squared_error: 0.2746 - root_mean_squared_error: 0.5240 - mean_absolute_error: 0.4542 - 8s/epoch - 2ms/step\n",
      "Epoch 42/100\n",
      "4900/4900 - 8s - loss: 0.2744 - mean_squared_error: 0.2744 - root_mean_squared_error: 0.5238 - mean_absolute_error: 0.4534 - 8s/epoch - 2ms/step\n",
      "Epoch 43/100\n",
      "4900/4900 - 8s - loss: 0.2744 - mean_squared_error: 0.2744 - root_mean_squared_error: 0.5238 - mean_absolute_error: 0.4537 - 8s/epoch - 2ms/step\n",
      "Epoch 44/100\n",
      "4900/4900 - 8s - loss: 0.2742 - mean_squared_error: 0.2742 - root_mean_squared_error: 0.5236 - mean_absolute_error: 0.4535 - 8s/epoch - 2ms/step\n",
      "Epoch 45/100\n",
      "4900/4900 - 8s - loss: 0.2743 - mean_squared_error: 0.2743 - root_mean_squared_error: 0.5237 - mean_absolute_error: 0.4533 - 8s/epoch - 2ms/step\n",
      "Epoch 46/100\n",
      "4900/4900 - 8s - loss: 0.2740 - mean_squared_error: 0.2740 - root_mean_squared_error: 0.5234 - mean_absolute_error: 0.4531 - 8s/epoch - 2ms/step\n",
      "Epoch 47/100\n",
      "4900/4900 - 8s - loss: 0.2738 - mean_squared_error: 0.2738 - root_mean_squared_error: 0.5232 - mean_absolute_error: 0.4523 - 8s/epoch - 2ms/step\n",
      "Epoch 48/100\n",
      "4900/4900 - 8s - loss: 0.2738 - mean_squared_error: 0.2738 - root_mean_squared_error: 0.5232 - mean_absolute_error: 0.4532 - 8s/epoch - 2ms/step\n",
      "Epoch 49/100\n",
      "4900/4900 - 8s - loss: 0.2733 - mean_squared_error: 0.2733 - root_mean_squared_error: 0.5228 - mean_absolute_error: 0.4522 - 8s/epoch - 2ms/step\n",
      "Epoch 50/100\n",
      "4900/4900 - 8s - loss: 0.2737 - mean_squared_error: 0.2737 - root_mean_squared_error: 0.5232 - mean_absolute_error: 0.4523 - 8s/epoch - 2ms/step\n",
      "Epoch 51/100\n",
      "4900/4900 - 8s - loss: 0.2737 - mean_squared_error: 0.2737 - root_mean_squared_error: 0.5232 - mean_absolute_error: 0.4529 - 8s/epoch - 2ms/step\n",
      "Epoch 52/100\n",
      "4900/4900 - 8s - loss: 0.2737 - mean_squared_error: 0.2737 - root_mean_squared_error: 0.5232 - mean_absolute_error: 0.4529 - 8s/epoch - 2ms/step\n",
      "Epoch 53/100\n",
      "4900/4900 - 8s - loss: 0.2739 - mean_squared_error: 0.2739 - root_mean_squared_error: 0.5234 - mean_absolute_error: 0.4521 - 8s/epoch - 2ms/step\n",
      "Epoch 54/100\n",
      "4900/4900 - 8s - loss: 0.2735 - mean_squared_error: 0.2735 - root_mean_squared_error: 0.5230 - mean_absolute_error: 0.4519 - 8s/epoch - 2ms/step\n",
      "Epoch 55/100\n",
      "4900/4900 - 8s - loss: 0.2737 - mean_squared_error: 0.2737 - root_mean_squared_error: 0.5231 - mean_absolute_error: 0.4520 - 8s/epoch - 2ms/step\n",
      "Epoch 56/100\n",
      "4900/4900 - 8s - loss: 0.2738 - mean_squared_error: 0.2738 - root_mean_squared_error: 0.5233 - mean_absolute_error: 0.4526 - 8s/epoch - 2ms/step\n",
      "Epoch 57/100\n",
      "4900/4900 - 8s - loss: 0.2734 - mean_squared_error: 0.2734 - root_mean_squared_error: 0.5228 - mean_absolute_error: 0.4517 - 8s/epoch - 2ms/step\n",
      "Epoch 58/100\n",
      "4900/4900 - 8s - loss: 0.2733 - mean_squared_error: 0.2733 - root_mean_squared_error: 0.5228 - mean_absolute_error: 0.4518 - 8s/epoch - 2ms/step\n",
      "Epoch 59/100\n",
      "4900/4900 - 8s - loss: 0.2733 - mean_squared_error: 0.2733 - root_mean_squared_error: 0.5227 - mean_absolute_error: 0.4519 - 8s/epoch - 2ms/step\n",
      "Epoch 60/100\n",
      "4900/4900 - 8s - loss: 0.2733 - mean_squared_error: 0.2733 - root_mean_squared_error: 0.5228 - mean_absolute_error: 0.4513 - 8s/epoch - 2ms/step\n",
      "Epoch 61/100\n",
      "4900/4900 - 8s - loss: 0.2735 - mean_squared_error: 0.2735 - root_mean_squared_error: 0.5230 - mean_absolute_error: 0.4519 - 8s/epoch - 2ms/step\n",
      "Epoch 62/100\n",
      "4900/4900 - 8s - loss: 0.2732 - mean_squared_error: 0.2732 - root_mean_squared_error: 0.5227 - mean_absolute_error: 0.4518 - 8s/epoch - 2ms/step\n",
      "Epoch 63/100\n",
      "4900/4900 - 8s - loss: 0.2733 - mean_squared_error: 0.2733 - root_mean_squared_error: 0.5228 - mean_absolute_error: 0.4516 - 8s/epoch - 2ms/step\n",
      "Epoch 64/100\n",
      "4900/4900 - 8s - loss: 0.2733 - mean_squared_error: 0.2733 - root_mean_squared_error: 0.5228 - mean_absolute_error: 0.4517 - 8s/epoch - 2ms/step\n",
      "Epoch 65/100\n",
      "4900/4900 - 8s - loss: 0.2733 - mean_squared_error: 0.2733 - root_mean_squared_error: 0.5228 - mean_absolute_error: 0.4513 - 8s/epoch - 2ms/step\n",
      "Epoch 66/100\n",
      "4900/4900 - 8s - loss: 0.2734 - mean_squared_error: 0.2734 - root_mean_squared_error: 0.5229 - mean_absolute_error: 0.4517 - 8s/epoch - 2ms/step\n",
      "Epoch 67/100\n",
      "4900/4900 - 8s - loss: 0.2729 - mean_squared_error: 0.2729 - root_mean_squared_error: 0.5224 - mean_absolute_error: 0.4499 - 8s/epoch - 2ms/step\n",
      "Epoch 68/100\n",
      "4900/4900 - 8s - loss: 0.2733 - mean_squared_error: 0.2733 - root_mean_squared_error: 0.5228 - mean_absolute_error: 0.4515 - 8s/epoch - 2ms/step\n",
      "Epoch 69/100\n",
      "4900/4900 - 8s - loss: 0.2734 - mean_squared_error: 0.2734 - root_mean_squared_error: 0.5229 - mean_absolute_error: 0.4514 - 8s/epoch - 2ms/step\n",
      "Epoch 70/100\n",
      "4900/4900 - 8s - loss: 0.2733 - mean_squared_error: 0.2733 - root_mean_squared_error: 0.5228 - mean_absolute_error: 0.4512 - 8s/epoch - 2ms/step\n",
      "Epoch 71/100\n",
      "4900/4900 - 8s - loss: 0.2732 - mean_squared_error: 0.2732 - root_mean_squared_error: 0.5226 - mean_absolute_error: 0.4515 - 8s/epoch - 2ms/step\n",
      "Epoch 72/100\n",
      "4900/4900 - 8s - loss: 0.2733 - mean_squared_error: 0.2733 - root_mean_squared_error: 0.5228 - mean_absolute_error: 0.4508 - 8s/epoch - 2ms/step\n",
      "Epoch 73/100\n",
      "4900/4900 - 8s - loss: 0.2730 - mean_squared_error: 0.2730 - root_mean_squared_error: 0.5225 - mean_absolute_error: 0.4505 - 8s/epoch - 2ms/step\n",
      "Epoch 74/100\n",
      "4900/4900 - 9s - loss: 0.2731 - mean_squared_error: 0.2731 - root_mean_squared_error: 0.5226 - mean_absolute_error: 0.4508 - 9s/epoch - 2ms/step\n",
      "Epoch 75/100\n",
      "4900/4900 - 9s - loss: 0.2729 - mean_squared_error: 0.2729 - root_mean_squared_error: 0.5224 - mean_absolute_error: 0.4507 - 9s/epoch - 2ms/step\n",
      "Epoch 76/100\n",
      "4900/4900 - 9s - loss: 0.2731 - mean_squared_error: 0.2731 - root_mean_squared_error: 0.5226 - mean_absolute_error: 0.4511 - 9s/epoch - 2ms/step\n",
      "Epoch 77/100\n",
      "4900/4900 - 9s - loss: 0.2732 - mean_squared_error: 0.2732 - root_mean_squared_error: 0.5227 - mean_absolute_error: 0.4507 - 9s/epoch - 2ms/step\n",
      "Epoch 78/100\n",
      "4900/4900 - 9s - loss: 0.2725 - mean_squared_error: 0.2725 - root_mean_squared_error: 0.5220 - mean_absolute_error: 0.4501 - 9s/epoch - 2ms/step\n",
      "Epoch 79/100\n",
      "4900/4900 - 9s - loss: 0.2732 - mean_squared_error: 0.2732 - root_mean_squared_error: 0.5227 - mean_absolute_error: 0.4505 - 9s/epoch - 2ms/step\n",
      "Epoch 80/100\n",
      "4900/4900 - 8s - loss: 0.2730 - mean_squared_error: 0.2730 - root_mean_squared_error: 0.5225 - mean_absolute_error: 0.4505 - 8s/epoch - 2ms/step\n",
      "Epoch 81/100\n",
      "4900/4900 - 8s - loss: 0.2733 - mean_squared_error: 0.2733 - root_mean_squared_error: 0.5228 - mean_absolute_error: 0.4516 - 8s/epoch - 2ms/step\n",
      "Epoch 82/100\n",
      "4900/4900 - 8s - loss: 0.2728 - mean_squared_error: 0.2728 - root_mean_squared_error: 0.5223 - mean_absolute_error: 0.4507 - 8s/epoch - 2ms/step\n",
      "Epoch 83/100\n",
      "4900/4900 - 8s - loss: 0.2729 - mean_squared_error: 0.2729 - root_mean_squared_error: 0.5224 - mean_absolute_error: 0.4500 - 8s/epoch - 2ms/step\n",
      "Epoch 84/100\n",
      "4900/4900 - 8s - loss: 0.2732 - mean_squared_error: 0.2732 - root_mean_squared_error: 0.5226 - mean_absolute_error: 0.4504 - 8s/epoch - 2ms/step\n",
      "Epoch 85/100\n",
      "4900/4900 - 8s - loss: 0.2730 - mean_squared_error: 0.2730 - root_mean_squared_error: 0.5225 - mean_absolute_error: 0.4510 - 8s/epoch - 2ms/step\n",
      "Epoch 86/100\n",
      "4900/4900 - 8s - loss: 0.2730 - mean_squared_error: 0.2730 - root_mean_squared_error: 0.5225 - mean_absolute_error: 0.4502 - 8s/epoch - 2ms/step\n",
      "Epoch 87/100\n",
      "4900/4900 - 8s - loss: 0.2730 - mean_squared_error: 0.2730 - root_mean_squared_error: 0.5225 - mean_absolute_error: 0.4505 - 8s/epoch - 2ms/step\n",
      "Epoch 88/100\n",
      "4900/4900 - 8s - loss: 0.2732 - mean_squared_error: 0.2732 - root_mean_squared_error: 0.5227 - mean_absolute_error: 0.4512 - 8s/epoch - 2ms/step\n",
      "Epoch 89/100\n",
      "4900/4900 - 8s - loss: 0.2732 - mean_squared_error: 0.2732 - root_mean_squared_error: 0.5227 - mean_absolute_error: 0.4509 - 8s/epoch - 2ms/step\n",
      "Epoch 90/100\n",
      "4900/4900 - 8s - loss: 0.2731 - mean_squared_error: 0.2731 - root_mean_squared_error: 0.5226 - mean_absolute_error: 0.4509 - 8s/epoch - 2ms/step\n",
      "Epoch 91/100\n",
      "4900/4900 - 8s - loss: 0.2731 - mean_squared_error: 0.2731 - root_mean_squared_error: 0.5226 - mean_absolute_error: 0.4505 - 8s/epoch - 2ms/step\n",
      "Epoch 92/100\n",
      "4900/4900 - 8s - loss: 0.2726 - mean_squared_error: 0.2726 - root_mean_squared_error: 0.5221 - mean_absolute_error: 0.4508 - 8s/epoch - 2ms/step\n",
      "Epoch 93/100\n",
      "4900/4900 - 8s - loss: 0.2732 - mean_squared_error: 0.2732 - root_mean_squared_error: 0.5226 - mean_absolute_error: 0.4502 - 8s/epoch - 2ms/step\n",
      "Epoch 94/100\n",
      "4900/4900 - 8s - loss: 0.2731 - mean_squared_error: 0.2731 - root_mean_squared_error: 0.5226 - mean_absolute_error: 0.4505 - 8s/epoch - 2ms/step\n",
      "Epoch 95/100\n",
      "4900/4900 - 8s - loss: 0.2731 - mean_squared_error: 0.2731 - root_mean_squared_error: 0.5226 - mean_absolute_error: 0.4504 - 8s/epoch - 2ms/step\n",
      "Epoch 96/100\n",
      "4900/4900 - 8s - loss: 0.2729 - mean_squared_error: 0.2729 - root_mean_squared_error: 0.5224 - mean_absolute_error: 0.4502 - 8s/epoch - 2ms/step\n",
      "Epoch 97/100\n",
      "4900/4900 - 8s - loss: 0.2731 - mean_squared_error: 0.2731 - root_mean_squared_error: 0.5225 - mean_absolute_error: 0.4503 - 8s/epoch - 2ms/step\n",
      "Epoch 98/100\n",
      "4900/4900 - 8s - loss: 0.2731 - mean_squared_error: 0.2731 - root_mean_squared_error: 0.5226 - mean_absolute_error: 0.4509 - 8s/epoch - 2ms/step\n",
      "Epoch 99/100\n",
      "4900/4900 - 8s - loss: 0.2729 - mean_squared_error: 0.2729 - root_mean_squared_error: 0.5224 - mean_absolute_error: 0.4504 - 8s/epoch - 2ms/step\n",
      "Epoch 100/100\n",
      "4900/4900 - 8s - loss: 0.2734 - mean_squared_error: 0.2734 - root_mean_squared_error: 0.5228 - mean_absolute_error: 0.4507 - 8s/epoch - 2ms/step\n"
     ]
    }
   ],
   "source": [
    "# Treinando nossa rede\n",
    "# epocas = 100\n",
    "# batch_size = 1, treinar amostra por amostra\n",
    "history = model.fit(trainX, trainY, epochs=100, batch_size=1, verbose=2)"
   ]
  },
  {
   "cell_type": "code",
   "execution_count": 16,
   "metadata": {},
   "outputs": [
    {
     "data": {
      "image/png": "[encoded data removed]",
      "text/plain": [
       "<Figure size 432x288 with 1 Axes>"
      ]
     },
     "metadata": {
      "needs_background": "light"
     },
     "output_type": "display_data"
    }
   ],
   "source": [
    "plt.plot(history.history['mean_squared_error'])\n",
    "plt.plot(history.history['root_mean_squared_error'])\n",
    "plt.plot(history.history['mean_absolute_error'])\n",
    "plt.xlabel('epoch')\n",
    "plt.legend(['MSE', 'RMSE', 'MAE'], loc='upper right')\n",
    "plt.show()"
   ]
  },
  {
   "cell_type": "code",
   "execution_count": 17,
   "metadata": {},
   "outputs": [
    {
     "name": "stdout",
     "output_type": "stream",
     "text": [
      "154/154 [==============================] - 1s 1ms/step\n",
      "39/39 [==============================] - 0s 1ms/step\n"
     ]
    }
   ],
   "source": [
    "# Realizando as predições nos conjuntos de treino/teste\n",
    "\n",
    "# predição no conjunto de trienamento\n",
    "trainPredict = model.predict(trainX)\n",
    "\n",
    "# predição no conjunto de teste\n",
    "testPredict  = model.predict(testX)"
   ]
  },
  {
   "cell_type": "code",
   "execution_count": 18,
   "metadata": {},
   "outputs": [],
   "source": [
    "# Aplicando a inversa da escala para retornar ao valor original\n",
    "# training set\n",
    "trainPredict = scaler.inverse_transform(trainPredict)\n",
    "trainY = scaler.inverse_transform([trainY])\n",
    "\n",
    "# testing set\n",
    "testPredict = scaler.inverse_transform(testPredict)\n",
    "testY = scaler.inverse_transform([testY])"
   ]
  },
  {
   "cell_type": "code",
   "execution_count": 19,
   "metadata": {},
   "outputs": [
    {
     "name": "stdout",
     "output_type": "stream",
     "text": [
      "Treino: 9.65 RMSE\n",
      "Teste Score: 9.93 RMSE\n"
     ]
    }
   ],
   "source": [
    "# Calculando RMSE no treino e teste\n",
    "trainScore = math.sqrt(mean_squared_error(trainY[0], trainPredict[:,0]))\n",
    "print('Treino: %.2f RMSE' % (trainScore))\n",
    "testScore = math.sqrt(mean_squared_error(testY[0], testPredict[:,0]))\n",
    "print('Teste Score: %.2f RMSE' % (testScore))"
   ]
  },
  {
   "cell_type": "code",
   "execution_count": 20,
   "metadata": {},
   "outputs": [],
   "source": [
    "# Ajustando o plot do treino\n",
    "trainPredictPlot = np.empty_like(dataset)\n",
    "trainPredictPlot[:, :] = np.nan\n",
    "trainPredictPlot[janela_previsao:len(trainPredict)+janela_previsao, :] = trainPredict"
   ]
  },
  {
   "cell_type": "code",
   "execution_count": 21,
   "metadata": {},
   "outputs": [],
   "source": [
    "# Ajustando o plot do teste\n",
    "testPredictPlot = np.empty_like(dataset)\n",
    "testPredictPlot[:, :] = np.nan\n",
    "testPredictPlot[len(trainPredict)+(janela_previsao*2)+1:len(dataset)-1, :] = testPredict"
   ]
  },
  {
   "cell_type": "code",
   "execution_count": 22,
   "metadata": {},
   "outputs": [
    {
     "data": {
      "image/png": "[encoded data removed]",
      "text/plain": [
       "<Figure size 432x288 with 1 Axes>"
      ]
     },
     "metadata": {
      "needs_background": "light"
     },
     "output_type": "display_data"
    }
   ],
   "source": [
    "# Ajustando o plot com o sinal original\n",
    "# - verde   = dataset original\n",
    "# - azul    = predicoes geradas no conjunto de treinamento\n",
    "# - laranja = predicoes geradas no conjunto de teste\n",
    "\n",
    "plt.plot(trainPredictPlot[:100], linestyle=\"--\")\n",
    "plt.plot(testPredictPlot[:100], linestyle=\"--\")\n",
    "plt.plot(scaler.inverse_transform(dataset)[:100])\n",
    "plt.xlabel('instances')\n",
    "plt.legend(['train', 'test', 'original'], loc='upper left')\n",
    "plt.show()"
   ]
  }
 ],
 "metadata": {
  "interpreter": {
   "hash": "11bbcf57d79407485a8d65c6cc737ca9d49c6f1d1b34c1ae2a5e6f49b42ea89b"
  },
  "kernelspec": {
   "display_name": "Python 3.7.7 64-bit",
   "language": "python",
   "name": "python3"
  },
  "language_info": {
   "codemirror_mode": {
    "name": "ipython",
    "version": 3
   },
   "file_extension": ".py",
   "mimetype": "text/x-python",
   "name": "python",
   "nbconvert_exporter": "python",
   "pygments_lexer": "ipython3",
   "version": "3.7.7"
  },
  "orig_nbformat": 4
 },
 "nbformat": 4,
 "nbformat_minor": 2
}

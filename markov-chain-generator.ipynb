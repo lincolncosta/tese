{
 "cells": [
  {
   "cell_type": "code",
   "execution_count": 2,
   "metadata": {},
   "outputs": [],
   "source": [
    "import pandas as pd"
   ]
  },
  {
   "cell_type": "code",
   "execution_count": 3,
   "metadata": {},
   "outputs": [],
   "source": [
    "df = pd.read_csv('data/clean-one-line.csv')"
   ]
  },
  {
   "cell_type": "code",
   "execution_count": 4,
   "metadata": {},
   "outputs": [],
   "source": [
    "cols = ['event1','event2','event3','event4','event5','event6','event7','event8','event9','event10','event11','event12','event13','event14','event15','event16','event17','event18','event19','event20','event21','event22','event23','event24','event25','event26','event27','event28','event29','event30','event31','event32','event33','event34','event35'] \n",
    "count_df = df[cols].melt().groupby('value').size().reset_index(name='count')"
   ]
  },
  {
   "cell_type": "code",
   "execution_count": 16,
   "metadata": {},
   "outputs": [
    {
     "name": "stdout",
     "output_type": "stream",
     "text": [
      "[\n",
      "0.0,\n",
      "0.0,\n",
      "0.0,\n",
      "0.01,\n",
      "0.0,\n",
      "0.0,\n",
      "0.0,\n",
      "0.0,\n",
      "0.0,\n",
      "0.0,\n",
      "0.0,\n",
      "0.0,\n",
      "0.0,\n",
      "0.0,\n",
      "0.0,\n",
      "0.01,\n",
      "0.02,\n",
      "0.01,\n",
      "0.0,\n",
      "0.0,\n",
      "0.02,\n",
      "0.0,\n",
      "0.0,\n",
      "0.0,\n",
      "0.0,\n",
      "0.0,\n",
      "0.0,\n",
      "0.0,\n",
      "0.01,\n",
      "0.01,\n",
      "0.0,\n",
      "0.0,\n",
      "0.01,\n",
      "0.01,\n",
      "0.01,\n",
      "0.01,\n",
      "0.44,\n",
      "0.44,\n",
      "]\n",
      "1.01\n"
     ]
    }
   ],
   "source": [
    "total_prob = 0\n",
    "\n",
    "SIDE_FROM = 'RED'\n",
    "FROM = 'nexus_tower'\n",
    "SIDE_TO = ['BLUE', 'RED']\n",
    "TO = ['first_blood', 'dragon', 'herald', 'first_tower_top', 'first_tower_mid', 'first_tower_bot', 'second_tower_top', 'second_tower_mid', 'second_tower_bot', 'third_tower_top', 'third_tower_mid', 'third_tower_bot', 'inhibitor_top', 'inhibitor_mid', 'inhibitor_bot', 'baron', 'elder_dragon', 'nexus_tower', 'nexus']\n",
    "\n",
    "print('[')\n",
    "for side in SIDE_TO:\n",
    "    for event in TO:\n",
    "        count = 0\n",
    "        total = 0\n",
    "        for index, row in df.iterrows():\n",
    "            list_row = row.to_list()\n",
    "            for index, value in enumerate(list_row):\n",
    "                if value == SIDE_FROM + ': ' + FROM:\n",
    "                    total += 1\n",
    "                    next_event = str(list_row[index+1])\n",
    "                    if next_event == side + ': ' + event:\n",
    "                        count += 1\n",
    "        print(str(round(count/total, 2)) + ',')\n",
    "        total_prob += round(count/total, 2)\n",
    "print(']')\n",
    "print(total_prob)"
   ]
  }
 ],
 "metadata": {
  "interpreter": {
   "hash": "11bbcf57d79407485a8d65c6cc737ca9d49c6f1d1b34c1ae2a5e6f49b42ea89b"
  },
  "kernelspec": {
   "display_name": "Python 3.7.7 64-bit",
   "language": "python",
   "name": "python3"
  },
  "language_info": {
   "codemirror_mode": {
    "name": "ipython",
    "version": 3
   },
   "file_extension": ".py",
   "mimetype": "text/x-python",
   "name": "python",
   "nbconvert_exporter": "python",
   "pygments_lexer": "ipython3",
   "version": "3.7.7"
  },
  "orig_nbformat": 4
 },
 "nbformat": 4,
 "nbformat_minor": 2
}

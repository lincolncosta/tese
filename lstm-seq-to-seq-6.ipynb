{
 "cells": [
  {
   "cell_type": "code",
   "execution_count": 191,
   "metadata": {},
   "outputs": [],
   "source": [
    "import numpy as np\n",
    "import pandas as pd\n",
    "from numpy import array\n",
    "from numpy import argmax\n",
    "from numpy import array_equal\n",
    "from keras.utils import to_categorical\n",
    "from keras.models import Model\n",
    "from keras.layers import Input\n",
    "from keras.layers import LSTM\n",
    "from keras.layers import Dense\n",
    "from sklearn.model_selection import train_test_split"
   ]
  },
  {
   "cell_type": "code",
   "execution_count": 192,
   "metadata": {},
   "outputs": [],
   "source": [
    "events_dict = {\n",
    "    'BLUE: first_blood': 0,\n",
    "    'BLUE: dragon': 1,\n",
    "    'BLUE: herald': 2,\n",
    "    'BLUE: first_tower_top': 3,\n",
    "    'BLUE: first_tower_mid': 4,\n",
    "    'BLUE: first_tower_bot': 5,\n",
    "    'BLUE: second_tower_top': 6,\n",
    "    'BLUE: second_tower_mid': 7,\n",
    "    'BLUE: second_tower_bot': 8,\n",
    "    'BLUE: third_tower_top': 9,\n",
    "    'BLUE: third_tower_mid': 10,\n",
    "    'BLUE: third_tower_bot': 11,\n",
    "    'BLUE: inhibitor_top': 12,\n",
    "    'BLUE: inhibitor_mid': 13,\n",
    "    'BLUE: inhibitor_bot': 14,\n",
    "    'BLUE: baron': 15,\n",
    "    'BLUE: elder_dragon': 16,\n",
    "    'BLUE: nexus_tower': 17,\n",
    "    'BLUE: nexus': 18,\n",
    "    'RED: first_blood': 19,\n",
    "    'RED: dragon': 20,\n",
    "    'RED: herald': 21,\n",
    "    'RED: first_tower_top': 22,\n",
    "    'RED: first_tower_mid': 23,\n",
    "    'RED: first_tower_bot': 24,\n",
    "    'RED: second_tower_top': 25,\n",
    "    'RED: second_tower_mid': 26,\n",
    "    'RED: second_tower_bot': 27,\n",
    "    'RED: third_tower_top': 28,\n",
    "    'RED: third_tower_mid': 29,\n",
    "    'RED: third_tower_bot': 30,\n",
    "    'RED: inhibitor_top': 31,\n",
    "    'RED: inhibitor_mid': 32,\n",
    "    'RED: inhibitor_bot': 33,\n",
    "    'RED: baron': 34,\n",
    "    'RED: elder_dragon': 35,\n",
    "    'RED: nexus_tower': 36,\n",
    "    'RED: nexus': 37\n",
    "}\n",
    "\n",
    "df = pd.read_csv('data/clean-one-line.csv')\n",
    "df = df.drop('golId', axis=1)\n",
    "data = df.values.tolist()\n",
    "\n",
    "for game in data:\n",
    "    for i, s in enumerate(game):\n",
    "        if s in events_dict:\n",
    "            game[i] = events_dict.get(s)\n",
    "\n",
    "labelsArray = []\n",
    "\n",
    "for game in data:\n",
    "    labelsArray += game\n",
    "\n",
    "sequence = [b for b in labelsArray if not(isinstance(b, float))]\n",
    "n_in = 6"
   ]
  },
  {
   "cell_type": "code",
   "execution_count": 193,
   "metadata": {},
   "outputs": [],
   "source": [
    "x_validate = [19, 1, 2, 1, 24, 2, 20, 3]"
   ]
  },
  {
   "cell_type": "code",
   "execution_count": 194,
   "metadata": {},
   "outputs": [],
   "source": [
    "def splitSequence(sequence, n_steps_in, n_steps_out=2):\n",
    "\tX, y = [], []\n",
    "\tfor i in range(len(sequence)):\n",
    "\t\t# find the end of this pattern\n",
    "\t\tend_ix = i + n_steps_in\n",
    "\t\tout_end_ix = end_ix + n_steps_out\n",
    "\t\t# check if we are beyond the sequence\n",
    "\t\tif out_end_ix > len(sequence):\n",
    "\t\t\tbreak\n",
    "\t\t# gather input and output parts of the pattern\n",
    "\t\tseq_x, seq_y = sequence[i:end_ix], sequence[end_ix:out_end_ix]\n",
    "\t\tX.append(seq_x)\n",
    "\t\ty.append(seq_y)\n",
    "\treturn X, y"
   ]
  },
  {
   "cell_type": "code",
   "execution_count": 195,
   "metadata": {},
   "outputs": [
    {
     "data": {
      "text/plain": [
       "27677"
      ]
     },
     "execution_count": 195,
     "metadata": {},
     "output_type": "execute_result"
    }
   ],
   "source": [
    "x_train, x_test = train_test_split(sequence,test_size=0.15,random_state=42,shuffle=False)\n",
    "len(x_train)"
   ]
  },
  {
   "cell_type": "code",
   "execution_count": 196,
   "metadata": {},
   "outputs": [
    {
     "name": "stdout",
     "output_type": "stream",
     "text": [
      "[[19, 1, 2, 1, 3, 24], [1, 2, 1, 3, 24, 2], [2, 1, 3, 24, 2, 23], [1, 3, 24, 2, 23, 6], [3, 24, 2, 23, 6, 1]]\n"
     ]
    },
    {
     "data": {
      "text/plain": [
       "[[2, 23], [23, 6], [6, 1], [1, 5], [5, 22]]"
      ]
     },
     "execution_count": 196,
     "metadata": {},
     "output_type": "execute_result"
    }
   ],
   "source": [
    "train, y_train = splitSequence(x_train, n_in)\n",
    "print(train[:5])\n",
    "y_train[:5]"
   ]
  },
  {
   "cell_type": "code",
   "execution_count": 197,
   "metadata": {},
   "outputs": [],
   "source": [
    "test, y_test = splitSequence(x_test, n_in)"
   ]
  },
  {
   "cell_type": "code",
   "execution_count": 198,
   "metadata": {},
   "outputs": [
    {
     "name": "stdout",
     "output_type": "stream",
     "text": [
      "(27670, 6, 39) (27670, 2, 39) (27670, 2, 39)\n",
      "Epoch 1/10\n",
      "865/865 [==============================] - 10s 7ms/step - loss: 0.0216 - accuracy: 0.2697 - mse: 0.0216 - mae: 0.0436 - mape: 21806108.0000\n",
      "Epoch 2/10\n",
      "865/865 [==============================] - 6s 7ms/step - loss: 0.0193 - accuracy: 0.3822 - mse: 0.0193 - mae: 0.0389 - mape: 19455876.0000\n",
      "Epoch 3/10\n",
      "865/865 [==============================] - 7s 8ms/step - loss: 0.0187 - accuracy: 0.4036 - mse: 0.0187 - mae: 0.0376 - mape: 18821386.0000\n",
      "Epoch 4/10\n",
      "865/865 [==============================] - 9s 10ms/step - loss: 0.0185 - accuracy: 0.4147 - mse: 0.0185 - mae: 0.0372 - mape: 18575138.0000\n",
      "Epoch 5/10\n",
      "865/865 [==============================] - 7s 8ms/step - loss: 0.0183 - accuracy: 0.4207 - mse: 0.0183 - mae: 0.0367 - mape: 18373064.0000\n",
      "Epoch 6/10\n",
      "865/865 [==============================] - 7s 8ms/step - loss: 0.0181 - accuracy: 0.4257 - mse: 0.0181 - mae: 0.0365 - mape: 18227856.0000\n",
      "Epoch 7/10\n",
      "865/865 [==============================] - 7s 8ms/step - loss: 0.0180 - accuracy: 0.4302 - mse: 0.0180 - mae: 0.0362 - mape: 18082642.0000\n",
      "Epoch 8/10\n",
      "865/865 [==============================] - 9s 10ms/step - loss: 0.0179 - accuracy: 0.4381 - mse: 0.0179 - mae: 0.0359 - mape: 17932794.0000\n",
      "Epoch 9/10\n",
      "865/865 [==============================] - 8s 9ms/step - loss: 0.0177 - accuracy: 0.4434 - mse: 0.0177 - mae: 0.0356 - mape: 17793138.0000\n",
      "Epoch 10/10\n",
      "865/865 [==============================] - 11s 12ms/step - loss: 0.0176 - accuracy: 0.4480 - mse: 0.0176 - mae: 0.0353 - mape: 17644232.0000\n"
     ]
    },
    {
     "data": {
      "text/plain": [
       "<keras.callbacks.History at 0x1e62533a408>"
      ]
     },
     "execution_count": 198,
     "metadata": {},
     "output_type": "execute_result"
    }
   ],
   "source": [
    "# source: https://machinelearningmastery.com/develop-encoder-decoder-model-sequence-sequence-prediction-keras/\n",
    "\n",
    "# prepare data for the LSTM\n",
    "def get_dataset(n_in, n_out, cardinality, data):\n",
    "        X1, X2, y = list(), list(), list()\n",
    "        data, y_data = splitSequence(data, n_in)\n",
    "        for i in range(len(data)):\n",
    "                # generate source sequence\n",
    "                source = data[i]\n",
    "                # define padded target sequence\n",
    "                target = y_data[i]\n",
    "                # create padded input target sequence\n",
    "                target_in = [0] + target[:-1]\n",
    "                # encode\n",
    "                src_encoded = to_categorical([source], num_classes=cardinality)\n",
    "                tar_encoded = to_categorical([target], num_classes=cardinality)\n",
    "                tar2_encoded = to_categorical([target_in], num_classes=cardinality)\n",
    "                # store\n",
    "                X1.append(src_encoded)\n",
    "                X2.append(tar2_encoded)\n",
    "                y.append(tar_encoded)\n",
    "        X1 = np.squeeze(array(X1), axis=1) \n",
    "        X2 = np.squeeze(array(X2), axis=1) \n",
    "        y = np.squeeze(array(y), axis=1) \n",
    "        return X1, X2, y\n",
    "\n",
    "def get_dataset_with_index(n_in, n_out, cardinality, data, i):\n",
    "        X1, X2, y = list(), list(), list()\n",
    "        data, y_data = splitSequence(data, n_in)\n",
    "        # for i in range(len(data)):\n",
    "        # generate source sequence\n",
    "        source = data[i]\n",
    "        # define padded target sequence\n",
    "        target = y_data[i]\n",
    "        # create padded input target sequence\n",
    "        target_in = [0] + target[:-1]\n",
    "        # encode\n",
    "        src_encoded = to_categorical([source], num_classes=cardinality)\n",
    "        tar_encoded = to_categorical([target], num_classes=cardinality)\n",
    "        tar2_encoded = to_categorical([target_in], num_classes=cardinality)\n",
    "        # store\n",
    "        X1.append(src_encoded)\n",
    "        X2.append(tar2_encoded)\n",
    "        y.append(tar_encoded)\n",
    "        X1 = np.squeeze(array(X1), axis=1) \n",
    "        X2 = np.squeeze(array(X2), axis=1) \n",
    "        y = np.squeeze(array(y), axis=1) \n",
    "        return X1, X2, y\n",
    "\n",
    "# returns train, inference_encoder and inference_decoder models\n",
    "def define_models(n_input, n_output, n_units):\n",
    "\t# define training encoder\n",
    "\tencoder_inputs = Input(shape=(None, n_input))\n",
    "\tencoder = LSTM(n_units, return_state=True)\n",
    "\tencoder_outputs, state_h, state_c = encoder(encoder_inputs)\n",
    "\tencoder_states = [state_h, state_c]\n",
    "\t# define training decoder\n",
    "\tdecoder_inputs = Input(shape=(None, n_output))\n",
    "\tdecoder_lstm = LSTM(n_units, return_sequences=True, return_state=True)\n",
    "\tdecoder_outputs, _, _ = decoder_lstm(decoder_inputs, initial_state=encoder_states)\n",
    "\tdecoder_dense = Dense(n_output, activation='softmax')\n",
    "\tdecoder_outputs = decoder_dense(decoder_outputs)\n",
    "\tmodel = Model([encoder_inputs, decoder_inputs], decoder_outputs)\n",
    "\t# define inference encoder\n",
    "\tencoder_model = Model(encoder_inputs, encoder_states)\n",
    "\t# define inference decoder\n",
    "\tdecoder_state_input_h = Input(shape=(n_units,))\n",
    "\tdecoder_state_input_c = Input(shape=(n_units,))\n",
    "\tdecoder_states_inputs = [decoder_state_input_h, decoder_state_input_c]\n",
    "\tdecoder_outputs, state_h, state_c = decoder_lstm(decoder_inputs, initial_state=decoder_states_inputs)\n",
    "\tdecoder_states = [state_h, state_c]\n",
    "\tdecoder_outputs = decoder_dense(decoder_outputs)\n",
    "\tdecoder_model = Model([decoder_inputs] + decoder_states_inputs, [decoder_outputs] + decoder_states)\n",
    "\t# return all models\n",
    "\treturn model, encoder_model, decoder_model\n",
    " \n",
    "# generate target given source sequence\n",
    "def predict_sequence(infenc, infdec, source, n_steps, cardinality):\n",
    "\t# encode\n",
    "\tstate = infenc.predict(source, verbose=0)\n",
    "\t# start of sequence input\n",
    "\ttarget_seq = array([0.0 for _ in range(cardinality)]).reshape(1, 1, cardinality)\n",
    "\t# collect predictions\n",
    "\toutput = list()\n",
    "\tfor t in range(n_steps):\n",
    "\t\t# predict next char\n",
    "\t\tyhat, h, c = infdec.predict([target_seq] + state, verbose=0)\n",
    "\t\t# store prediction\n",
    "\t\toutput.append(yhat[0,0,:])\n",
    "\t\t# update state\n",
    "\t\tstate = [h, c]\n",
    "\t\t# update target sequence\n",
    "\t\ttarget_seq = yhat\n",
    "\treturn array(output)\n",
    " \n",
    "# decode a one hot encoded string\n",
    "def one_hot_decode(encoded_seq):\n",
    "\treturn [argmax(vector) for vector in encoded_seq]\n",
    "\n",
    "def has_common_data(list1, list2):\n",
    "    result = False\n",
    "  \n",
    "    # traverse in the 1st list\n",
    "    for x in list1:\n",
    "  \n",
    "        # traverse in the 2nd list\n",
    "        for y in list2:\n",
    "    \n",
    "            # if one common\n",
    "            if x == y:\n",
    "                result = True\n",
    "                return result \n",
    "                  \n",
    "    return result\n",
    "\n",
    "# configure problem\n",
    "n_features = 38 + 1\n",
    "n_steps_in = 6\n",
    "n_steps_out = 2\n",
    "# define model\n",
    "train, infenc, infdec = define_models(n_features, n_features, 128)\n",
    "train.compile(optimizer='adam', loss='mse', metrics=['accuracy', 'mse', 'mae', 'mape'])\n",
    "# generate training dataset\n",
    "X1, X2, y = get_dataset(n_steps_in, n_steps_out, n_features, x_train)\n",
    "print(X1.shape,X2.shape,y.shape)\n",
    "# train model\n",
    "train.fit([X1, X2], y, epochs=10)"
   ]
  },
  {
   "cell_type": "code",
   "execution_count": 199,
   "metadata": {},
   "outputs": [
    {
     "data": {
      "text/plain": [
       "4885"
      ]
     },
     "execution_count": 199,
     "metadata": {},
     "output_type": "execute_result"
    }
   ],
   "source": [
    "total, correct = len(x_test), 0\n",
    "total"
   ]
  },
  {
   "cell_type": "code",
   "execution_count": 200,
   "metadata": {},
   "outputs": [
    {
     "name": "stdout",
     "output_type": "stream",
     "text": [
      "Accuracy considering equal: 15.01%\n",
      "Accuracy considering at-least one in common: 61.62%\n"
     ]
    }
   ],
   "source": [
    "# evaluate LSTM\n",
    "total, correctEqual, correctOne = len(test), 0, 0\n",
    "for i in range(total):\n",
    "\tX1, X2, y = get_dataset_with_index(n_steps_in, n_steps_out, n_features, x_test, i)\n",
    "\ttarget = predict_sequence(infenc, infdec, X1, n_steps_out, n_features)\n",
    "\t# print test target and predicted\n",
    "\t# print('y=%s, yhat=%s' % (one_hot_decode(y[0]), one_hot_decode(target)))\n",
    "\tif has_common_data(one_hot_decode(y[0]), one_hot_decode(target)):\n",
    "\t\tcorrectOne += 1\n",
    "\tif array_equal(one_hot_decode(y[0]), one_hot_decode(target)):\n",
    "\t\tcorrectEqual += 1\n",
    "print('Accuracy considering equal: %.2f%%' % (float(correctEqual)/float( len(test))*100.0))\n",
    "print('Accuracy considering at-least one in common: %.2f%%' % (float(correctOne)/float( len(test))*100.0))"
   ]
  },
  {
   "cell_type": "code",
   "execution_count": 201,
   "metadata": {},
   "outputs": [
    {
     "name": "stdout",
     "output_type": "stream",
     "text": [
      "X=[19, 1, 2, 1, 24, 2] y=[20, 3], yhat=[3, 20]\n"
     ]
    }
   ],
   "source": [
    "# spot check some examples\n",
    "validate, y_validate = splitSequence(x_validate, n_in)\n",
    "\n",
    "for i in range(len(validate)):\n",
    "\tX1, X2, y = get_dataset_with_index(n_steps_in, n_steps_out, n_features, x_validate, i)\n",
    "\ttarget = predict_sequence(infenc, infdec, X1, n_steps_out, n_features)\n",
    "\tprint('X=%s y=%s, yhat=%s' % (one_hot_decode(X1[0]), one_hot_decode(y[0]), one_hot_decode(target)))"
   ]
  }
 ],
 "metadata": {
  "kernelspec": {
   "display_name": "Python 3.7.7 64-bit",
   "language": "python",
   "name": "python3"
  },
  "language_info": {
   "codemirror_mode": {
    "name": "ipython",
    "version": 3
   },
   "file_extension": ".py",
   "mimetype": "text/x-python",
   "name": "python",
   "nbconvert_exporter": "python",
   "pygments_lexer": "ipython3",
   "version": "3.7.7"
  },
  "orig_nbformat": 4,
  "vscode": {
   "interpreter": {
    "hash": "11bbcf57d79407485a8d65c6cc737ca9d49c6f1d1b34c1ae2a5e6f49b42ea89b"
   }
  }
 },
 "nbformat": 4,
 "nbformat_minor": 2
}

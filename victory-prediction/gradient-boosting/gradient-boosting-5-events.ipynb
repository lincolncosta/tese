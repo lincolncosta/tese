{
 "cells": [
  {
   "cell_type": "code",
   "execution_count": null,
   "metadata": {},
   "outputs": [],
   "source": [
    "import pandas as pd\n",
    "import numpy as np\n",
    "\n",
    "from sklearn.model_selection import train_test_split, GridSearchCV\n",
    "from sklearn.preprocessing import StandardScaler\n",
    "from sklearn.metrics import balanced_accuracy_score,precision_score,recall_score,f1_score, roc_auc_score"
   ]
  },
  {
   "cell_type": "code",
   "execution_count": null,
   "metadata": {},
   "outputs": [],
   "source": [
    "df = pd.read_csv('../../data/crawler/unified-events-statistics.csv')\n",
    "df = df.replace(['BLUE: first_blood',\n",
    "    'BLUE: dragon',\n",
    "    'BLUE: herald',\n",
    "    'BLUE: first_tower_top',\n",
    "    'BLUE: first_tower_mid',\n",
    "    'BLUE: first_tower_bot',\n",
    "    'BLUE: second_tower_top',\n",
    "    'BLUE: second_tower_mid',\n",
    "    'BLUE: second_tower_bot',\n",
    "    'BLUE: third_tower_top',\n",
    "    'BLUE: third_tower_mid',\n",
    "    'BLUE: third_tower_bot',\n",
    "    'BLUE: inhibitor_top',\n",
    "    'BLUE: inhibitor_mid',\n",
    "    'BLUE: inhibitor_bot',\n",
    "    'BLUE: baron',\n",
    "    'BLUE: elder_dragon',\n",
    "    'BLUE: nexus_tower',\n",
    "    'BLUE: nexus',\n",
    "    'RED: first_blood',\n",
    "    'RED: dragon',\n",
    "    'RED: herald',\n",
    "    'RED: first_tower_top',\n",
    "    'RED: first_tower_mid',\n",
    "    'RED: first_tower_bot',\n",
    "    'RED: second_tower_top',\n",
    "    'RED: second_tower_mid',\n",
    "    'RED: second_tower_bot',\n",
    "    'RED: third_tower_top',\n",
    "    'RED: third_tower_mid',\n",
    "    'RED: third_tower_bot',\n",
    "    'RED: inhibitor_top',\n",
    "    'RED: inhibitor_mid',\n",
    "    'RED: inhibitor_bot',\n",
    "    'RED: baron',\n",
    "    'RED: elder_dragon',\n",
    "    'RED: nexus_tower',\n",
    "    'RED: nexus'], range(38))\n",
    "df"
   ]
  },
  {
   "cell_type": "code",
   "execution_count": null,
   "metadata": {},
   "outputs": [],
   "source": [
    "y = df['result'].copy()\n",
    "X = df.drop(['golId','result','game','event6','event7','event8','event9','event10','event11','event12','event13','event14','event15','event16','event17','event18','event19','event20','event21','event22','event23','event24','event25','event26','event27','event28','event29','event30','event31','event32','event33','event34','event35','event36','event37','event38','event39','event40','event41','event42','event43','event44','event45'],axis=1)\n",
    "X"
   ]
  },
  {
   "cell_type": "code",
   "execution_count": null,
   "metadata": {},
   "outputs": [],
   "source": [
    "def preprocess_input(X,y):\n",
    "    X = X.copy()\n",
    "    X_train,X_test,y_train,y_test = train_test_split(X,y,train_size=0.8,random_state=42, stratify=y)\n",
    "    scaler = StandardScaler()   \n",
    "    scaler.fit(X_train)\n",
    "    X_train = scaler.transform(X_train)\n",
    "    X_test = scaler.transform(X_test)\n",
    "    return X_train,X_test,y_train,y_test\n",
    "X_train,X_test,y_train,y_test = preprocess_input(X,y)"
   ]
  },
  {
   "cell_type": "code",
   "execution_count": null,
   "metadata": {},
   "outputs": [],
   "source": [
    "from sklearn.ensemble import GradientBoostingClassifier\n",
    "from sklearn.model_selection import GridSearchCV\n",
    "\n",
    "parameters = {\n",
    "    \"loss\":[\"deviance\",\"log_loss\",\"exponential\"],\n",
    "    \"learning_rate\": [0.025,0.05,0.1],\n",
    "    \"min_samples_split\": [1,3,8],\n",
    "    \"min_samples_leaf\": [1,3,8],\n",
    "    \"max_depth\":[1,3,5,8],\n",
    "    \"max_features\":[\"log2\",\"auto\",\"sqrt\"],\n",
    "    \"criterion\": [\"friedman_mse\",\"squared_error\", \"mse\"],\n",
    "    \"subsample\":[0.1,0.5,1.0],\n",
    "    \"n_estimators\":[10,100,200,300]\n",
    "    }\n",
    "\n",
    "gbc = GradientBoostingClassifier(random_state=42)\n",
    "\n",
    "cv = GridSearchCV(gbc,parameters,cv=3, n_jobs=-1)\n",
    "cv.fit(X_train,y_train)"
   ]
  },
  {
   "cell_type": "code",
   "execution_count": null,
   "metadata": {},
   "outputs": [],
   "source": [
    "def display(results):\n",
    "    print(f'Best parameters are: {results.best_params_}')\n",
    "    print(\"\\n\")\n",
    "    mean_score = results.cv_results_['mean_test_score']\n",
    "    std_score = results.cv_results_['std_test_score']\n",
    "    params = results.cv_results_['params']\n",
    "    for mean,std,params in zip(mean_score,std_score,params):\n",
    "        print(f'{round(mean,3)} + or -{round(std,3)} for the {params}')"
   ]
  },
  {
   "cell_type": "code",
   "execution_count": null,
   "metadata": {},
   "outputs": [],
   "source": [
    "display(cv)"
   ]
  },
  {
   "cell_type": "code",
   "execution_count": null,
   "metadata": {},
   "outputs": [],
   "source": [
    "gbOpt= GradientBoostingClassifier(random_state=42,criterion='friedman_mse',learning_rate=0.025,loss='deviance',max_depth=3,max_features='log2',min_samples_leaf=1,min_samples_split=2, n_estimators=60,subsample=1.0)\n",
    "gbOpt.fit(X_train, y_train)\n",
    "\n",
    "scores_list = []\n",
    "scores_list.append({\n",
    "    'Balanced Accuracy': balanced_accuracy_score(y_test,gbOpt.predict(X_test)),\n",
    "    'Precision':  precision_score(y_test,gbOpt.predict(X_test)),\n",
    "    'Recall': recall_score(y_test,gbOpt.predict(X_test)),\n",
    "    'F1-Score': f1_score(y_test,gbOpt.predict(X_test)),\n",
    "    'ROC/AUC Score': roc_auc_score(y_test,gbOpt.predict(X_test))\n",
    "})\n",
    "scores = pd.DataFrame(scores_list)"
   ]
  },
  {
   "cell_type": "code",
   "execution_count": null,
   "metadata": {},
   "outputs": [],
   "source": [
    "scores"
   ]
  }
 ],
 "metadata": {
  "kernelspec": {
   "display_name": "Python 3.7.7 64-bit",
   "language": "python",
   "name": "python3"
  },
  "language_info": {
   "codemirror_mode": {
    "name": "ipython",
    "version": 3
   },
   "file_extension": ".py",
   "mimetype": "text/x-python",
   "name": "python",
   "nbconvert_exporter": "python",
   "pygments_lexer": "ipython3",
   "version": "3.7.7"
  },
  "orig_nbformat": 4,
  "vscode": {
   "interpreter": {
    "hash": "11bbcf57d79407485a8d65c6cc737ca9d49c6f1d1b34c1ae2a5e6f49b42ea89b"
   }
  }
 },
 "nbformat": 4,
 "nbformat_minor": 2
}

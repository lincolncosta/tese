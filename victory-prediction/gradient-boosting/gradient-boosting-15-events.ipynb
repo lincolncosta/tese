{
 "cells": [
  {
   "cell_type": "code",
   "execution_count": null,
   "source": [
    "import pandas as pd\r\n",
    "import numpy as np\r\n",
    "\r\n",
    "from sklearn.model_selection import train_test_split, GridSearchCV\r\n",
    "from sklearn.preprocessing import StandardScaler\r\n",
    "from sklearn.metrics import balanced_accuracy_score,precision_score,recall_score,f1_score, roc_auc_score"
   ],
   "outputs": [],
   "metadata": {}
  },
  {
   "cell_type": "code",
   "execution_count": null,
   "source": [
    "df = pd.read_csv('../data/crawler/unified-events-statistics.csv')\r\n",
    "def qtd_eventos(integer):\r\n",
    "    return 45 - integer\r\n",
    "\r\n",
    "qtd_eventos = list(map(qtd_eventos, df.isnull().sum(axis=1).tolist()))\r\n",
    "df['qtd_eventos'] = qtd_eventos\r\n",
    "df = df[df.qtd_eventos > 15]\r\n",
    "df = df.replace(['BLUE: first_blood',\r\n",
    "    'BLUE: dragon',\r\n",
    "    'BLUE: herald',\r\n",
    "    'BLUE: first_tower_top',\r\n",
    "    'BLUE: first_tower_mid',\r\n",
    "    'BLUE: first_tower_bot',\r\n",
    "    'BLUE: second_tower_top',\r\n",
    "    'BLUE: second_tower_mid',\r\n",
    "    'BLUE: second_tower_bot',\r\n",
    "    'BLUE: third_tower_top',\r\n",
    "    'BLUE: third_tower_mid',\r\n",
    "    'BLUE: third_tower_bot',\r\n",
    "    'BLUE: inhibitor_top',\r\n",
    "    'BLUE: inhibitor_mid',\r\n",
    "    'BLUE: inhibitor_bot',\r\n",
    "    'BLUE: baron',\r\n",
    "    'BLUE: elder_dragon',\r\n",
    "    'BLUE: nexus_tower',\r\n",
    "    'BLUE: nexus',\r\n",
    "    'RED: first_blood',\r\n",
    "    'RED: dragon',\r\n",
    "    'RED: herald',\r\n",
    "    'RED: first_tower_top',\r\n",
    "    'RED: first_tower_mid',\r\n",
    "    'RED: first_tower_bot',\r\n",
    "    'RED: second_tower_top',\r\n",
    "    'RED: second_tower_mid',\r\n",
    "    'RED: second_tower_bot',\r\n",
    "    'RED: third_tower_top',\r\n",
    "    'RED: third_tower_mid',\r\n",
    "    'RED: third_tower_bot',\r\n",
    "    'RED: inhibitor_top',\r\n",
    "    'RED: inhibitor_mid',\r\n",
    "    'RED: inhibitor_bot',\r\n",
    "    'RED: baron',\r\n",
    "    'RED: elder_dragon',\r\n",
    "    'RED: nexus_tower',\r\n",
    "    'RED: nexus'], range(38))\r\n",
    "df"
   ],
   "outputs": [],
   "metadata": {}
  },
  {
   "cell_type": "code",
   "execution_count": null,
   "source": [
    "y = df['result'].copy()\r\n",
    "X = df.drop(['golId','result','game','event11','event12','event13','event14','event15','event16','event17','event18','event19','event20','event21','event22','event23','event24','event25','event26','event27','event28','event29','event30','event31','event32','event33','event34','event35','event36','event37','event38','event39','event40','event41','event42','event43','event44','event45'],axis=1)\r\n",
    "X"
   ],
   "outputs": [],
   "metadata": {}
  },
  {
   "cell_type": "code",
   "execution_count": null,
   "source": [
    "def preprocess_input(X,y):\r\n",
    "    X = X.copy()\r\n",
    "    X_train,X_test,y_train,y_test = train_test_split(X,y,train_size=0.8,random_state=42, stratify=y)\r\n",
    "    scaler = StandardScaler()   \r\n",
    "    scaler.fit(X_train)\r\n",
    "    X_train = scaler.transform(X_train)\r\n",
    "    X_test = scaler.transform(X_test)\r\n",
    "    return X_train,X_test,y_train,y_test\r\n",
    "X_train,X_test,y_train,y_test = preprocess_input(X,y)"
   ],
   "outputs": [],
   "metadata": {}
  },
  {
   "cell_type": "code",
   "execution_count": null,
   "source": [
    "from sklearn.ensemble import GradientBoostingClassifier\r\n",
    "from sklearn.model_selection import GridSearchCV\r\n",
    "\r\n",
    "parameters = {\r\n",
    "    \"loss\":[\"deviance\",\"log_loss\",\"exponential\"],\r\n",
    "    \"learning_rate\": [0.025,0.05,0.1],\r\n",
    "    \"min_samples_split\": [1,3,8],\r\n",
    "    \"min_samples_leaf\": [1,3,8],\r\n",
    "    \"max_depth\":[1,3,5,8],\r\n",
    "    \"max_features\":[\"log2\",\"auto\",\"sqrt\"],\r\n",
    "    \"criterion\": [\"friedman_mse\",\"squared_error\", \"mse\"],\r\n",
    "    \"subsample\":[0.1,0.5,1.0],\r\n",
    "    \"n_estimators\":[10,100,200,300]\r\n",
    "    }\r\n",
    "\r\n",
    "gbc = GradientBoostingClassifier(random_state=42)\r\n",
    "\r\n",
    "cv = GridSearchCV(gbc,parameters,cv=3, n_jobs=-1)\r\n",
    "cv.fit(X_train,y_train)"
   ],
   "outputs": [],
   "metadata": {}
  },
  {
   "cell_type": "code",
   "execution_count": null,
   "source": [
    "def display(results):\n",
    "    print(f'Best parameters are: {results.best_params_}')\n",
    "    print(\"\\n\")\n",
    "    mean_score = results.cv_results_['mean_test_score']\n",
    "    std_score = results.cv_results_['std_test_score']\n",
    "    params = results.cv_results_['params']\n",
    "    for mean,std,params in zip(mean_score,std_score,params):\n",
    "        print(f'{round(mean,3)} + or -{round(std,3)} for the {params}')"
   ],
   "outputs": [],
   "metadata": {}
  },
  {
   "cell_type": "code",
   "execution_count": null,
   "source": [
    "display(cv)"
   ],
   "outputs": [],
   "metadata": {}
  },
  {
   "cell_type": "code",
   "execution_count": null,
   "source": [
    "gbOpt= GradientBoostingClassifier(random_state=42,criterion='friedman_mse',learning_rate=0.025,loss='deviance',max_depth=3,max_features='log2',min_samples_leaf=1,min_samples_split=2, n_estimators=60,subsample=1.0)\n",
    "gbOpt.fit(X_train, y_train)\n",
    "\n",
    "scores_list = []\n",
    "scores_list.append({\n",
    "    'Balanced Accuracy': balanced_accuracy_score(y_test,gbOpt.predict(X_test)),\n",
    "    'Precision':  precision_score(y_test,gbOpt.predict(X_test)),\n",
    "    'Recall': recall_score(y_test,gbOpt.predict(X_test)),\n",
    "    'F1-Score': f1_score(y_test,gbOpt.predict(X_test)),\n",
    "    'ROC/AUC Score': roc_auc_score(y_test,gbOpt.predict(X_test))\n",
    "})\n",
    "scores = pd.DataFrame(scores_list)"
   ],
   "outputs": [],
   "metadata": {}
  },
  {
   "cell_type": "code",
   "execution_count": null,
   "source": [
    "scores"
   ],
   "outputs": [],
   "metadata": {}
  }
 ],
 "metadata": {
  "kernelspec": {
   "display_name": "Python 3.7.7 64-bit",
   "language": "python",
   "name": "python3"
  },
  "language_info": {
   "codemirror_mode": {
    "name": "ipython",
    "version": 3
   },
   "file_extension": ".py",
   "mimetype": "text/x-python",
   "name": "python",
   "nbconvert_exporter": "python",
   "pygments_lexer": "ipython3",
   "version": "3.7.7"
  },
  "orig_nbformat": 4,
  "vscode": {
   "interpreter": {
    "hash": "11bbcf57d79407485a8d65c6cc737ca9d49c6f1d1b34c1ae2a5e6f49b42ea89b"
   }
  }
 },
 "nbformat": 4,
 "nbformat_minor": 2
}